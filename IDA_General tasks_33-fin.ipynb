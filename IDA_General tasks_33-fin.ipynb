{
 "cells": [
  {
   "cell_type": "markdown",
   "id": "0c0f802b-0e0c-4374-8235-25a6a98ba273",
   "metadata": {},
   "source": [
    " <h1> General tasks "
   ]
  },
  {
   "cell_type": "markdown",
   "id": "d31f07f2",
   "metadata": {},
   "source": [
    "## Table of Contents\n",
    "\n",
    "1. [Introduction](#Introduction)\n",
    "2. [Logistics and Product Development in the Automobile Industry](#Logistics-Products)\n",
    "3. [Data Storage in Separate Files](#Separate-files)\n",
    "4. [Parts T16 in Registered Vehicles](#adelshofen)\n",
    "5. [Attributes of the Registration Table](#data-types)\n",
    "5. [Linear Model for Mileage](#linear-visualization)\n",
    "7. [Hit and Run Accident Investigation](#hit-and-run)"
   ]
  },
  {
   "cell_type": "markdown",
   "id": "3d938f1e",
   "metadata": {},
   "source": [
    "## Introduction\n",
    "<a id=\"Introduction\"></a>"
   ]
  },
  {
   "cell_type": "markdown",
   "id": "77e5f85a",
   "metadata": {},
   "source": [
    "<H3> Loading all necessary Libraries"
   ]
  },
  {
   "cell_type": "code",
   "execution_count": 5,
   "id": "3e0f4c12-e4b3-416b-b784-f9be2a0ed00a",
   "metadata": {},
   "outputs": [],
   "source": [
    "# Import necessary libraries and packages\n",
    "import pandas as pd\n",
    "import numpy as np\n",
    "import matplotlib.pyplot as plt\n",
    "import plotly.express as px\n",
    "import plotly.graph_objects as go\n",
    "import plotly.figure_factory as ff\n",
    "from sklearn.linear_model import LinearRegression\n",
    "from sklearn.model_selection import train_test_split\n",
    "from sklearn.metrics import mean_squared_error\n",
    "from sklearn.tree import DecisionTreeClassifier\n",
    "from sklearn import tree\n",
    "import seaborn as sns\n",
    "from sklearn.model_selection import train_test_split\n",
    "from sklearn.linear_model import LinearRegression\n",
    "from sklearn.metrics import mean_squared_error, r2_score\n",
    "from scipy import stats\n",
    "from sklearn.cluster import KMeans\n",
    "\n",
    "\n",
    "import warnings\n",
    "warnings.simplefilter(action='ignore', category=FutureWarning)"
   ]
  },
  {
   "cell_type": "markdown",
   "id": "68451e8f-01e7-4637-a580-c0c7fa71a4ae",
   "metadata": {},
   "source": [
    "<h3>Function to read txt data files and convert them to proper csv files : "
   ]
  },
  {
   "cell_type": "markdown",
   "id": "18a16c09",
   "metadata": {},
   "source": [
    "1. txtFile: input filename (including directory if applicable)\n",
    "2. csvFile: output filename (including directory if applicable)\n",
    "3. vtabchar: vertical tab character in the original file (to be replaced with newline command '\\n')\n",
    "4.  delim: delimiter character used in the original file (to be replaced with comma)"
   ]
  },
  {
   "cell_type": "code",
   "execution_count": 12,
   "id": "dc528d97-c7d2-4a3b-b7c8-3f70f25ec12a",
   "metadata": {},
   "outputs": [],
   "source": [
    "def txt2csv(txtFile, csvFile, vtabchar, delim):\n",
    "    with open(txtFile, 'r') as file:\n",
    "        data = file.read().replace(vtabchar, '\\n').replace(delim, ',')\n",
    "    with open(csvFile, 'w') as file:\n",
    "        file.write(data)    \n",
    "    return"
   ]
  },
  {
   "cell_type": "markdown",
   "id": "67c71d42-8e6a-4da6-9441-7ca168c1c616",
   "metadata": {},
   "source": [
    "<h3> Define the file paths"
   ]
  },
  {
   "cell_type": "code",
   "execution_count": 8,
   "id": "aa710ad2-21d5-49d2-8986-6f12555ceae6",
   "metadata": {},
   "outputs": [],
   "source": [
    "txt_file_path = \"Einzelteil_T16.txt\"\n",
    "csv_file_path = \"Einzelteil_T16.csv\""
   ]
  },
  {
   "cell_type": "code",
   "execution_count": 13,
   "id": "be45968f-762c-46cc-ba2c-3d57bc1c0e9a",
   "metadata": {
    "scrolled": true
   },
   "outputs": [],
   "source": [
    "txt2csv(txt_file_path, csv_file_path, '\t',  ' | | ')"
   ]
  },
  {
   "cell_type": "markdown",
   "id": "820f99cb-d9b4-4572-aa66-beaaa297a633",
   "metadata": {},
   "source": [
    "<h3> Load all relevant Files"
   ]
  },
  {
   "cell_type": "code",
   "execution_count": 14,
   "id": "249826c0-bff4-4d67-8b6f-bba8efe7a1de",
   "metadata": {},
   "outputs": [
    {
     "data": {
      "text/html": [
       "<div>\n",
       "<style scoped>\n",
       "    .dataframe tbody tr th:only-of-type {\n",
       "        vertical-align: middle;\n",
       "    }\n",
       "\n",
       "    .dataframe tbody tr th {\n",
       "        vertical-align: top;\n",
       "    }\n",
       "\n",
       "    .dataframe thead th {\n",
       "        text-align: right;\n",
       "    }\n",
       "</style>\n",
       "<table border=\"1\" class=\"dataframe\">\n",
       "  <thead>\n",
       "    <tr style=\"text-align: right;\">\n",
       "      <th></th>\n",
       "      <th>X1</th>\n",
       "      <th>ID_T16.x</th>\n",
       "      <th>Produktionsdatum.x</th>\n",
       "      <th>Herstellernummer.x</th>\n",
       "      <th>Werksnummer.x</th>\n",
       "      <th>Fehlerhaft.x</th>\n",
       "      <th>Fehlerhaft_Datum.x</th>\n",
       "      <th>Fehlerhaft_Fahrleistung.x</th>\n",
       "      <th>ID_T16.y</th>\n",
       "      <th>Produktionsdatum.y</th>\n",
       "      <th>...</th>\n",
       "      <th>Fehlerhaft.y</th>\n",
       "      <th>Fehlerhaft_Datum.y</th>\n",
       "      <th>Fehlerhaft_Fahrleistung.y</th>\n",
       "      <th>ID_T16</th>\n",
       "      <th>Produktionsdatum</th>\n",
       "      <th>Herstellernummer</th>\n",
       "      <th>Werksnummer</th>\n",
       "      <th>Fehlerhaft</th>\n",
       "      <th>Fehlerhaft_Datum</th>\n",
       "      <th>Fehlerhaft_Fahrleistung</th>\n",
       "    </tr>\n",
       "  </thead>\n",
       "  <tbody>\n",
       "    <tr>\n",
       "      <th>1</th>\n",
       "      <td>1</td>\n",
       "      <td>16-212-2121-7</td>\n",
       "      <td>2008-11-07</td>\n",
       "      <td>212.0</td>\n",
       "      <td>2121.0</td>\n",
       "      <td>0.0</td>\n",
       "      <td>NaN</td>\n",
       "      <td>0.0</td>\n",
       "      <td>NaN</td>\n",
       "      <td>NaN</td>\n",
       "      <td>...</td>\n",
       "      <td>NaN</td>\n",
       "      <td>NaN</td>\n",
       "      <td>NaN</td>\n",
       "      <td>NaN</td>\n",
       "      <td>NaN</td>\n",
       "      <td>NaN</td>\n",
       "      <td>NaN</td>\n",
       "      <td>NaN</td>\n",
       "      <td>NaN</td>\n",
       "      <td>NaN</td>\n",
       "    </tr>\n",
       "    <tr>\n",
       "      <th>2</th>\n",
       "      <td>2</td>\n",
       "      <td>16-212-2122-41</td>\n",
       "      <td>2008-11-08</td>\n",
       "      <td>212.0</td>\n",
       "      <td>2122.0</td>\n",
       "      <td>0.0</td>\n",
       "      <td>NaN</td>\n",
       "      <td>0.0</td>\n",
       "      <td>NaN</td>\n",
       "      <td>NaN</td>\n",
       "      <td>...</td>\n",
       "      <td>NaN</td>\n",
       "      <td>NaN</td>\n",
       "      <td>NaN</td>\n",
       "      <td>NaN</td>\n",
       "      <td>NaN</td>\n",
       "      <td>NaN</td>\n",
       "      <td>NaN</td>\n",
       "      <td>NaN</td>\n",
       "      <td>NaN</td>\n",
       "      <td>NaN</td>\n",
       "    </tr>\n",
       "    <tr>\n",
       "      <th>3</th>\n",
       "      <td>5</td>\n",
       "      <td>16-212-2121-36</td>\n",
       "      <td>2008-11-07</td>\n",
       "      <td>212.0</td>\n",
       "      <td>2121.0</td>\n",
       "      <td>0.0</td>\n",
       "      <td>NaN</td>\n",
       "      <td>0.0</td>\n",
       "      <td>NaN</td>\n",
       "      <td>NaN</td>\n",
       "      <td>...</td>\n",
       "      <td>NaN</td>\n",
       "      <td>NaN</td>\n",
       "      <td>NaN</td>\n",
       "      <td>NaN</td>\n",
       "      <td>NaN</td>\n",
       "      <td>NaN</td>\n",
       "      <td>NaN</td>\n",
       "      <td>NaN</td>\n",
       "      <td>NaN</td>\n",
       "      <td>NaN</td>\n",
       "    </tr>\n",
       "    <tr>\n",
       "      <th>4</th>\n",
       "      <td>10</td>\n",
       "      <td>16-212-2122-20</td>\n",
       "      <td>2008-11-07</td>\n",
       "      <td>212.0</td>\n",
       "      <td>2122.0</td>\n",
       "      <td>0.0</td>\n",
       "      <td>NaN</td>\n",
       "      <td>0.0</td>\n",
       "      <td>NaN</td>\n",
       "      <td>NaN</td>\n",
       "      <td>...</td>\n",
       "      <td>NaN</td>\n",
       "      <td>NaN</td>\n",
       "      <td>NaN</td>\n",
       "      <td>NaN</td>\n",
       "      <td>NaN</td>\n",
       "      <td>NaN</td>\n",
       "      <td>NaN</td>\n",
       "      <td>NaN</td>\n",
       "      <td>NaN</td>\n",
       "      <td>NaN</td>\n",
       "    </tr>\n",
       "    <tr>\n",
       "      <th>5</th>\n",
       "      <td>12</td>\n",
       "      <td>16-212-2122-33</td>\n",
       "      <td>2008-11-07</td>\n",
       "      <td>212.0</td>\n",
       "      <td>2122.0</td>\n",
       "      <td>0.0</td>\n",
       "      <td>NaN</td>\n",
       "      <td>0.0</td>\n",
       "      <td>NaN</td>\n",
       "      <td>NaN</td>\n",
       "      <td>...</td>\n",
       "      <td>NaN</td>\n",
       "      <td>NaN</td>\n",
       "      <td>NaN</td>\n",
       "      <td>NaN</td>\n",
       "      <td>NaN</td>\n",
       "      <td>NaN</td>\n",
       "      <td>NaN</td>\n",
       "      <td>NaN</td>\n",
       "      <td>NaN</td>\n",
       "      <td>NaN</td>\n",
       "    </tr>\n",
       "  </tbody>\n",
       "</table>\n",
       "<p>5 rows × 22 columns</p>\n",
       "</div>"
      ],
      "text/plain": [
       "   X1        ID_T16.x Produktionsdatum.x  Herstellernummer.x  Werksnummer.x  \\\n",
       "1   1   16-212-2121-7         2008-11-07               212.0         2121.0   \n",
       "2   2  16-212-2122-41         2008-11-08               212.0         2122.0   \n",
       "3   5  16-212-2121-36         2008-11-07               212.0         2121.0   \n",
       "4  10  16-212-2122-20         2008-11-07               212.0         2122.0   \n",
       "5  12  16-212-2122-33         2008-11-07               212.0         2122.0   \n",
       "\n",
       "   Fehlerhaft.x Fehlerhaft_Datum.x  Fehlerhaft_Fahrleistung.x ID_T16.y  \\\n",
       "1           0.0                NaN                        0.0      NaN   \n",
       "2           0.0                NaN                        0.0      NaN   \n",
       "3           0.0                NaN                        0.0      NaN   \n",
       "4           0.0                NaN                        0.0      NaN   \n",
       "5           0.0                NaN                        0.0      NaN   \n",
       "\n",
       "  Produktionsdatum.y  ...  Fehlerhaft.y  Fehlerhaft_Datum.y  \\\n",
       "1                NaN  ...           NaN                 NaN   \n",
       "2                NaN  ...           NaN                 NaN   \n",
       "3                NaN  ...           NaN                 NaN   \n",
       "4                NaN  ...           NaN                 NaN   \n",
       "5                NaN  ...           NaN                 NaN   \n",
       "\n",
       "   Fehlerhaft_Fahrleistung.y ID_T16  Produktionsdatum Herstellernummer  \\\n",
       "1                        NaN    NaN               NaN              NaN   \n",
       "2                        NaN    NaN               NaN              NaN   \n",
       "3                        NaN    NaN               NaN              NaN   \n",
       "4                        NaN    NaN               NaN              NaN   \n",
       "5                        NaN    NaN               NaN              NaN   \n",
       "\n",
       "  Werksnummer  Fehlerhaft  Fehlerhaft_Datum  Fehlerhaft_Fahrleistung  \n",
       "1         NaN         NaN               NaN                      NaN  \n",
       "2         NaN         NaN               NaN                      NaN  \n",
       "3         NaN         NaN               NaN                      NaN  \n",
       "4         NaN         NaN               NaN                      NaN  \n",
       "5         NaN         NaN               NaN                      NaN  \n",
       "\n",
       "[5 rows x 22 columns]"
      ]
     },
     "execution_count": 14,
     "metadata": {},
     "output_type": "execute_result"
    }
   ],
   "source": [
    "Einzelteil = pd.read_csv(csv_file_path,  low_memory=False )\n",
    "Einzelteil.head()"
   ]
  },
  {
   "cell_type": "code",
   "execution_count": 15,
   "id": "7a0e5774-0718-482a-9bc3-0f9d3558c882",
   "metadata": {},
   "outputs": [
    {
     "ename": "FileNotFoundError",
     "evalue": "[Errno 2] No such file or directory: 'Fahrzeuge_OEM1_Typ11_Fehleranalyse.csv'",
     "output_type": "error",
     "traceback": [
      "\u001b[1;31m---------------------------------------------------------------------------\u001b[0m",
      "\u001b[1;31mFileNotFoundError\u001b[0m                         Traceback (most recent call last)",
      "Cell \u001b[1;32mIn[15], line 1\u001b[0m\n\u001b[1;32m----> 1\u001b[0m Fahrzeuge_df \u001b[38;5;241m=\u001b[39m pd\u001b[38;5;241m.\u001b[39mread_csv(\u001b[38;5;124m\"\u001b[39m\u001b[38;5;124mFahrzeuge_OEM1_Typ11_Fehleranalyse.csv\u001b[39m\u001b[38;5;124m\"\u001b[39m)\n\u001b[0;32m      2\u001b[0m Fahrzeuge_df\u001b[38;5;241m.\u001b[39mhead()\n",
      "File \u001b[1;32m~\\anaconda3\\Lib\\site-packages\\pandas\\io\\parsers\\readers.py:1026\u001b[0m, in \u001b[0;36mread_csv\u001b[1;34m(filepath_or_buffer, sep, delimiter, header, names, index_col, usecols, dtype, engine, converters, true_values, false_values, skipinitialspace, skiprows, skipfooter, nrows, na_values, keep_default_na, na_filter, verbose, skip_blank_lines, parse_dates, infer_datetime_format, keep_date_col, date_parser, date_format, dayfirst, cache_dates, iterator, chunksize, compression, thousands, decimal, lineterminator, quotechar, quoting, doublequote, escapechar, comment, encoding, encoding_errors, dialect, on_bad_lines, delim_whitespace, low_memory, memory_map, float_precision, storage_options, dtype_backend)\u001b[0m\n\u001b[0;32m   1013\u001b[0m kwds_defaults \u001b[38;5;241m=\u001b[39m _refine_defaults_read(\n\u001b[0;32m   1014\u001b[0m     dialect,\n\u001b[0;32m   1015\u001b[0m     delimiter,\n\u001b[1;32m   (...)\u001b[0m\n\u001b[0;32m   1022\u001b[0m     dtype_backend\u001b[38;5;241m=\u001b[39mdtype_backend,\n\u001b[0;32m   1023\u001b[0m )\n\u001b[0;32m   1024\u001b[0m kwds\u001b[38;5;241m.\u001b[39mupdate(kwds_defaults)\n\u001b[1;32m-> 1026\u001b[0m \u001b[38;5;28;01mreturn\u001b[39;00m _read(filepath_or_buffer, kwds)\n",
      "File \u001b[1;32m~\\anaconda3\\Lib\\site-packages\\pandas\\io\\parsers\\readers.py:620\u001b[0m, in \u001b[0;36m_read\u001b[1;34m(filepath_or_buffer, kwds)\u001b[0m\n\u001b[0;32m    617\u001b[0m _validate_names(kwds\u001b[38;5;241m.\u001b[39mget(\u001b[38;5;124m\"\u001b[39m\u001b[38;5;124mnames\u001b[39m\u001b[38;5;124m\"\u001b[39m, \u001b[38;5;28;01mNone\u001b[39;00m))\n\u001b[0;32m    619\u001b[0m \u001b[38;5;66;03m# Create the parser.\u001b[39;00m\n\u001b[1;32m--> 620\u001b[0m parser \u001b[38;5;241m=\u001b[39m TextFileReader(filepath_or_buffer, \u001b[38;5;241m*\u001b[39m\u001b[38;5;241m*\u001b[39mkwds)\n\u001b[0;32m    622\u001b[0m \u001b[38;5;28;01mif\u001b[39;00m chunksize \u001b[38;5;129;01mor\u001b[39;00m iterator:\n\u001b[0;32m    623\u001b[0m     \u001b[38;5;28;01mreturn\u001b[39;00m parser\n",
      "File \u001b[1;32m~\\anaconda3\\Lib\\site-packages\\pandas\\io\\parsers\\readers.py:1620\u001b[0m, in \u001b[0;36mTextFileReader.__init__\u001b[1;34m(self, f, engine, **kwds)\u001b[0m\n\u001b[0;32m   1617\u001b[0m     \u001b[38;5;28mself\u001b[39m\u001b[38;5;241m.\u001b[39moptions[\u001b[38;5;124m\"\u001b[39m\u001b[38;5;124mhas_index_names\u001b[39m\u001b[38;5;124m\"\u001b[39m] \u001b[38;5;241m=\u001b[39m kwds[\u001b[38;5;124m\"\u001b[39m\u001b[38;5;124mhas_index_names\u001b[39m\u001b[38;5;124m\"\u001b[39m]\n\u001b[0;32m   1619\u001b[0m \u001b[38;5;28mself\u001b[39m\u001b[38;5;241m.\u001b[39mhandles: IOHandles \u001b[38;5;241m|\u001b[39m \u001b[38;5;28;01mNone\u001b[39;00m \u001b[38;5;241m=\u001b[39m \u001b[38;5;28;01mNone\u001b[39;00m\n\u001b[1;32m-> 1620\u001b[0m \u001b[38;5;28mself\u001b[39m\u001b[38;5;241m.\u001b[39m_engine \u001b[38;5;241m=\u001b[39m \u001b[38;5;28mself\u001b[39m\u001b[38;5;241m.\u001b[39m_make_engine(f, \u001b[38;5;28mself\u001b[39m\u001b[38;5;241m.\u001b[39mengine)\n",
      "File \u001b[1;32m~\\anaconda3\\Lib\\site-packages\\pandas\\io\\parsers\\readers.py:1880\u001b[0m, in \u001b[0;36mTextFileReader._make_engine\u001b[1;34m(self, f, engine)\u001b[0m\n\u001b[0;32m   1878\u001b[0m     \u001b[38;5;28;01mif\u001b[39;00m \u001b[38;5;124m\"\u001b[39m\u001b[38;5;124mb\u001b[39m\u001b[38;5;124m\"\u001b[39m \u001b[38;5;129;01mnot\u001b[39;00m \u001b[38;5;129;01min\u001b[39;00m mode:\n\u001b[0;32m   1879\u001b[0m         mode \u001b[38;5;241m+\u001b[39m\u001b[38;5;241m=\u001b[39m \u001b[38;5;124m\"\u001b[39m\u001b[38;5;124mb\u001b[39m\u001b[38;5;124m\"\u001b[39m\n\u001b[1;32m-> 1880\u001b[0m \u001b[38;5;28mself\u001b[39m\u001b[38;5;241m.\u001b[39mhandles \u001b[38;5;241m=\u001b[39m get_handle(\n\u001b[0;32m   1881\u001b[0m     f,\n\u001b[0;32m   1882\u001b[0m     mode,\n\u001b[0;32m   1883\u001b[0m     encoding\u001b[38;5;241m=\u001b[39m\u001b[38;5;28mself\u001b[39m\u001b[38;5;241m.\u001b[39moptions\u001b[38;5;241m.\u001b[39mget(\u001b[38;5;124m\"\u001b[39m\u001b[38;5;124mencoding\u001b[39m\u001b[38;5;124m\"\u001b[39m, \u001b[38;5;28;01mNone\u001b[39;00m),\n\u001b[0;32m   1884\u001b[0m     compression\u001b[38;5;241m=\u001b[39m\u001b[38;5;28mself\u001b[39m\u001b[38;5;241m.\u001b[39moptions\u001b[38;5;241m.\u001b[39mget(\u001b[38;5;124m\"\u001b[39m\u001b[38;5;124mcompression\u001b[39m\u001b[38;5;124m\"\u001b[39m, \u001b[38;5;28;01mNone\u001b[39;00m),\n\u001b[0;32m   1885\u001b[0m     memory_map\u001b[38;5;241m=\u001b[39m\u001b[38;5;28mself\u001b[39m\u001b[38;5;241m.\u001b[39moptions\u001b[38;5;241m.\u001b[39mget(\u001b[38;5;124m\"\u001b[39m\u001b[38;5;124mmemory_map\u001b[39m\u001b[38;5;124m\"\u001b[39m, \u001b[38;5;28;01mFalse\u001b[39;00m),\n\u001b[0;32m   1886\u001b[0m     is_text\u001b[38;5;241m=\u001b[39mis_text,\n\u001b[0;32m   1887\u001b[0m     errors\u001b[38;5;241m=\u001b[39m\u001b[38;5;28mself\u001b[39m\u001b[38;5;241m.\u001b[39moptions\u001b[38;5;241m.\u001b[39mget(\u001b[38;5;124m\"\u001b[39m\u001b[38;5;124mencoding_errors\u001b[39m\u001b[38;5;124m\"\u001b[39m, \u001b[38;5;124m\"\u001b[39m\u001b[38;5;124mstrict\u001b[39m\u001b[38;5;124m\"\u001b[39m),\n\u001b[0;32m   1888\u001b[0m     storage_options\u001b[38;5;241m=\u001b[39m\u001b[38;5;28mself\u001b[39m\u001b[38;5;241m.\u001b[39moptions\u001b[38;5;241m.\u001b[39mget(\u001b[38;5;124m\"\u001b[39m\u001b[38;5;124mstorage_options\u001b[39m\u001b[38;5;124m\"\u001b[39m, \u001b[38;5;28;01mNone\u001b[39;00m),\n\u001b[0;32m   1889\u001b[0m )\n\u001b[0;32m   1890\u001b[0m \u001b[38;5;28;01massert\u001b[39;00m \u001b[38;5;28mself\u001b[39m\u001b[38;5;241m.\u001b[39mhandles \u001b[38;5;129;01mis\u001b[39;00m \u001b[38;5;129;01mnot\u001b[39;00m \u001b[38;5;28;01mNone\u001b[39;00m\n\u001b[0;32m   1891\u001b[0m f \u001b[38;5;241m=\u001b[39m \u001b[38;5;28mself\u001b[39m\u001b[38;5;241m.\u001b[39mhandles\u001b[38;5;241m.\u001b[39mhandle\n",
      "File \u001b[1;32m~\\anaconda3\\Lib\\site-packages\\pandas\\io\\common.py:873\u001b[0m, in \u001b[0;36mget_handle\u001b[1;34m(path_or_buf, mode, encoding, compression, memory_map, is_text, errors, storage_options)\u001b[0m\n\u001b[0;32m    868\u001b[0m \u001b[38;5;28;01melif\u001b[39;00m \u001b[38;5;28misinstance\u001b[39m(handle, \u001b[38;5;28mstr\u001b[39m):\n\u001b[0;32m    869\u001b[0m     \u001b[38;5;66;03m# Check whether the filename is to be opened in binary mode.\u001b[39;00m\n\u001b[0;32m    870\u001b[0m     \u001b[38;5;66;03m# Binary mode does not support 'encoding' and 'newline'.\u001b[39;00m\n\u001b[0;32m    871\u001b[0m     \u001b[38;5;28;01mif\u001b[39;00m ioargs\u001b[38;5;241m.\u001b[39mencoding \u001b[38;5;129;01mand\u001b[39;00m \u001b[38;5;124m\"\u001b[39m\u001b[38;5;124mb\u001b[39m\u001b[38;5;124m\"\u001b[39m \u001b[38;5;129;01mnot\u001b[39;00m \u001b[38;5;129;01min\u001b[39;00m ioargs\u001b[38;5;241m.\u001b[39mmode:\n\u001b[0;32m    872\u001b[0m         \u001b[38;5;66;03m# Encoding\u001b[39;00m\n\u001b[1;32m--> 873\u001b[0m         handle \u001b[38;5;241m=\u001b[39m \u001b[38;5;28mopen\u001b[39m(\n\u001b[0;32m    874\u001b[0m             handle,\n\u001b[0;32m    875\u001b[0m             ioargs\u001b[38;5;241m.\u001b[39mmode,\n\u001b[0;32m    876\u001b[0m             encoding\u001b[38;5;241m=\u001b[39mioargs\u001b[38;5;241m.\u001b[39mencoding,\n\u001b[0;32m    877\u001b[0m             errors\u001b[38;5;241m=\u001b[39merrors,\n\u001b[0;32m    878\u001b[0m             newline\u001b[38;5;241m=\u001b[39m\u001b[38;5;124m\"\u001b[39m\u001b[38;5;124m\"\u001b[39m,\n\u001b[0;32m    879\u001b[0m         )\n\u001b[0;32m    880\u001b[0m     \u001b[38;5;28;01melse\u001b[39;00m:\n\u001b[0;32m    881\u001b[0m         \u001b[38;5;66;03m# Binary mode\u001b[39;00m\n\u001b[0;32m    882\u001b[0m         handle \u001b[38;5;241m=\u001b[39m \u001b[38;5;28mopen\u001b[39m(handle, ioargs\u001b[38;5;241m.\u001b[39mmode)\n",
      "\u001b[1;31mFileNotFoundError\u001b[0m: [Errno 2] No such file or directory: 'Fahrzeuge_OEM1_Typ11_Fehleranalyse.csv'"
     ]
    }
   ],
   "source": [
    "Fahrzeuge_df = pd.read_csv(\"Fahrzeuge_OEM1_Typ11_Fehleranalyse.csv\")\n",
    "Fahrzeuge_df.head()"
   ]
  },
  {
   "cell_type": "code",
   "execution_count": null,
   "id": "139e3920-c56e-4b53-abb4-0d61fe6f2195",
   "metadata": {},
   "outputs": [],
   "source": [
    "komponente_k7_df = pd.read_csv(\"Komponente_K7.csv\", delimiter=';')\n",
    "komponente_k7_df.head()"
   ]
  },
  {
   "cell_type": "code",
   "execution_count": 16,
   "id": "4ab0e784-7fe1-430d-b29a-bd3ea8824917",
   "metadata": {},
   "outputs": [
    {
     "data": {
      "text/html": [
       "<div>\n",
       "<style scoped>\n",
       "    .dataframe tbody tr th:only-of-type {\n",
       "        vertical-align: middle;\n",
       "    }\n",
       "\n",
       "    .dataframe tbody tr th {\n",
       "        vertical-align: top;\n",
       "    }\n",
       "\n",
       "    .dataframe thead th {\n",
       "        text-align: right;\n",
       "    }\n",
       "</style>\n",
       "<table border=\"1\" class=\"dataframe\">\n",
       "  <thead>\n",
       "    <tr style=\"text-align: right;\">\n",
       "      <th></th>\n",
       "      <th>Unnamed: 0</th>\n",
       "      <th>IDNummer</th>\n",
       "      <th>Wareneingang</th>\n",
       "      <th>Herstellernummer</th>\n",
       "      <th>Werksnummer</th>\n",
       "      <th>Fehlerhaft</th>\n",
       "    </tr>\n",
       "  </thead>\n",
       "  <tbody>\n",
       "    <tr>\n",
       "      <th>0</th>\n",
       "      <td>1</td>\n",
       "      <td>K7-113-1132-153160</td>\n",
       "      <td>2016-11-22</td>\n",
       "      <td>112</td>\n",
       "      <td>1132</td>\n",
       "      <td>0</td>\n",
       "    </tr>\n",
       "    <tr>\n",
       "      <th>1</th>\n",
       "      <td>2</td>\n",
       "      <td>K7-113-1132-153109</td>\n",
       "      <td>2016-11-20</td>\n",
       "      <td>112</td>\n",
       "      <td>1132</td>\n",
       "      <td>0</td>\n",
       "    </tr>\n",
       "    <tr>\n",
       "      <th>2</th>\n",
       "      <td>3</td>\n",
       "      <td>K7-113-1132-153195</td>\n",
       "      <td>2016-11-20</td>\n",
       "      <td>112</td>\n",
       "      <td>1132</td>\n",
       "      <td>0</td>\n",
       "    </tr>\n",
       "    <tr>\n",
       "      <th>3</th>\n",
       "      <td>4</td>\n",
       "      <td>K7-113-1132-153226</td>\n",
       "      <td>2016-11-20</td>\n",
       "      <td>112</td>\n",
       "      <td>1132</td>\n",
       "      <td>0</td>\n",
       "    </tr>\n",
       "    <tr>\n",
       "      <th>4</th>\n",
       "      <td>5</td>\n",
       "      <td>K7-113-1132-153231</td>\n",
       "      <td>2016-11-20</td>\n",
       "      <td>112</td>\n",
       "      <td>1132</td>\n",
       "      <td>0</td>\n",
       "    </tr>\n",
       "  </tbody>\n",
       "</table>\n",
       "</div>"
      ],
      "text/plain": [
       "   Unnamed: 0            IDNummer Wareneingang  Herstellernummer  Werksnummer  \\\n",
       "0           1  K7-113-1132-153160   2016-11-22               112         1132   \n",
       "1           2  K7-113-1132-153109   2016-11-20               112         1132   \n",
       "2           3  K7-113-1132-153195   2016-11-20               112         1132   \n",
       "3           4  K7-113-1132-153226   2016-11-20               112         1132   \n",
       "4           5  K7-113-1132-153231   2016-11-20               112         1132   \n",
       "\n",
       "   Fehlerhaft  \n",
       "0           0  \n",
       "1           0  \n",
       "2           0  \n",
       "3           0  \n",
       "4           0  "
      ]
     },
     "execution_count": 16,
     "metadata": {},
     "output_type": "execute_result"
    }
   ],
   "source": [
    "logistikverzug_df = pd.read_csv(\"Logistikverzug_K7.csv\", delimiter=',')\n",
    "logistikverzug_df.head()"
   ]
  },
  {
   "cell_type": "code",
   "execution_count": 17,
   "id": "ab6e270a-2634-4490-a258-40bff268a445",
   "metadata": {},
   "outputs": [
    {
     "ename": "FileNotFoundError",
     "evalue": "[Errno 2] No such file or directory: 'Zulassungen_alle_Fahrzeuge.csv'",
     "output_type": "error",
     "traceback": [
      "\u001b[1;31m---------------------------------------------------------------------------\u001b[0m",
      "\u001b[1;31mFileNotFoundError\u001b[0m                         Traceback (most recent call last)",
      "Cell \u001b[1;32mIn[17], line 2\u001b[0m\n\u001b[0;32m      1\u001b[0m \u001b[38;5;66;03m# Read file with skipping bad lines\u001b[39;00m\n\u001b[1;32m----> 2\u001b[0m zulassungen_df \u001b[38;5;241m=\u001b[39m pd\u001b[38;5;241m.\u001b[39mread_csv(\u001b[38;5;124m\"\u001b[39m\u001b[38;5;124mZulassungen_alle_Fahrzeuge.csv\u001b[39m\u001b[38;5;124m\"\u001b[39m, on_bad_lines\u001b[38;5;241m=\u001b[39m\u001b[38;5;124m'\u001b[39m\u001b[38;5;124mskip\u001b[39m\u001b[38;5;124m'\u001b[39m)\n\u001b[0;32m      4\u001b[0m \u001b[38;5;66;03m# Display the first few rows of the dataframe to ensure it loaded correctly\u001b[39;00m\n\u001b[0;32m      5\u001b[0m zulassungen_df\u001b[38;5;241m.\u001b[39mhead()\n",
      "File \u001b[1;32m~\\anaconda3\\Lib\\site-packages\\pandas\\io\\parsers\\readers.py:1026\u001b[0m, in \u001b[0;36mread_csv\u001b[1;34m(filepath_or_buffer, sep, delimiter, header, names, index_col, usecols, dtype, engine, converters, true_values, false_values, skipinitialspace, skiprows, skipfooter, nrows, na_values, keep_default_na, na_filter, verbose, skip_blank_lines, parse_dates, infer_datetime_format, keep_date_col, date_parser, date_format, dayfirst, cache_dates, iterator, chunksize, compression, thousands, decimal, lineterminator, quotechar, quoting, doublequote, escapechar, comment, encoding, encoding_errors, dialect, on_bad_lines, delim_whitespace, low_memory, memory_map, float_precision, storage_options, dtype_backend)\u001b[0m\n\u001b[0;32m   1013\u001b[0m kwds_defaults \u001b[38;5;241m=\u001b[39m _refine_defaults_read(\n\u001b[0;32m   1014\u001b[0m     dialect,\n\u001b[0;32m   1015\u001b[0m     delimiter,\n\u001b[1;32m   (...)\u001b[0m\n\u001b[0;32m   1022\u001b[0m     dtype_backend\u001b[38;5;241m=\u001b[39mdtype_backend,\n\u001b[0;32m   1023\u001b[0m )\n\u001b[0;32m   1024\u001b[0m kwds\u001b[38;5;241m.\u001b[39mupdate(kwds_defaults)\n\u001b[1;32m-> 1026\u001b[0m \u001b[38;5;28;01mreturn\u001b[39;00m _read(filepath_or_buffer, kwds)\n",
      "File \u001b[1;32m~\\anaconda3\\Lib\\site-packages\\pandas\\io\\parsers\\readers.py:620\u001b[0m, in \u001b[0;36m_read\u001b[1;34m(filepath_or_buffer, kwds)\u001b[0m\n\u001b[0;32m    617\u001b[0m _validate_names(kwds\u001b[38;5;241m.\u001b[39mget(\u001b[38;5;124m\"\u001b[39m\u001b[38;5;124mnames\u001b[39m\u001b[38;5;124m\"\u001b[39m, \u001b[38;5;28;01mNone\u001b[39;00m))\n\u001b[0;32m    619\u001b[0m \u001b[38;5;66;03m# Create the parser.\u001b[39;00m\n\u001b[1;32m--> 620\u001b[0m parser \u001b[38;5;241m=\u001b[39m TextFileReader(filepath_or_buffer, \u001b[38;5;241m*\u001b[39m\u001b[38;5;241m*\u001b[39mkwds)\n\u001b[0;32m    622\u001b[0m \u001b[38;5;28;01mif\u001b[39;00m chunksize \u001b[38;5;129;01mor\u001b[39;00m iterator:\n\u001b[0;32m    623\u001b[0m     \u001b[38;5;28;01mreturn\u001b[39;00m parser\n",
      "File \u001b[1;32m~\\anaconda3\\Lib\\site-packages\\pandas\\io\\parsers\\readers.py:1620\u001b[0m, in \u001b[0;36mTextFileReader.__init__\u001b[1;34m(self, f, engine, **kwds)\u001b[0m\n\u001b[0;32m   1617\u001b[0m     \u001b[38;5;28mself\u001b[39m\u001b[38;5;241m.\u001b[39moptions[\u001b[38;5;124m\"\u001b[39m\u001b[38;5;124mhas_index_names\u001b[39m\u001b[38;5;124m\"\u001b[39m] \u001b[38;5;241m=\u001b[39m kwds[\u001b[38;5;124m\"\u001b[39m\u001b[38;5;124mhas_index_names\u001b[39m\u001b[38;5;124m\"\u001b[39m]\n\u001b[0;32m   1619\u001b[0m \u001b[38;5;28mself\u001b[39m\u001b[38;5;241m.\u001b[39mhandles: IOHandles \u001b[38;5;241m|\u001b[39m \u001b[38;5;28;01mNone\u001b[39;00m \u001b[38;5;241m=\u001b[39m \u001b[38;5;28;01mNone\u001b[39;00m\n\u001b[1;32m-> 1620\u001b[0m \u001b[38;5;28mself\u001b[39m\u001b[38;5;241m.\u001b[39m_engine \u001b[38;5;241m=\u001b[39m \u001b[38;5;28mself\u001b[39m\u001b[38;5;241m.\u001b[39m_make_engine(f, \u001b[38;5;28mself\u001b[39m\u001b[38;5;241m.\u001b[39mengine)\n",
      "File \u001b[1;32m~\\anaconda3\\Lib\\site-packages\\pandas\\io\\parsers\\readers.py:1880\u001b[0m, in \u001b[0;36mTextFileReader._make_engine\u001b[1;34m(self, f, engine)\u001b[0m\n\u001b[0;32m   1878\u001b[0m     \u001b[38;5;28;01mif\u001b[39;00m \u001b[38;5;124m\"\u001b[39m\u001b[38;5;124mb\u001b[39m\u001b[38;5;124m\"\u001b[39m \u001b[38;5;129;01mnot\u001b[39;00m \u001b[38;5;129;01min\u001b[39;00m mode:\n\u001b[0;32m   1879\u001b[0m         mode \u001b[38;5;241m+\u001b[39m\u001b[38;5;241m=\u001b[39m \u001b[38;5;124m\"\u001b[39m\u001b[38;5;124mb\u001b[39m\u001b[38;5;124m\"\u001b[39m\n\u001b[1;32m-> 1880\u001b[0m \u001b[38;5;28mself\u001b[39m\u001b[38;5;241m.\u001b[39mhandles \u001b[38;5;241m=\u001b[39m get_handle(\n\u001b[0;32m   1881\u001b[0m     f,\n\u001b[0;32m   1882\u001b[0m     mode,\n\u001b[0;32m   1883\u001b[0m     encoding\u001b[38;5;241m=\u001b[39m\u001b[38;5;28mself\u001b[39m\u001b[38;5;241m.\u001b[39moptions\u001b[38;5;241m.\u001b[39mget(\u001b[38;5;124m\"\u001b[39m\u001b[38;5;124mencoding\u001b[39m\u001b[38;5;124m\"\u001b[39m, \u001b[38;5;28;01mNone\u001b[39;00m),\n\u001b[0;32m   1884\u001b[0m     compression\u001b[38;5;241m=\u001b[39m\u001b[38;5;28mself\u001b[39m\u001b[38;5;241m.\u001b[39moptions\u001b[38;5;241m.\u001b[39mget(\u001b[38;5;124m\"\u001b[39m\u001b[38;5;124mcompression\u001b[39m\u001b[38;5;124m\"\u001b[39m, \u001b[38;5;28;01mNone\u001b[39;00m),\n\u001b[0;32m   1885\u001b[0m     memory_map\u001b[38;5;241m=\u001b[39m\u001b[38;5;28mself\u001b[39m\u001b[38;5;241m.\u001b[39moptions\u001b[38;5;241m.\u001b[39mget(\u001b[38;5;124m\"\u001b[39m\u001b[38;5;124mmemory_map\u001b[39m\u001b[38;5;124m\"\u001b[39m, \u001b[38;5;28;01mFalse\u001b[39;00m),\n\u001b[0;32m   1886\u001b[0m     is_text\u001b[38;5;241m=\u001b[39mis_text,\n\u001b[0;32m   1887\u001b[0m     errors\u001b[38;5;241m=\u001b[39m\u001b[38;5;28mself\u001b[39m\u001b[38;5;241m.\u001b[39moptions\u001b[38;5;241m.\u001b[39mget(\u001b[38;5;124m\"\u001b[39m\u001b[38;5;124mencoding_errors\u001b[39m\u001b[38;5;124m\"\u001b[39m, \u001b[38;5;124m\"\u001b[39m\u001b[38;5;124mstrict\u001b[39m\u001b[38;5;124m\"\u001b[39m),\n\u001b[0;32m   1888\u001b[0m     storage_options\u001b[38;5;241m=\u001b[39m\u001b[38;5;28mself\u001b[39m\u001b[38;5;241m.\u001b[39moptions\u001b[38;5;241m.\u001b[39mget(\u001b[38;5;124m\"\u001b[39m\u001b[38;5;124mstorage_options\u001b[39m\u001b[38;5;124m\"\u001b[39m, \u001b[38;5;28;01mNone\u001b[39;00m),\n\u001b[0;32m   1889\u001b[0m )\n\u001b[0;32m   1890\u001b[0m \u001b[38;5;28;01massert\u001b[39;00m \u001b[38;5;28mself\u001b[39m\u001b[38;5;241m.\u001b[39mhandles \u001b[38;5;129;01mis\u001b[39;00m \u001b[38;5;129;01mnot\u001b[39;00m \u001b[38;5;28;01mNone\u001b[39;00m\n\u001b[0;32m   1891\u001b[0m f \u001b[38;5;241m=\u001b[39m \u001b[38;5;28mself\u001b[39m\u001b[38;5;241m.\u001b[39mhandles\u001b[38;5;241m.\u001b[39mhandle\n",
      "File \u001b[1;32m~\\anaconda3\\Lib\\site-packages\\pandas\\io\\common.py:873\u001b[0m, in \u001b[0;36mget_handle\u001b[1;34m(path_or_buf, mode, encoding, compression, memory_map, is_text, errors, storage_options)\u001b[0m\n\u001b[0;32m    868\u001b[0m \u001b[38;5;28;01melif\u001b[39;00m \u001b[38;5;28misinstance\u001b[39m(handle, \u001b[38;5;28mstr\u001b[39m):\n\u001b[0;32m    869\u001b[0m     \u001b[38;5;66;03m# Check whether the filename is to be opened in binary mode.\u001b[39;00m\n\u001b[0;32m    870\u001b[0m     \u001b[38;5;66;03m# Binary mode does not support 'encoding' and 'newline'.\u001b[39;00m\n\u001b[0;32m    871\u001b[0m     \u001b[38;5;28;01mif\u001b[39;00m ioargs\u001b[38;5;241m.\u001b[39mencoding \u001b[38;5;129;01mand\u001b[39;00m \u001b[38;5;124m\"\u001b[39m\u001b[38;5;124mb\u001b[39m\u001b[38;5;124m\"\u001b[39m \u001b[38;5;129;01mnot\u001b[39;00m \u001b[38;5;129;01min\u001b[39;00m ioargs\u001b[38;5;241m.\u001b[39mmode:\n\u001b[0;32m    872\u001b[0m         \u001b[38;5;66;03m# Encoding\u001b[39;00m\n\u001b[1;32m--> 873\u001b[0m         handle \u001b[38;5;241m=\u001b[39m \u001b[38;5;28mopen\u001b[39m(\n\u001b[0;32m    874\u001b[0m             handle,\n\u001b[0;32m    875\u001b[0m             ioargs\u001b[38;5;241m.\u001b[39mmode,\n\u001b[0;32m    876\u001b[0m             encoding\u001b[38;5;241m=\u001b[39mioargs\u001b[38;5;241m.\u001b[39mencoding,\n\u001b[0;32m    877\u001b[0m             errors\u001b[38;5;241m=\u001b[39merrors,\n\u001b[0;32m    878\u001b[0m             newline\u001b[38;5;241m=\u001b[39m\u001b[38;5;124m\"\u001b[39m\u001b[38;5;124m\"\u001b[39m,\n\u001b[0;32m    879\u001b[0m         )\n\u001b[0;32m    880\u001b[0m     \u001b[38;5;28;01melse\u001b[39;00m:\n\u001b[0;32m    881\u001b[0m         \u001b[38;5;66;03m# Binary mode\u001b[39;00m\n\u001b[0;32m    882\u001b[0m         handle \u001b[38;5;241m=\u001b[39m \u001b[38;5;28mopen\u001b[39m(handle, ioargs\u001b[38;5;241m.\u001b[39mmode)\n",
      "\u001b[1;31mFileNotFoundError\u001b[0m: [Errno 2] No such file or directory: 'Zulassungen_alle_Fahrzeuge.csv'"
     ]
    }
   ],
   "source": [
    "# Read file with skipping bad lines\n",
    "zulassungen_df = pd.read_csv(\"Zulassungen_alle_Fahrzeuge.csv\", on_bad_lines='skip')\n",
    "\n",
    "# Display the first few rows of the dataframe to ensure it loaded correctly\n",
    "zulassungen_df.head()"
   ]
  },
  {
   "cell_type": "code",
   "execution_count": 13,
   "id": "56f30ea7-6502-401f-96b5-8768e8fe3f62",
   "metadata": {},
   "outputs": [],
   "source": [
    "Bestandteile_Fahrzeuge_OEM1_Typ12_df = pd.read_csv('Bestandteile_Fahrzeuge_OEM1_Typ12.csv',sep=';')\n",
    "Bestandteile_Fahrzeuge_OEM1_Typ12_df.head()"
   ]
  },
  {
   "cell_type": "code",
   "execution_count": 16,
   "id": "48120250-e659-4636-b24c-5143fe1d742d",
   "metadata": {},
   "outputs": [],
   "source": [
    "# Define the columns to read and their new names for Komponente\n",
    "columns_to_read = {'ID_T16': 'ID_T16', 'ID_K2ST2': 'ID_Komponente'}  # Original to new name mapping\n",
    "columns_to_read_2 = {'ID_T16': 'ID_T16', 'ID_K2LE2': 'ID_Komponente'}  # Original to new name mapping\n",
    "columns_to_use = list(columns_to_read.keys())  # Specify which columns to read\n",
    "columns_to_use_2 = list(columns_to_read_2.keys())  # Specify which columns to read"
   ]
  },
  {
   "cell_type": "code",
   "execution_count": 17,
   "id": "a34661ae-b4cc-46c4-bb6e-aa8e63efa25c",
   "metadata": {},
   "outputs": [],
   "source": [
    "#load Kopnonet Files\n",
    "Komponente_K2LE2_df = pd.read_csv(\"Bestandteile_Komponente_K2LE2.csv\",usecols=columns_to_use_2,sep=';')\n",
    "Komponente_K2ST2_df = pd.read_csv(\"Bestandteile_Komponente_K2ST2.csv\",usecols=columns_to_use,sep=';')"
   ]
  },
  {
   "cell_type": "code",
   "execution_count": 18,
   "id": "6cb1a5c2-04b3-496d-bf74-e3e37560196f",
   "metadata": {},
   "outputs": [],
   "source": [
    "# Rename the columns using the mapping\n",
    "Komponente_K2LE2_df.rename(columns=columns_to_read_2, inplace=True)\n",
    "Komponente_K2ST2_df.rename(columns=columns_to_read, inplace=True)"
   ]
  },
  {
   "cell_type": "code",
   "execution_count": 19,
   "id": "c428d487-0d20-41ec-b380-01f839ec5bfd",
   "metadata": {},
   "outputs": [
    {
     "data": {
      "text/html": [
       "<div>\n",
       "<style scoped>\n",
       "    .dataframe tbody tr th:only-of-type {\n",
       "        vertical-align: middle;\n",
       "    }\n",
       "\n",
       "    .dataframe tbody tr th {\n",
       "        vertical-align: top;\n",
       "    }\n",
       "\n",
       "    .dataframe thead th {\n",
       "        text-align: right;\n",
       "    }\n",
       "</style>\n",
       "<table border=\"1\" class=\"dataframe\">\n",
       "  <thead>\n",
       "    <tr style=\"text-align: right;\">\n",
       "      <th></th>\n",
       "      <th>ID_T16</th>\n",
       "      <th>ID_Komponente</th>\n",
       "    </tr>\n",
       "  </thead>\n",
       "  <tbody>\n",
       "    <tr>\n",
       "      <th>0</th>\n",
       "      <td>16-213-2132-44</td>\n",
       "      <td>K2LE2-111-1111-1</td>\n",
       "    </tr>\n",
       "    <tr>\n",
       "      <th>1</th>\n",
       "      <td>16-215-2152-68</td>\n",
       "      <td>K2LE2-111-1111-2</td>\n",
       "    </tr>\n",
       "    <tr>\n",
       "      <th>2</th>\n",
       "      <td>16-212-2121-9</td>\n",
       "      <td>K2LE2-111-1111-3</td>\n",
       "    </tr>\n",
       "    <tr>\n",
       "      <th>3</th>\n",
       "      <td>16-212-2121-16</td>\n",
       "      <td>K2LE2-111-1111-4</td>\n",
       "    </tr>\n",
       "    <tr>\n",
       "      <th>4</th>\n",
       "      <td>16-212-2121-19</td>\n",
       "      <td>K2LE2-111-1111-5</td>\n",
       "    </tr>\n",
       "  </tbody>\n",
       "</table>\n",
       "</div>"
      ],
      "text/plain": [
       "           ID_T16     ID_Komponente\n",
       "0  16-213-2132-44  K2LE2-111-1111-1\n",
       "1  16-215-2152-68  K2LE2-111-1111-2\n",
       "2   16-212-2121-9  K2LE2-111-1111-3\n",
       "3  16-212-2121-16  K2LE2-111-1111-4\n",
       "4  16-212-2121-19  K2LE2-111-1111-5"
      ]
     },
     "execution_count": 19,
     "metadata": {},
     "output_type": "execute_result"
    }
   ],
   "source": [
    "Komponente_K2LE2_df.head()"
   ]
  },
  {
   "cell_type": "code",
   "execution_count": 20,
   "id": "1788e014-b06e-4ce0-b168-7781ac841b0d",
   "metadata": {},
   "outputs": [],
   "source": [
    "#Merge component Files\n",
    "Komponente_df = pd.concat([Komponente_K2LE2_df, Komponente_K2ST2_df], ignore_index=True)"
   ]
  },
  {
   "cell_type": "code",
   "execution_count": 21,
   "id": "1c20d7f3-e2de-440b-8072-8b0a4207e79c",
   "metadata": {},
   "outputs": [
    {
     "data": {
      "text/html": [
       "<div>\n",
       "<style scoped>\n",
       "    .dataframe tbody tr th:only-of-type {\n",
       "        vertical-align: middle;\n",
       "    }\n",
       "\n",
       "    .dataframe tbody tr th {\n",
       "        vertical-align: top;\n",
       "    }\n",
       "\n",
       "    .dataframe thead th {\n",
       "        text-align: right;\n",
       "    }\n",
       "</style>\n",
       "<table border=\"1\" class=\"dataframe\">\n",
       "  <thead>\n",
       "    <tr style=\"text-align: right;\">\n",
       "      <th></th>\n",
       "      <th>ID_T16</th>\n",
       "      <th>ID_Komponente</th>\n",
       "    </tr>\n",
       "  </thead>\n",
       "  <tbody>\n",
       "    <tr>\n",
       "      <th>0</th>\n",
       "      <td>16-213-2132-44</td>\n",
       "      <td>K2LE2-111-1111-1</td>\n",
       "    </tr>\n",
       "    <tr>\n",
       "      <th>1</th>\n",
       "      <td>16-215-2152-68</td>\n",
       "      <td>K2LE2-111-1111-2</td>\n",
       "    </tr>\n",
       "    <tr>\n",
       "      <th>2</th>\n",
       "      <td>16-212-2121-9</td>\n",
       "      <td>K2LE2-111-1111-3</td>\n",
       "    </tr>\n",
       "    <tr>\n",
       "      <th>3</th>\n",
       "      <td>16-212-2121-16</td>\n",
       "      <td>K2LE2-111-1111-4</td>\n",
       "    </tr>\n",
       "    <tr>\n",
       "      <th>4</th>\n",
       "      <td>16-212-2121-19</td>\n",
       "      <td>K2LE2-111-1111-5</td>\n",
       "    </tr>\n",
       "  </tbody>\n",
       "</table>\n",
       "</div>"
      ],
      "text/plain": [
       "           ID_T16     ID_Komponente\n",
       "0  16-213-2132-44  K2LE2-111-1111-1\n",
       "1  16-215-2152-68  K2LE2-111-1111-2\n",
       "2   16-212-2121-9  K2LE2-111-1111-3\n",
       "3  16-212-2121-16  K2LE2-111-1111-4\n",
       "4  16-212-2121-19  K2LE2-111-1111-5"
      ]
     },
     "execution_count": 21,
     "metadata": {},
     "output_type": "execute_result"
    }
   ],
   "source": [
    "Komponente_df.head()"
   ]
  },
  {
   "cell_type": "code",
   "execution_count": 22,
   "id": "c624bcf3-204c-4194-a9a5-b709329235a5",
   "metadata": {},
   "outputs": [],
   "source": [
    "# Define the columns to read and their new names for Fahrzeuge\n",
    "to_read = {'ID_Sitze': 'ID_Komponente', 'ID_Fahrzeug': 'IDNummer'}  # Original to new name mapping\n",
    "to_use = list(to_read.keys())  # Specify which columns to read"
   ]
  },
  {
   "cell_type": "code",
   "execution_count": 23,
   "id": "01fe0071-5d41-4e28-8bf3-fa689b52508a",
   "metadata": {},
   "outputs": [],
   "source": [
    "#load Fahrzeuge Files\n",
    "Fahrzeuge_OEM2_Typ21_df = pd.read_csv(\"Bestandteile_Fahrzeuge_OEM2_Typ21.csv\" ,usecols=to_use,sep=';')\n",
    "Fahrzeuge_OEM2_Typ22_df = pd.read_csv(\"Bestandteile_Fahrzeuge_OEM2_Typ22.csv\" ,usecols=to_use,sep=';')"
   ]
  },
  {
   "cell_type": "code",
   "execution_count": 24,
   "id": "a1a4da7c-461e-458b-ad04-f010408ffd79",
   "metadata": {},
   "outputs": [],
   "source": [
    "#Merge Fahrzeuge Files\n",
    "Fahrzeuge_Merged_df = pd.concat([Fahrzeuge_OEM2_Typ21_df, Fahrzeuge_OEM2_Typ22_df], ignore_index=True)"
   ]
  },
  {
   "cell_type": "code",
   "execution_count": 25,
   "id": "c3f7e2db-b743-4247-ba44-c8ffdc2e44c5",
   "metadata": {},
   "outputs": [],
   "source": [
    "# Rename the columns using the mapping\n",
    "Fahrzeuge_Merged_df.rename(columns=to_read, inplace=True)"
   ]
  },
  {
   "cell_type": "markdown",
   "id": "610b9bef-34a7-4839-983d-753f232fa31d",
   "metadata": {},
   "source": [
    "Fahrzeuge_Merged_df"
   ]
  },
  {
   "cell_type": "markdown",
   "id": "4caf3d13-8398-4102-a7a1-f63764302099",
   "metadata": {},
   "source": [
    "<a id=\"Logistics-Products\"></a>\n",
    "\n",
    "## Logistics and Product Development in the Automobile Industry "
   ]
  },
  {
   "cell_type": "markdown",
   "id": "342628be",
   "metadata": {},
   "source": [
    "<h3> Use the production date (“Produktionsdatum”) from the dataset “Komponente_K7.csv” and the receiving date of incoming goods (“Wareneingang”) from “Logistikverzug_K7.csv” (logistics delay). Assume that produced goods are \n",
    "issued one day after the production date. For the model design in Python, create a new dataset “Logistics delay” containing the required information from both datasets."
   ]
  },
  {
   "cell_type": "code",
   "execution_count": 27,
   "id": "a3779715-da53-426c-ac48-fd87c78a5189",
   "metadata": {},
   "outputs": [
    {
     "data": {
      "text/html": [
       "<div>\n",
       "<style scoped>\n",
       "    .dataframe tbody tr th:only-of-type {\n",
       "        vertical-align: middle;\n",
       "    }\n",
       "\n",
       "    .dataframe tbody tr th {\n",
       "        vertical-align: top;\n",
       "    }\n",
       "\n",
       "    .dataframe thead th {\n",
       "        text-align: right;\n",
       "    }\n",
       "</style>\n",
       "<table border=\"1\" class=\"dataframe\">\n",
       "  <thead>\n",
       "    <tr style=\"text-align: right;\">\n",
       "      <th></th>\n",
       "      <th>Unnamed: 0</th>\n",
       "      <th>IDNummer</th>\n",
       "      <th>Produktionsdatum</th>\n",
       "      <th>Herstellernummer</th>\n",
       "      <th>Werksnummer</th>\n",
       "      <th>Fehlerhaft</th>\n",
       "    </tr>\n",
       "  </thead>\n",
       "  <tbody>\n",
       "    <tr>\n",
       "      <th>0</th>\n",
       "      <td>1</td>\n",
       "      <td>K7-114-1142-1</td>\n",
       "      <td>2008-11-12</td>\n",
       "      <td>114</td>\n",
       "      <td>1142</td>\n",
       "      <td>0</td>\n",
       "    </tr>\n",
       "    <tr>\n",
       "      <th>1</th>\n",
       "      <td>2</td>\n",
       "      <td>K7-114-1142-2</td>\n",
       "      <td>2008-11-12</td>\n",
       "      <td>114</td>\n",
       "      <td>1142</td>\n",
       "      <td>0</td>\n",
       "    </tr>\n",
       "    <tr>\n",
       "      <th>2</th>\n",
       "      <td>3</td>\n",
       "      <td>K7-114-1142-3</td>\n",
       "      <td>2008-11-13</td>\n",
       "      <td>114</td>\n",
       "      <td>1142</td>\n",
       "      <td>0</td>\n",
       "    </tr>\n",
       "    <tr>\n",
       "      <th>3</th>\n",
       "      <td>4</td>\n",
       "      <td>K7-114-1142-4</td>\n",
       "      <td>2008-11-13</td>\n",
       "      <td>114</td>\n",
       "      <td>1142</td>\n",
       "      <td>0</td>\n",
       "    </tr>\n",
       "    <tr>\n",
       "      <th>4</th>\n",
       "      <td>5</td>\n",
       "      <td>K7-114-1142-5</td>\n",
       "      <td>2008-11-13</td>\n",
       "      <td>114</td>\n",
       "      <td>1142</td>\n",
       "      <td>0</td>\n",
       "    </tr>\n",
       "  </tbody>\n",
       "</table>\n",
       "</div>"
      ],
      "text/plain": [
       "   Unnamed: 0       IDNummer Produktionsdatum  Herstellernummer  Werksnummer  \\\n",
       "0           1  K7-114-1142-1       2008-11-12               114         1142   \n",
       "1           2  K7-114-1142-2       2008-11-12               114         1142   \n",
       "2           3  K7-114-1142-3       2008-11-13               114         1142   \n",
       "3           4  K7-114-1142-4       2008-11-13               114         1142   \n",
       "4           5  K7-114-1142-5       2008-11-13               114         1142   \n",
       "\n",
       "   Fehlerhaft  \n",
       "0           0  \n",
       "1           0  \n",
       "2           0  \n",
       "3           0  \n",
       "4           0  "
      ]
     },
     "execution_count": 27,
     "metadata": {},
     "output_type": "execute_result"
    }
   ],
   "source": [
    "komponente_k7_df.head()"
   ]
  },
  {
   "cell_type": "code",
   "execution_count": 29,
   "id": "8b460020-8e47-4bec-8300-fb5a9362160a",
   "metadata": {},
   "outputs": [
    {
     "data": {
      "text/html": [
       "<div>\n",
       "<style scoped>\n",
       "    .dataframe tbody tr th:only-of-type {\n",
       "        vertical-align: middle;\n",
       "    }\n",
       "\n",
       "    .dataframe tbody tr th {\n",
       "        vertical-align: top;\n",
       "    }\n",
       "\n",
       "    .dataframe thead th {\n",
       "        text-align: right;\n",
       "    }\n",
       "</style>\n",
       "<table border=\"1\" class=\"dataframe\">\n",
       "  <thead>\n",
       "    <tr style=\"text-align: right;\">\n",
       "      <th></th>\n",
       "      <th>Unnamed: 0</th>\n",
       "      <th>IDNummer</th>\n",
       "      <th>Wareneingang</th>\n",
       "      <th>Herstellernummer</th>\n",
       "      <th>Werksnummer</th>\n",
       "      <th>Fehlerhaft</th>\n",
       "    </tr>\n",
       "  </thead>\n",
       "  <tbody>\n",
       "    <tr>\n",
       "      <th>0</th>\n",
       "      <td>1</td>\n",
       "      <td>K7-113-1132-153160</td>\n",
       "      <td>2016-11-22</td>\n",
       "      <td>112</td>\n",
       "      <td>1132</td>\n",
       "      <td>0</td>\n",
       "    </tr>\n",
       "    <tr>\n",
       "      <th>1</th>\n",
       "      <td>2</td>\n",
       "      <td>K7-113-1132-153109</td>\n",
       "      <td>2016-11-20</td>\n",
       "      <td>112</td>\n",
       "      <td>1132</td>\n",
       "      <td>0</td>\n",
       "    </tr>\n",
       "    <tr>\n",
       "      <th>2</th>\n",
       "      <td>3</td>\n",
       "      <td>K7-113-1132-153195</td>\n",
       "      <td>2016-11-20</td>\n",
       "      <td>112</td>\n",
       "      <td>1132</td>\n",
       "      <td>0</td>\n",
       "    </tr>\n",
       "    <tr>\n",
       "      <th>3</th>\n",
       "      <td>4</td>\n",
       "      <td>K7-113-1132-153226</td>\n",
       "      <td>2016-11-20</td>\n",
       "      <td>112</td>\n",
       "      <td>1132</td>\n",
       "      <td>0</td>\n",
       "    </tr>\n",
       "    <tr>\n",
       "      <th>4</th>\n",
       "      <td>5</td>\n",
       "      <td>K7-113-1132-153231</td>\n",
       "      <td>2016-11-20</td>\n",
       "      <td>112</td>\n",
       "      <td>1132</td>\n",
       "      <td>0</td>\n",
       "    </tr>\n",
       "  </tbody>\n",
       "</table>\n",
       "</div>"
      ],
      "text/plain": [
       "   Unnamed: 0            IDNummer Wareneingang  Herstellernummer  Werksnummer  \\\n",
       "0           1  K7-113-1132-153160   2016-11-22               112         1132   \n",
       "1           2  K7-113-1132-153109   2016-11-20               112         1132   \n",
       "2           3  K7-113-1132-153195   2016-11-20               112         1132   \n",
       "3           4  K7-113-1132-153226   2016-11-20               112         1132   \n",
       "4           5  K7-113-1132-153231   2016-11-20               112         1132   \n",
       "\n",
       "   Fehlerhaft  \n",
       "0           0  \n",
       "1           0  \n",
       "2           0  \n",
       "3           0  \n",
       "4           0  "
      ]
     },
     "execution_count": 29,
     "metadata": {},
     "output_type": "execute_result"
    }
   ],
   "source": []
  },
  {
   "cell_type": "code",
   "execution_count": 30,
   "id": "2a64a697-a1a8-4e15-b483-dffd06bf71bc",
   "metadata": {},
   "outputs": [],
   "source": [
    "#Drop the \"Unnamed\" column from both logistikverzug_df and komponente_df\n",
    "logistikverzug_df.drop('Unnamed: 0', axis=1, inplace=True)  \n",
    "komponente_k7_df.drop('Unnamed: 0', axis=1, inplace=True)  "
   ]
  },
  {
   "cell_type": "code",
   "execution_count": 31,
   "id": "77f55098-8d21-4a5f-ba57-db60e16cb680",
   "metadata": {},
   "outputs": [
    {
     "data": {
      "text/html": [
       "<div>\n",
       "<style scoped>\n",
       "    .dataframe tbody tr th:only-of-type {\n",
       "        vertical-align: middle;\n",
       "    }\n",
       "\n",
       "    .dataframe tbody tr th {\n",
       "        vertical-align: top;\n",
       "    }\n",
       "\n",
       "    .dataframe thead th {\n",
       "        text-align: right;\n",
       "    }\n",
       "</style>\n",
       "<table border=\"1\" class=\"dataframe\">\n",
       "  <thead>\n",
       "    <tr style=\"text-align: right;\">\n",
       "      <th></th>\n",
       "      <th>IDNummer</th>\n",
       "      <th>Produktionsdatum</th>\n",
       "      <th>Herstellernummer</th>\n",
       "      <th>Werksnummer</th>\n",
       "      <th>Fehlerhaft</th>\n",
       "    </tr>\n",
       "  </thead>\n",
       "  <tbody>\n",
       "    <tr>\n",
       "      <th>0</th>\n",
       "      <td>K7-114-1142-1</td>\n",
       "      <td>2008-11-12</td>\n",
       "      <td>114</td>\n",
       "      <td>1142</td>\n",
       "      <td>0</td>\n",
       "    </tr>\n",
       "    <tr>\n",
       "      <th>1</th>\n",
       "      <td>K7-114-1142-2</td>\n",
       "      <td>2008-11-12</td>\n",
       "      <td>114</td>\n",
       "      <td>1142</td>\n",
       "      <td>0</td>\n",
       "    </tr>\n",
       "    <tr>\n",
       "      <th>2</th>\n",
       "      <td>K7-114-1142-3</td>\n",
       "      <td>2008-11-13</td>\n",
       "      <td>114</td>\n",
       "      <td>1142</td>\n",
       "      <td>0</td>\n",
       "    </tr>\n",
       "    <tr>\n",
       "      <th>3</th>\n",
       "      <td>K7-114-1142-4</td>\n",
       "      <td>2008-11-13</td>\n",
       "      <td>114</td>\n",
       "      <td>1142</td>\n",
       "      <td>0</td>\n",
       "    </tr>\n",
       "    <tr>\n",
       "      <th>4</th>\n",
       "      <td>K7-114-1142-5</td>\n",
       "      <td>2008-11-13</td>\n",
       "      <td>114</td>\n",
       "      <td>1142</td>\n",
       "      <td>0</td>\n",
       "    </tr>\n",
       "  </tbody>\n",
       "</table>\n",
       "</div>"
      ],
      "text/plain": [
       "        IDNummer Produktionsdatum  Herstellernummer  Werksnummer  Fehlerhaft\n",
       "0  K7-114-1142-1       2008-11-12               114         1142           0\n",
       "1  K7-114-1142-2       2008-11-12               114         1142           0\n",
       "2  K7-114-1142-3       2008-11-13               114         1142           0\n",
       "3  K7-114-1142-4       2008-11-13               114         1142           0\n",
       "4  K7-114-1142-5       2008-11-13               114         1142           0"
      ]
     },
     "execution_count": 31,
     "metadata": {},
     "output_type": "execute_result"
    }
   ],
   "source": [
    "komponente_k7_df.head()"
   ]
  },
  {
   "cell_type": "code",
   "execution_count": 19,
   "id": "1d8bf0cd",
   "metadata": {},
   "outputs": [
    {
     "data": {
      "text/html": [
       "<div>\n",
       "<style scoped>\n",
       "    .dataframe tbody tr th:only-of-type {\n",
       "        vertical-align: middle;\n",
       "    }\n",
       "\n",
       "    .dataframe tbody tr th {\n",
       "        vertical-align: top;\n",
       "    }\n",
       "\n",
       "    .dataframe thead th {\n",
       "        text-align: right;\n",
       "    }\n",
       "</style>\n",
       "<table border=\"1\" class=\"dataframe\">\n",
       "  <thead>\n",
       "    <tr style=\"text-align: right;\">\n",
       "      <th></th>\n",
       "      <th>Unnamed: 0</th>\n",
       "      <th>IDNummer</th>\n",
       "      <th>Wareneingang</th>\n",
       "      <th>Herstellernummer</th>\n",
       "      <th>Werksnummer</th>\n",
       "      <th>Fehlerhaft</th>\n",
       "    </tr>\n",
       "  </thead>\n",
       "  <tbody>\n",
       "    <tr>\n",
       "      <th>0</th>\n",
       "      <td>1</td>\n",
       "      <td>K7-113-1132-153160</td>\n",
       "      <td>2016-11-22</td>\n",
       "      <td>112</td>\n",
       "      <td>1132</td>\n",
       "      <td>0</td>\n",
       "    </tr>\n",
       "    <tr>\n",
       "      <th>1</th>\n",
       "      <td>2</td>\n",
       "      <td>K7-113-1132-153109</td>\n",
       "      <td>2016-11-20</td>\n",
       "      <td>112</td>\n",
       "      <td>1132</td>\n",
       "      <td>0</td>\n",
       "    </tr>\n",
       "    <tr>\n",
       "      <th>2</th>\n",
       "      <td>3</td>\n",
       "      <td>K7-113-1132-153195</td>\n",
       "      <td>2016-11-20</td>\n",
       "      <td>112</td>\n",
       "      <td>1132</td>\n",
       "      <td>0</td>\n",
       "    </tr>\n",
       "    <tr>\n",
       "      <th>3</th>\n",
       "      <td>4</td>\n",
       "      <td>K7-113-1132-153226</td>\n",
       "      <td>2016-11-20</td>\n",
       "      <td>112</td>\n",
       "      <td>1132</td>\n",
       "      <td>0</td>\n",
       "    </tr>\n",
       "    <tr>\n",
       "      <th>4</th>\n",
       "      <td>5</td>\n",
       "      <td>K7-113-1132-153231</td>\n",
       "      <td>2016-11-20</td>\n",
       "      <td>112</td>\n",
       "      <td>1132</td>\n",
       "      <td>0</td>\n",
       "    </tr>\n",
       "  </tbody>\n",
       "</table>\n",
       "</div>"
      ],
      "text/plain": [
       "   Unnamed: 0            IDNummer Wareneingang  Herstellernummer  Werksnummer  \\\n",
       "0           1  K7-113-1132-153160   2016-11-22               112         1132   \n",
       "1           2  K7-113-1132-153109   2016-11-20               112         1132   \n",
       "2           3  K7-113-1132-153195   2016-11-20               112         1132   \n",
       "3           4  K7-113-1132-153226   2016-11-20               112         1132   \n",
       "4           5  K7-113-1132-153231   2016-11-20               112         1132   \n",
       "\n",
       "   Fehlerhaft  \n",
       "0           0  \n",
       "1           0  \n",
       "2           0  \n",
       "3           0  \n",
       "4           0  "
      ]
     },
     "execution_count": 19,
     "metadata": {},
     "output_type": "execute_result"
    }
   ],
   "source": [
    "logistikverzug_df.head()"
   ]
  },
  {
   "cell_type": "code",
   "execution_count": 32,
   "id": "1a97357f-34c3-4806-9947-9b4e43ca806a",
   "metadata": {},
   "outputs": [
    {
     "data": {
      "text/html": [
       "<div>\n",
       "<style scoped>\n",
       "    .dataframe tbody tr th:only-of-type {\n",
       "        vertical-align: middle;\n",
       "    }\n",
       "\n",
       "    .dataframe tbody tr th {\n",
       "        vertical-align: top;\n",
       "    }\n",
       "\n",
       "    .dataframe thead th {\n",
       "        text-align: right;\n",
       "    }\n",
       "</style>\n",
       "<table border=\"1\" class=\"dataframe\">\n",
       "  <thead>\n",
       "    <tr style=\"text-align: right;\">\n",
       "      <th></th>\n",
       "      <th>IDNummer</th>\n",
       "      <th>Produktionsdatum</th>\n",
       "      <th>Issued_Products</th>\n",
       "      <th>Wareneingang</th>\n",
       "      <th>LogisticsDelay</th>\n",
       "    </tr>\n",
       "  </thead>\n",
       "  <tbody>\n",
       "    <tr>\n",
       "      <th>0</th>\n",
       "      <td>K7-114-1142-1</td>\n",
       "      <td>2008-11-12</td>\n",
       "      <td>2008-11-13</td>\n",
       "      <td>2008-11-19</td>\n",
       "      <td>7</td>\n",
       "    </tr>\n",
       "    <tr>\n",
       "      <th>1</th>\n",
       "      <td>K7-114-1142-2</td>\n",
       "      <td>2008-11-12</td>\n",
       "      <td>2008-11-13</td>\n",
       "      <td>2008-11-19</td>\n",
       "      <td>7</td>\n",
       "    </tr>\n",
       "    <tr>\n",
       "      <th>2</th>\n",
       "      <td>K7-114-1142-3</td>\n",
       "      <td>2008-11-13</td>\n",
       "      <td>2008-11-14</td>\n",
       "      <td>2008-11-20</td>\n",
       "      <td>7</td>\n",
       "    </tr>\n",
       "    <tr>\n",
       "      <th>3</th>\n",
       "      <td>K7-114-1142-4</td>\n",
       "      <td>2008-11-13</td>\n",
       "      <td>2008-11-14</td>\n",
       "      <td>2008-11-20</td>\n",
       "      <td>7</td>\n",
       "    </tr>\n",
       "    <tr>\n",
       "      <th>4</th>\n",
       "      <td>K7-114-1142-5</td>\n",
       "      <td>2008-11-13</td>\n",
       "      <td>2008-11-14</td>\n",
       "      <td>2008-11-19</td>\n",
       "      <td>6</td>\n",
       "    </tr>\n",
       "    <tr>\n",
       "      <th>...</th>\n",
       "      <td>...</td>\n",
       "      <td>...</td>\n",
       "      <td>...</td>\n",
       "      <td>...</td>\n",
       "      <td>...</td>\n",
       "    </tr>\n",
       "    <tr>\n",
       "      <th>306485</th>\n",
       "      <td>K7-113-1132-153241</td>\n",
       "      <td>2016-11-12</td>\n",
       "      <td>2016-11-13</td>\n",
       "      <td>2016-11-19</td>\n",
       "      <td>7</td>\n",
       "    </tr>\n",
       "    <tr>\n",
       "      <th>306486</th>\n",
       "      <td>K7-113-1132-153242</td>\n",
       "      <td>2016-11-12</td>\n",
       "      <td>2016-11-13</td>\n",
       "      <td>2016-11-19</td>\n",
       "      <td>7</td>\n",
       "    </tr>\n",
       "    <tr>\n",
       "      <th>306487</th>\n",
       "      <td>K7-113-1132-153243</td>\n",
       "      <td>2016-11-12</td>\n",
       "      <td>2016-11-13</td>\n",
       "      <td>2016-11-20</td>\n",
       "      <td>8</td>\n",
       "    </tr>\n",
       "    <tr>\n",
       "      <th>306488</th>\n",
       "      <td>K7-113-1132-153244</td>\n",
       "      <td>2016-11-12</td>\n",
       "      <td>2016-11-13</td>\n",
       "      <td>2016-11-18</td>\n",
       "      <td>6</td>\n",
       "    </tr>\n",
       "    <tr>\n",
       "      <th>306489</th>\n",
       "      <td>K7-113-1132-153245</td>\n",
       "      <td>2016-11-13</td>\n",
       "      <td>2016-11-14</td>\n",
       "      <td>2016-11-20</td>\n",
       "      <td>7</td>\n",
       "    </tr>\n",
       "  </tbody>\n",
       "</table>\n",
       "<p>306490 rows × 5 columns</p>\n",
       "</div>"
      ],
      "text/plain": [
       "                  IDNummer Produktionsdatum Issued_Products Wareneingang  \\\n",
       "0            K7-114-1142-1       2008-11-12      2008-11-13   2008-11-19   \n",
       "1            K7-114-1142-2       2008-11-12      2008-11-13   2008-11-19   \n",
       "2            K7-114-1142-3       2008-11-13      2008-11-14   2008-11-20   \n",
       "3            K7-114-1142-4       2008-11-13      2008-11-14   2008-11-20   \n",
       "4            K7-114-1142-5       2008-11-13      2008-11-14   2008-11-19   \n",
       "...                    ...              ...             ...          ...   \n",
       "306485  K7-113-1132-153241       2016-11-12      2016-11-13   2016-11-19   \n",
       "306486  K7-113-1132-153242       2016-11-12      2016-11-13   2016-11-19   \n",
       "306487  K7-113-1132-153243       2016-11-12      2016-11-13   2016-11-20   \n",
       "306488  K7-113-1132-153244       2016-11-12      2016-11-13   2016-11-18   \n",
       "306489  K7-113-1132-153245       2016-11-13      2016-11-14   2016-11-20   \n",
       "\n",
       "        LogisticsDelay  \n",
       "0                    7  \n",
       "1                    7  \n",
       "2                    7  \n",
       "3                    7  \n",
       "4                    6  \n",
       "...                ...  \n",
       "306485               7  \n",
       "306486               7  \n",
       "306487               8  \n",
       "306488               6  \n",
       "306489               7  \n",
       "\n",
       "[306490 rows x 5 columns]"
      ]
     },
     "execution_count": 32,
     "metadata": {},
     "output_type": "execute_result"
    }
   ],
   "source": [
    "#convert date columns to datetime\n",
    "komponente_k7_df['Produktionsdatum'] = pd.to_datetime(komponente_k7_df['Produktionsdatum'])\n",
    "logistikverzug_df['Wareneingang'] = pd.to_datetime(logistikverzug_df['Wareneingang'])\n",
    "\n",
    "#assume goods are issued one day after the production date \n",
    "komponente_k7_df['Issued_Products'] = komponente_k7_df['Produktionsdatum'] + pd.Timedelta(days=1)\n",
    "\n",
    "# merge the datasets on IDNummer \n",
    "merged_df = pd.merge(komponente_k7_df, logistikverzug_df, on='IDNummer')\n",
    "\n",
    "#calculate the Logistics Delay \n",
    "#The logistics delay is calculated as the difference between production date (issued date+1) and incoming date\n",
    "#logistics delay = Wareneingang - Issued Products + 1 day (time since the production)\n",
    "\n",
    "merged_df['LogisticsDelay'] = (merged_df['Wareneingang'] - merged_df['Issued_Products']).dt.days + 1\n",
    "\n",
    "#create a new dataframe with all the important information\n",
    "logistics_delay_df = merged_df[['IDNummer', 'Produktionsdatum', 'Issued_Products', 'Wareneingang', 'LogisticsDelay']]\n",
    "\n",
    "#save the new dataframe \n",
    "logistics_delay_df"
   ]
  },
  {
   "cell_type": "code",
   "execution_count": 33,
   "id": "9b781894-e882-4c05-8361-08f441a1a51f",
   "metadata": {},
   "outputs": [],
   "source": [
    "# taking a sample of the data\n",
    "# we are creating a sample of the data, to use for analysis, statistical testing and visualizations  \n",
    "# using the sample will be easier to visualize and it reduces computational time\n",
    "\n",
    "sample_size = 0.01\n",
    "logistics_delay_sample = logistics_delay_df.sample(frac=sample_size, random_state=1)"
   ]
  },
  {
   "cell_type": "markdown",
   "id": "b9e42327-a365-49e2-a770-d0072a1104e8",
   "metadata": {},
   "source": [
    "### a) How is the logistics delay distributed? Justify your choice with statistical tests and briefly describe your approach.\n",
    "\n",
    "### Data Visualization \n",
    "#### To get a better understanding of the distribution, we will start with a visualization of the data:"
   ]
  },
  {
   "cell_type": "code",
   "execution_count": 34,
   "id": "1ceaddac-590f-4320-b5f6-34bf08cc1834",
   "metadata": {},
   "outputs": [
    {
     "data": {
      "image/png": "[encoded data removed]",
      "text/plain": [
       "<Figure size 700x400 with 1 Axes>"
      ]
     },
     "metadata": {},
     "output_type": "display_data"
    }
   ],
   "source": [
    "# creating a histogram and density plot of the sample set \n",
    "plt.figure(figsize=(7, 4))\n",
    "sns.histplot(logistics_delay_sample['LogisticsDelay'], kde=True, bins=20)\n",
    "plt.title('Distribution of Logistics Delay')\n",
    "plt.xlabel('Logistics Delay (days)')\n",
    "plt.ylabel('Frequency')\n",
    "plt.show()"
   ]
  },
  {
   "cell_type": "markdown",
   "id": "1e33bc29-fddc-429a-856b-36efcf997ecf",
   "metadata": {},
   "source": [
    "<h5> Interpretation: The histogram and density plot of the sample set show multiple peaks suggesting that the data don't follow a normal distribution"
   ]
  },
  {
   "cell_type": "markdown",
   "id": "0104eef8-fc7b-40c4-99d6-05987e64ac8a",
   "metadata": {},
   "source": [
    "### Statistical Tests\n",
    "#### After visualizing the data, we perform different statistical test to determine the type of distribution"
   ]
  },
  {
   "cell_type": "code",
   "execution_count": 35,
   "id": "eb4345ae-e5bd-4437-a143-f090f8a875ad",
   "metadata": {},
   "outputs": [
    {
     "name": "stdout",
     "output_type": "stream",
     "text": [
      "Shapiro-Wilk Test: Statistics=0.8907687664031982, p-value=3.433181237595802e-42\n",
      "The logistics delay does not follow a normal distribution (reject H0).\n"
     ]
    }
   ],
   "source": [
    "# Shapiro-Wilk Test for Normality\n",
    "\n",
    "stat, p_value = stats.shapiro(logistics_delay_sample['LogisticsDelay'])\n",
    "print(f'Shapiro-Wilk Test: Statistics={stat}, p-value={p_value}')\n",
    "\n",
    "# Interpretation of Shapiro-Wilk Test\n",
    "# H0: The logistics delay follows a normal distribution\n",
    "    # if p value > 0.05, we fail to reject, the data follow a normal distribution\n",
    "    # if p value < 0.05, we reject, the data do not follow a normal distribution\n",
    "\n",
    "\n",
    "if p_value > 0.05:\n",
    "    print(\"The logistics delay follows a normal distribution (fail to reject H0).\")\n",
    "else:\n",
    "    print(\"The logistics delay does not follow a normal distribution (reject H0).\")"
   ]
  },
  {
   "cell_type": "markdown",
   "id": "360c972b-94f6-49b7-a268-2bede7bfc25d",
   "metadata": {},
   "source": [
    "<h5> Interpretation: Both the visual representation and the Shapiro-Wilk Test, indicate that the Logistics Delay does not follow a normal distribution. In this case further testing should be performed."
   ]
  },
  {
   "cell_type": "code",
   "execution_count": 36,
   "id": "02efe9e4-c40b-4682-98f7-5c9723e36c81",
   "metadata": {},
   "outputs": [
    {
     "name": "stdout",
     "output_type": "stream",
     "text": [
      "Kolmogorov-Smirnov Test: Statistics=0.7158238172920065, p-value=0.0\n",
      "The logistics delay does not follow an exponential distribution (reject H0).\n"
     ]
    }
   ],
   "source": [
    "### Kolmogorov-Smirnov Test for Exponential Distribution\n",
    "\n",
    "d_stat, d_p_value = stats.kstest(logistics_delay_sample['LogisticsDelay'], 'expon', args=(logistics_delay_sample['LogisticsDelay'].mean(), logistics_delay_sample['LogisticsDelay'].std()))\n",
    "print(f'Kolmogorov-Smirnov Test: Statistics={d_stat}, p-value={d_p_value}')\n",
    "\n",
    "# Interpretation of Kolmogorov-Smirnov Test\n",
    "# H0: The logistics delay follows an exponential distribution\n",
    "    # if p value > 0.05, we fail to reject, the data follow an exponential distribution\n",
    "    # if p value < 0.05, we reject, the data do not follow an exponential distribution\n",
    "\n",
    "if d_p_value > 0.05:\n",
    "    print(\"The logistics delay follows an exponential distribution (fail to reject H0).\")\n",
    "else:\n",
    "    print(\"The logistics delay does not follow an exponential distribution (reject H0).\")"
   ]
  },
  {
   "cell_type": "markdown",
   "id": "397576e8-425a-4342-b63a-8bdeb5773a35",
   "metadata": {},
   "source": [
    "<h5> Interpretation: The Kolmogorov-Smirnov Test indicate that the Logistic Delay does not follow an exponential distribution."
   ]
  },
  {
   "cell_type": "code",
   "execution_count": 37,
   "id": "908e5caf-1662-4e09-a4a0-0a87c66ee518",
   "metadata": {},
   "outputs": [
    {
     "name": "stdout",
     "output_type": "stream",
     "text": [
      "Kolmogorov-Smirnov Test for Gamma Distribution: Statistics=0.21600036314061488, p-value=5.208266151703579e-126\n",
      "The logistics delay does not follow a gamma distribution (reject H0).\n"
     ]
    }
   ],
   "source": [
    "### Kolmogorov-Smirnov Test for Gamma Distribution\n",
    "gamma_params = stats.gamma.fit(logistics_delay_sample['LogisticsDelay'])\n",
    "d_stat_gamma, d_p_value_gamma = stats.kstest(logistics_delay_sample['LogisticsDelay'], 'gamma', args=gamma_params)\n",
    "print(f'Kolmogorov-Smirnov Test for Gamma Distribution: Statistics={d_stat_gamma}, p-value={d_p_value_gamma}')\n",
    "\n",
    "\n",
    "# Interpretation of Kolmogorov-Smirnov Test\n",
    "# H0: The logistics delay follows a gamma distribution\n",
    "    # if p value > 0.05, we fail to reject, the data follow  a gamma distribution\n",
    "    # if p value < 0.05, we reject, the data do not follow  a gamma distribution\n",
    "\n",
    "\n",
    "if d_p_value_gamma > 0.05:\n",
    "    print(\"The logistics delay follows a gamma distribution (fail to reject H0).\")\n",
    "else:\n",
    "    print(\"The logistics delay does not follow a gamma distribution (reject H0).\")"
   ]
  },
  {
   "cell_type": "markdown",
   "id": "a38cc03d-c274-4c07-8583-de39a18d45dd",
   "metadata": {},
   "source": [
    "<h5> Interpretation: The Kolmogorov-Smirnov Test indicate that the Logistic Delay does not follow a gamma distribution."
   ]
  },
  {
   "cell_type": "code",
   "execution_count": 38,
   "id": "32d8328e-2440-4360-9349-651d201722f5",
   "metadata": {},
   "outputs": [
    {
     "name": "stdout",
     "output_type": "stream",
     "text": [
      "Kolmogorov-Smirnov Test for Log-Normal Distribution: Statistics=0.2179015832535024, p-value=2.9672178452961654e-128\n",
      "The logistics delay does not follow a log-normal distribution (reject H0).\n"
     ]
    }
   ],
   "source": [
    "### Kolmogorov-Smirnov Test for Log-Normal Distribution\n",
    "lognorm_params = stats.lognorm.fit(logistics_delay_sample['LogisticsDelay'])\n",
    "d_stat_lognorm, d_p_value_lognorm = stats.kstest(logistics_delay_sample['LogisticsDelay'], 'lognorm', args=lognorm_params)\n",
    "print(f'Kolmogorov-Smirnov Test for Log-Normal Distribution: Statistics={d_stat_lognorm}, p-value={d_p_value_lognorm}')\n",
    "\n",
    "\n",
    "# Interpretation of Kolmogorov-Smirnov Test\n",
    "# H0: The logistics delay follows a Log-Normal distribution\n",
    "    # if p value > 0.05, we fail to reject, the data follow  a Log-Normal distribution\n",
    "    # if p value < 0.05, we reject, the data do not follow  a Log-Normal distribution\n",
    "\n",
    "if d_p_value_lognorm > 0.05:\n",
    "    print(\"The logistics delay follows a log-normal distribution (fail to reject H0).\")\n",
    "else:\n",
    "    print(\"The logistics delay does not follow a log-normal distribution (reject H0).\")"
   ]
  },
  {
   "cell_type": "markdown",
   "id": "8323f770-712d-4783-971a-f23a81713864",
   "metadata": {},
   "source": [
    "<h5> Interpretation: The Kolmogorov-Smirnov Test indicate that the Logistic Delay does not follow a log-normal distribution."
   ]
  },
  {
   "cell_type": "markdown",
   "id": "d1c5e111-4c0d-4eca-8518-4673f1ac7d37",
   "metadata": {},
   "source": [
    "<h4>The results of our statistical tests indicate that the data do not follow a normal, exponential, gamma or log-normal distribution. The Logistics Delay data seem to have a complex distribution that is not captured by these parametric distributions."
   ]
  },
  {
   "cell_type": "markdown",
   "id": "d68ba17c-0599-43fe-bc48-f68a6e5e8c7d",
   "metadata": {},
   "source": [
    "<h4> To get more insight of the data, we can use the Kernel Density Estimation (KDE), to model the distribution without assuming any specific parametric form."
   ]
  },
  {
   "cell_type": "code",
   "execution_count": 39,
   "id": "4ea9baf9-b8bb-4abd-a47b-0b3d28f30e11",
   "metadata": {},
   "outputs": [
    {
     "data": {
      "image/png": "[encoded data removed]",
      "text/plain": [
       "<Figure size 700x400 with 1 Axes>"
      ]
     },
     "metadata": {},
     "output_type": "display_data"
    }
   ],
   "source": [
    "plt.figure(figsize=(7, 4))\n",
    "sns.kdeplot(logistics_delay_sample['LogisticsDelay'], shade=True)\n",
    "plt.title('Kernel Density Estimation of Logistics Delay (Sample)')\n",
    "plt.xlabel('Logistics Delay (days)')\n",
    "plt.ylabel('Density')\n",
    "plt.show()"
   ]
  },
  {
   "cell_type": "markdown",
   "id": "4d09746e-27a9-4579-87bd-12822fef4443",
   "metadata": {},
   "source": [
    "<h4> The KDE plot shows multiple peaks, reinforcing the indication that the logistics delay is multimodal. Specifically we notice peaks around 6, 7, 8 and 9. Which suggests that there may exist distinct groups (clusters) within the data. <h4>\n",
    "    \n",
    "    \n",
    "To get a better understanding, we can use unsupervised learning, to identify patterns and structures within the data. More specifically: Cluster Analysis."
   ]
  },
  {
   "cell_type": "code",
   "execution_count": 40,
   "id": "6621162a-89c1-4a46-a28d-46c0fc2bdf5d",
   "metadata": {},
   "outputs": [
    {
     "data": {
      "image/png": "[encoded data removed]",
      "text/plain": [
       "<Figure size 800x500 with 1 Axes>"
      ]
     },
     "metadata": {},
     "output_type": "display_data"
    },
    {
     "name": "stdout",
     "output_type": "stream",
     "text": [
      "Cluster 0 count    1281.0\n",
      "mean        7.0\n",
      "std         0.0\n",
      "min         7.0\n",
      "25%         7.0\n",
      "50%         7.0\n",
      "75%         7.0\n",
      "max         7.0\n",
      "Name: LogisticsDelay, dtype: float64\n",
      "Cluster 1 count    638.0\n",
      "mean       8.0\n",
      "std        0.0\n",
      "min        8.0\n",
      "25%        8.0\n",
      "50%        8.0\n",
      "75%        8.0\n",
      "max        8.0\n",
      "Name: LogisticsDelay, dtype: float64\n",
      "Cluster 2 count    838.0\n",
      "mean       6.0\n",
      "std        0.0\n",
      "min        6.0\n",
      "25%        6.0\n",
      "50%        6.0\n",
      "75%        6.0\n",
      "max        6.0\n",
      "Name: LogisticsDelay, dtype: float64\n",
      "Cluster 3 count    233.000000\n",
      "mean       9.253219\n",
      "std        0.541629\n",
      "min        9.000000\n",
      "25%        9.000000\n",
      "50%        9.000000\n",
      "75%        9.000000\n",
      "max       12.000000\n",
      "Name: LogisticsDelay, dtype: float64\n",
      "Cluster 4 count    75.0\n",
      "mean      5.0\n",
      "std       0.0\n",
      "min       5.0\n",
      "25%       5.0\n",
      "50%       5.0\n",
      "75%       5.0\n",
      "max       5.0\n",
      "Name: LogisticsDelay, dtype: float64\n"
     ]
    }
   ],
   "source": [
    "# Cluster Analysis\n",
    "\n",
    "# reshape data for clustering\n",
    "data_for_clustering = logistics_delay_sample['LogisticsDelay'].values.reshape(-1, 1)\n",
    "\n",
    "# perform K-Means clustering with 5 clusters\n",
    "kmeans = KMeans(n_clusters=5, random_state=1).fit(data_for_clustering)\n",
    "logistics_delay_sample['Cluster'] = kmeans.labels_\n",
    "\n",
    "# plot clusters\n",
    "plt.figure(figsize=(8, 5))\n",
    "sns.histplot(data=logistics_delay_sample, x='LogisticsDelay', hue='Cluster', kde=True, bins=25, palette='Set1')\n",
    "plt.title('Logistics Delay in Clusters')\n",
    "plt.xlabel('Logistics Delay (in days)')\n",
    "plt.ylabel('Frequency')\n",
    "plt.show()\n",
    "\n",
    "\n",
    "# Describe the Clusters\n",
    "cluster_0 = logistics_delay_sample[logistics_delay_sample['Cluster'] == 0]\n",
    "cluster_1 = logistics_delay_sample[logistics_delay_sample['Cluster'] == 1]\n",
    "cluster_2 = logistics_delay_sample[logistics_delay_sample['Cluster'] == 2]\n",
    "cluster_3 = logistics_delay_sample[logistics_delay_sample['Cluster'] == 3]\n",
    "cluster_4 = logistics_delay_sample[logistics_delay_sample['Cluster'] == 4]\n",
    "\n",
    "summary_0 = cluster_0['LogisticsDelay'].describe()\n",
    "summary_1 = cluster_1['LogisticsDelay'].describe()\n",
    "summary_2 = cluster_2['LogisticsDelay'].describe()\n",
    "summary_3 = cluster_3['LogisticsDelay'].describe()\n",
    "summary_4 = cluster_4['LogisticsDelay'].describe()\n",
    "\n",
    "print(\"Cluster 0\", summary_0)\n",
    "print(\"Cluster 1\", summary_1)\n",
    "print(\"Cluster 2\", summary_2)\n",
    "print(\"Cluster 3\", summary_3)\n",
    "print(\"Cluster 4\", summary_4)"
   ]
  },
  {
   "cell_type": "markdown",
   "id": "e649c0ab-eb0f-43ab-9812-27c9d258cc1d",
   "metadata": {},
   "source": [
    "<h4>After performing the Cluster Analysis we can confirm that the distribution is multimodal. More specifically, delays cluster around:\n",
    "    \n",
    "    5 days\n",
    "    6 days\n",
    "    7 days\n",
    "    8 days\n",
    "    9 to 12 days\n",
    "\n",
    "This indicates that the delays aren't spread evenly across a range but are instead concentrated at specific points."
   ]
  },
  {
   "cell_type": "markdown",
   "id": "ec30be79-2389-4853-9551-fa02f5f3a19e",
   "metadata": {},
   "source": [
    "<h3> b. Determine the mean logistics delay, considering weekends. Interpret this number and discuss possible alternatives."
   ]
  },
  {
   "cell_type": "code",
   "execution_count": 20,
   "id": "d6b320b4-2f33-49f0-ac64-ed4874031193",
   "metadata": {},
   "outputs": [
    {
     "ename": "NameError",
     "evalue": "name 'logistics_delay_df' is not defined",
     "output_type": "error",
     "traceback": [
      "\u001b[1;31m---------------------------------------------------------------------------\u001b[0m",
      "\u001b[1;31mNameError\u001b[0m                                 Traceback (most recent call last)",
      "Cell \u001b[1;32mIn[20], line 3\u001b[0m\n\u001b[0;32m      1\u001b[0m \u001b[38;5;66;03m#calculating the mean of the logistics delay dataframe using the describe() method. \u001b[39;00m\n\u001b[1;32m----> 3\u001b[0m logistics_delay_df[\u001b[38;5;124m'\u001b[39m\u001b[38;5;124mLogisticsDelay\u001b[39m\u001b[38;5;124m'\u001b[39m]\u001b[38;5;241m.\u001b[39mdescribe()\n",
      "\u001b[1;31mNameError\u001b[0m: name 'logistics_delay_df' is not defined"
     ]
    }
   ],
   "source": [
    "#calculating the mean of the logistics delay dataframe using the describe() method. \n",
    "\n",
    "logistics_delay_df['LogisticsDelay'].describe() "
   ]
  },
  {
   "cell_type": "markdown",
   "id": "f2d8b651-7b82-432b-84c8-a9b75972d323",
   "metadata": {},
   "source": [
    "The mean logistics delay, considering the weekends, is calculated to be 7.08 days. This number reflects the average time it takes for goods to move through the logistics process, including the time when operations might be slower or paused over the weekend. We can see that also during the Cluster Analysis. Cluster 0, in which the delay is 7 days, has the highest count of observations. \n",
    "    \n",
    "Impact of the weekend: \n",
    "Including the weekends in the calculation of the logistics delay can artificially inflate the delay times. For instance, if goods are produced on a Friday, they might not move forward in the process until the following business day, Monday, adding several days to the logistics delay.  \n",
    "\n",
    "\n",
    "A possible alternative would be to implement or increase weekend operations. For example, some automated processes or partial shifts. This way, the impact of the non-working time during the weekend would be minimized. \n",
    "    \n",
    "Another alternative would be to ensure that goods are not produced on a Friday, that way ensures that the time it takes for goods to move through the logistics process will not be artificially inflated."
   ]
  },
  {
   "cell_type": "markdown",
   "id": "04c1fe22-7ec4-449e-91ae-3572309d6ea2",
   "metadata": {},
   "source": [
    "<h3> c. Visualize the distribution appropriately by displaying the histogram and density function using “plotly.” Describe how you selected the size of the bins"
   ]
  },
  {
   "cell_type": "code",
   "execution_count": 21,
   "id": "fe6ecbe1-0e1f-44a7-a7b9-af0fed4c0eaa",
   "metadata": {},
   "outputs": [
    {
     "ename": "NameError",
     "evalue": "name 'logistics_delay_sample' is not defined",
     "output_type": "error",
     "traceback": [
      "\u001b[1;31m---------------------------------------------------------------------------\u001b[0m",
      "\u001b[1;31mNameError\u001b[0m                                 Traceback (most recent call last)",
      "Cell \u001b[1;32mIn[21], line 2\u001b[0m\n\u001b[0;32m      1\u001b[0m \u001b[38;5;66;03m#create a histogram and ovelay a density function\u001b[39;00m\n\u001b[1;32m----> 2\u001b[0m fig \u001b[38;5;241m=\u001b[39m ff\u001b[38;5;241m.\u001b[39mcreate_distplot(hist_data\u001b[38;5;241m=\u001b[39m[logistics_delay_sample[\u001b[38;5;124m'\u001b[39m\u001b[38;5;124mLogisticsDelay\u001b[39m\u001b[38;5;124m'\u001b[39m]], group_labels\u001b[38;5;241m=\u001b[39m[\u001b[38;5;124m'\u001b[39m\u001b[38;5;124mLogistics Delay\u001b[39m\u001b[38;5;124m'\u001b[39m], bin_size\u001b[38;5;241m=\u001b[39m\u001b[38;5;241m1\u001b[39m, show_hist\u001b[38;5;241m=\u001b[39m\u001b[38;5;28;01mTrue\u001b[39;00m, show_curve\u001b[38;5;241m=\u001b[39m\u001b[38;5;28;01mTrue\u001b[39;00m)\n\u001b[0;32m      4\u001b[0m \u001b[38;5;66;03m#customize the layout\u001b[39;00m\n\u001b[0;32m      5\u001b[0m fig\u001b[38;5;241m.\u001b[39mupdate_layout(\n\u001b[0;32m      6\u001b[0m     title\u001b[38;5;241m=\u001b[39m\u001b[38;5;124m'\u001b[39m\u001b[38;5;124mDistribution of Logistics Delays\u001b[39m\u001b[38;5;124m'\u001b[39m,\n\u001b[0;32m      7\u001b[0m     xaxis_title\u001b[38;5;241m=\u001b[39m\u001b[38;5;124m'\u001b[39m\u001b[38;5;124mLogistics Delay (days)\u001b[39m\u001b[38;5;124m'\u001b[39m,\n\u001b[0;32m      8\u001b[0m     bargap\u001b[38;5;241m=\u001b[39m\u001b[38;5;241m0.2\u001b[39m)\n",
      "\u001b[1;31mNameError\u001b[0m: name 'logistics_delay_sample' is not defined"
     ]
    }
   ],
   "source": [
    "#create a histogram and ovelay a density function\n",
    "fig = ff.create_distplot(hist_data=[logistics_delay_sample['LogisticsDelay']], group_labels=['Logistics Delay'], bin_size=1, show_hist=True, show_curve=True)\n",
    "\n",
    "#customize the layout\n",
    "fig.update_layout(\n",
    "    title='Distribution of Logistics Delays',\n",
    "    xaxis_title='Logistics Delay (days)',\n",
    "    bargap=0.2)\n",
    "\n",
    "#show the plot \n",
    "fig.show()\n"
   ]
  },
  {
   "cell_type": "markdown",
   "id": "e42dca3e-3df0-4d5d-8de7-9708d86f406d",
   "metadata": {},
   "source": [
    "The bin size for a histogram is crucial because it affects the presentation of the data. In this particualr case, since the data is discrete - delays measured in whole days - a bin size of 1 (day) is appropriate. \n",
    "This way each delay day has its own bin, clearly highlighting the distribution of the delay time. "
   ]
  },
  {
   "cell_type": "markdown",
   "id": "343d35d6-598d-4f16-918d-c7dd688a3038",
   "metadata": {},
   "source": [
    "<h3> d) Describe the process for creating a decision tree to classify whether the \n",
    "component (K7) is defective (Fehlerhaft) or not. (Hint: Use visualizations.)"
   ]
  },
  {
   "cell_type": "markdown",
   "id": "32385905-c277-438b-8366-401aed36ff70",
   "metadata": {},
   "source": [
    "### Step 1: Import Packages\n",
    "\n",
    "Import packages that will be used for the creation of the tree:\n",
    "matplotlib.pyplot, sklearn etc\n",
    "    \n",
    "\n",
    "### Step 2: Data Preparation\n",
    "#### Merge Datasets \n",
    "Combine Komponente_K7 - including the production details  of K7 & Logistikverzug_K7 - which includes the logistics delay of K7\n",
    "\n",
    "#### Handle Data\n",
    "Examine the data, check for missing values and decide how to hanlde them (this can be either imputing mean/median or deleting rows with missing data)\n",
    "\n",
    "\n",
    "### Step 3 Visualize Data \n",
    "Plot a correlation matrix to see how the different features (production date, logistics delay, Herstellernummer, Werknummer) interact with the defectiveness of K7. This can help select the most relevant features for the model. \n",
    "\n",
    "In addition to that, a boxplot or a histogram can be used to determine the distribution of the data and get a deeper understanding. \n",
    "\n",
    "### Step 4  Define Features and Target Variable \n",
    "\n",
    "#### Target Variable:\n",
    "Is the componenent defective or not?\n",
    "\n",
    "#### Features: \n",
    "Determine the features that are most relevant for target variable - for example one of the primary features can be Logistics Delay, or a combination of the Logistics Delay and Herstellernummer. \n",
    "\n",
    "### Step 5: Splitting the data\n",
    "\n",
    "Split the dataset into a training set and a testing set. The training set will be used to train the model and the test set to evaluate the performance of the decision tree. This split can have a balance 70% training and 30% testing. \n",
    "\n",
    "### Step 6: Building the decision tree\n",
    "Use a decision tree classifier from the scikit-learn library. The decision tree algorithm will automatically determine the best splits in the data to classify components as defective or not.\n",
    "\n",
    "Consider tuning hyperprarameters like: maximum depth of the tree, minimum samples per leaf. \n",
    "\n",
    "### Step 7: Evaluate the model\n",
    "Confusion matrix: Evaluate the model using a confusion matrix to determine the number ofof true positives, false positives, true negatives, and false negatives.\n",
    "\n",
    "### Step 8: Visualize the decision tree \n",
    "Visualize the tree. For example using plot_tree from scikit-learn\n",
    "\n",
    "### Step 9:  Final model interpretation \n",
    "Interprete the tree's structure"
   ]
  },
  {
   "cell_type": "markdown",
   "id": "135a8e85-8b3d-4de3-b0ae-13245fb255cc",
   "metadata": {},
   "source": [
    "<a id=\"Separate-files\"></a>\n",
    "\n",
    "## Data Storage in Separate Files\n",
    "\n",
    "<h3> Explain why it makes sense to store the available data in separate files instead of \n",
    "saving everything in one large table. Name at least four benefits. The available tables \n",
    "represent a typical database structure. What is this structure called?"
   ]
  },
  {
   "cell_type": "markdown",
   "id": "af6517f8-7486-4d71-8b5d-8419053e31d7",
   "metadata": {},
   "source": [
    "#### Data security: \n",
    "When saved in separate files, sensitive data are better protected. For example, in case of data corruption or loss, the impact is limited to the affected files rather to the whole dataset. \n",
    "\n",
    "#### Enhanced performance \n",
    "Large tables can lead to slower performance and longer processing times. By creating separate files, queries can be executed faster and more efficiently, as the exposure to unecessery data is limited.\n",
    "\n",
    "#### Data Integrity \n",
    "When data are stored in smaller separate files, the complexity of managing and processing the data is reduced. This leads to fewer errors, which can help maintain accuracy and consistency.\n",
    "\n",
    "#### Scalability and ease of integration. \n",
    "As the data grows, separate files allows to scale more efficiently. New files can be added, or older ones can be removed, without having to mess with the whole system. Similarly, separate files are more easely integrated in different systems.\n",
    "\n",
    "#### Easier maintenance and debugging\n",
    "If there is an issue with the data, identifying and fixing the problem is easier when the data is organized into separate files. In addition to that, tasks such as cleaning, or updating can be performed quicker ,as one is focused on specific files instead of the whole data set.\n",
    "\n",
    "#### The name of such a database structure is: Relational Database Structure"
   ]
  },
  {
   "cell_type": "markdown",
   "id": "909d9683-86e8-4d46-b361-34866beb59c3",
   "metadata": {},
   "source": [
    "<a id=\"adelshofen\"></a>\n",
    "\n",
    "## Parts T16 in Registered Vehicles\n",
    "\n",
    "<h3> Determine how many parts T16 ended up in vehicles registered in Adelshofen"
   ]
  },
  {
   "cell_type": "markdown",
   "id": "d7a30a14-8728-42e8-96ed-dd3c752ddb4c",
   "metadata": {},
   "source": [
    "<h4>Extract the unique column names (without .x or .y)"
   ]
  },
  {
   "cell_type": "code",
   "execution_count": 43,
   "id": "d0cf7a7a-2647-49df-80bb-b57d1859238e",
   "metadata": {},
   "outputs": [],
   "source": [
    "base_columns = set(col.split('.')[0] for col in Einzelteil.columns)"
   ]
  },
  {
   "cell_type": "markdown",
   "id": "f5773da9-2635-4011-bc74-054e28285492",
   "metadata": {},
   "source": [
    "<h4>Initialize an empty DataFrame to store the combined columns"
   ]
  },
  {
   "cell_type": "code",
   "execution_count": 44,
   "id": "4e6a4ab8-2469-45d3-a696-fa6c8954b1c8",
   "metadata": {},
   "outputs": [],
   "source": [
    "combined_df = pd.DataFrame()"
   ]
  },
  {
   "cell_type": "code",
   "execution_count": 45,
   "id": "6aeaba2a-2cc5-4748-a3e3-77c263aa2ccc",
   "metadata": {},
   "outputs": [],
   "source": [
    "# Loop through each unique base column\n",
    "for col in base_columns:\n",
    "    # Combine columns with suffix .x, .y, and the original column\n",
    "    if f\"{col}.x\" in Einzelteil.columns and f\"{col}.y\" in Einzelteil.columns:\n",
    "        combined_df[col] = Einzelteil[col].combine_first(Einzelteil[f\"{col}.x\"]).combine_first(Einzelteil[f\"{col}.y\"])\n",
    "    elif f\"{col}.x\" in Einzelteil.columns:\n",
    "        combined_df[col] = Einzelteil[col].combine_first(Einzelteil[f\"{col}.x\"])\n",
    "    elif f\"{col}.y\" in Einzelteil.columns:\n",
    "        combined_df[col] = Einzelteil[col].combine_first(Einzelteil[f\"{col}.y\"])\n",
    "    else:\n",
    "        combined_df[col] = Einzelteil[col]\n"
   ]
  },
  {
   "cell_type": "code",
   "execution_count": 46,
   "id": "62fdfc84-a8a0-4136-b89f-0cc399bed13e",
   "metadata": {},
   "outputs": [
    {
     "data": {
      "text/html": [
       "<div>\n",
       "<style scoped>\n",
       "    .dataframe tbody tr th:only-of-type {\n",
       "        vertical-align: middle;\n",
       "    }\n",
       "\n",
       "    .dataframe tbody tr th {\n",
       "        vertical-align: top;\n",
       "    }\n",
       "\n",
       "    .dataframe thead th {\n",
       "        text-align: right;\n",
       "    }\n",
       "</style>\n",
       "<table border=\"1\" class=\"dataframe\">\n",
       "  <thead>\n",
       "    <tr style=\"text-align: right;\">\n",
       "      <th></th>\n",
       "      <th>Herstellernummer</th>\n",
       "      <th>Fehlerhaft_Fahrleistung</th>\n",
       "      <th>Fehlerhaft_Datum</th>\n",
       "      <th>Produktionsdatum</th>\n",
       "      <th>Werksnummer</th>\n",
       "      <th>ID_T16</th>\n",
       "      <th>X1</th>\n",
       "      <th>Fehlerhaft</th>\n",
       "    </tr>\n",
       "  </thead>\n",
       "  <tbody>\n",
       "    <tr>\n",
       "      <th>1</th>\n",
       "      <td>212.0</td>\n",
       "      <td>0.0</td>\n",
       "      <td>NaN</td>\n",
       "      <td>2008-11-07</td>\n",
       "      <td>2121.0</td>\n",
       "      <td>16-212-2121-7</td>\n",
       "      <td>1</td>\n",
       "      <td>0.0</td>\n",
       "    </tr>\n",
       "    <tr>\n",
       "      <th>2</th>\n",
       "      <td>212.0</td>\n",
       "      <td>0.0</td>\n",
       "      <td>NaN</td>\n",
       "      <td>2008-11-08</td>\n",
       "      <td>2122.0</td>\n",
       "      <td>16-212-2122-41</td>\n",
       "      <td>2</td>\n",
       "      <td>0.0</td>\n",
       "    </tr>\n",
       "    <tr>\n",
       "      <th>3</th>\n",
       "      <td>212.0</td>\n",
       "      <td>0.0</td>\n",
       "      <td>NaN</td>\n",
       "      <td>2008-11-07</td>\n",
       "      <td>2121.0</td>\n",
       "      <td>16-212-2121-36</td>\n",
       "      <td>5</td>\n",
       "      <td>0.0</td>\n",
       "    </tr>\n",
       "    <tr>\n",
       "      <th>4</th>\n",
       "      <td>212.0</td>\n",
       "      <td>0.0</td>\n",
       "      <td>NaN</td>\n",
       "      <td>2008-11-07</td>\n",
       "      <td>2122.0</td>\n",
       "      <td>16-212-2122-20</td>\n",
       "      <td>10</td>\n",
       "      <td>0.0</td>\n",
       "    </tr>\n",
       "    <tr>\n",
       "      <th>5</th>\n",
       "      <td>212.0</td>\n",
       "      <td>0.0</td>\n",
       "      <td>NaN</td>\n",
       "      <td>2008-11-07</td>\n",
       "      <td>2122.0</td>\n",
       "      <td>16-212-2122-33</td>\n",
       "      <td>12</td>\n",
       "      <td>0.0</td>\n",
       "    </tr>\n",
       "  </tbody>\n",
       "</table>\n",
       "</div>"
      ],
      "text/plain": [
       "   Herstellernummer  Fehlerhaft_Fahrleistung Fehlerhaft_Datum  \\\n",
       "1             212.0                      0.0              NaN   \n",
       "2             212.0                      0.0              NaN   \n",
       "3             212.0                      0.0              NaN   \n",
       "4             212.0                      0.0              NaN   \n",
       "5             212.0                      0.0              NaN   \n",
       "\n",
       "  Produktionsdatum  Werksnummer          ID_T16  X1  Fehlerhaft  \n",
       "1       2008-11-07       2121.0   16-212-2121-7   1         0.0  \n",
       "2       2008-11-08       2122.0  16-212-2122-41   2         0.0  \n",
       "3       2008-11-07       2121.0  16-212-2121-36   5         0.0  \n",
       "4       2008-11-07       2122.0  16-212-2122-20  10         0.0  \n",
       "5       2008-11-07       2122.0  16-212-2122-33  12         0.0  "
      ]
     },
     "execution_count": 46,
     "metadata": {},
     "output_type": "execute_result"
    }
   ],
   "source": [
    "combined_df.head()"
   ]
  },
  {
   "cell_type": "code",
   "execution_count": 47,
   "id": "5c3416ab-cf13-4a47-ae64-58175bfae6c8",
   "metadata": {},
   "outputs": [
    {
     "data": {
      "text/plain": [
       "Herstellernummer                3\n",
       "Fehlerhaft_Fahrleistung       426\n",
       "Fehlerhaft_Datum             2899\n",
       "Produktionsdatum             2914\n",
       "Werksnummer                     5\n",
       "ID_T16                     818844\n",
       "X1                         818844\n",
       "Fehlerhaft                      2\n",
       "dtype: int64"
      ]
     },
     "execution_count": 47,
     "metadata": {},
     "output_type": "execute_result"
    }
   ],
   "source": [
    "combined_df.nunique()"
   ]
  },
  {
   "cell_type": "markdown",
   "id": "9f46b375-9148-4bb3-8187-2d3fad4c52ef",
   "metadata": {},
   "source": [
    "<H4> Merge all the files"
   ]
  },
  {
   "cell_type": "code",
   "execution_count": 48,
   "id": "19ebf771-bd0e-4451-8adb-6c146bdd6837",
   "metadata": {},
   "outputs": [
    {
     "data": {
      "text/html": [
       "<div>\n",
       "<style scoped>\n",
       "    .dataframe tbody tr th:only-of-type {\n",
       "        vertical-align: middle;\n",
       "    }\n",
       "\n",
       "    .dataframe tbody tr th {\n",
       "        vertical-align: top;\n",
       "    }\n",
       "\n",
       "    .dataframe thead th {\n",
       "        text-align: right;\n",
       "    }\n",
       "</style>\n",
       "<table border=\"1\" class=\"dataframe\">\n",
       "  <thead>\n",
       "    <tr style=\"text-align: right;\">\n",
       "      <th></th>\n",
       "      <th>Herstellernummer</th>\n",
       "      <th>Fehlerhaft_Fahrleistung</th>\n",
       "      <th>Fehlerhaft_Datum</th>\n",
       "      <th>Produktionsdatum</th>\n",
       "      <th>Werksnummer</th>\n",
       "      <th>ID_T16</th>\n",
       "      <th>X1</th>\n",
       "      <th>Fehlerhaft</th>\n",
       "      <th>ID_Komponente</th>\n",
       "      <th>IDNummer</th>\n",
       "      <th>Unnamed: 0</th>\n",
       "      <th>Gemeinden</th>\n",
       "      <th>Zulassung</th>\n",
       "    </tr>\n",
       "  </thead>\n",
       "  <tbody>\n",
       "    <tr>\n",
       "      <th>0</th>\n",
       "      <td>212.0</td>\n",
       "      <td>0.0</td>\n",
       "      <td>NaN</td>\n",
       "      <td>2008-11-07</td>\n",
       "      <td>2121.0</td>\n",
       "      <td>16-212-2121-7</td>\n",
       "      <td>1</td>\n",
       "      <td>0.0</td>\n",
       "      <td>K2ST2-109-1092-2</td>\n",
       "      <td>22-2-21-1</td>\n",
       "      <td>2897615</td>\n",
       "      <td>RIESA</td>\n",
       "      <td>02-01-2009</td>\n",
       "    </tr>\n",
       "    <tr>\n",
       "      <th>1</th>\n",
       "      <td>212.0</td>\n",
       "      <td>0.0</td>\n",
       "      <td>NaN</td>\n",
       "      <td>2008-11-08</td>\n",
       "      <td>2122.0</td>\n",
       "      <td>16-212-2122-41</td>\n",
       "      <td>2</td>\n",
       "      <td>0.0</td>\n",
       "      <td>K2ST2-109-1092-59</td>\n",
       "      <td>22-2-21-2</td>\n",
       "      <td>2897616</td>\n",
       "      <td>GROEDITZ</td>\n",
       "      <td>02-01-2009</td>\n",
       "    </tr>\n",
       "    <tr>\n",
       "      <th>2</th>\n",
       "      <td>212.0</td>\n",
       "      <td>0.0</td>\n",
       "      <td>NaN</td>\n",
       "      <td>2008-11-07</td>\n",
       "      <td>2121.0</td>\n",
       "      <td>16-212-2121-36</td>\n",
       "      <td>5</td>\n",
       "      <td>0.0</td>\n",
       "      <td>K2ST2-109-1092-7</td>\n",
       "      <td>22-2-21-5</td>\n",
       "      <td>2897619</td>\n",
       "      <td>NAUNHOF</td>\n",
       "      <td>02-01-2009</td>\n",
       "    </tr>\n",
       "    <tr>\n",
       "      <th>3</th>\n",
       "      <td>212.0</td>\n",
       "      <td>0.0</td>\n",
       "      <td>NaN</td>\n",
       "      <td>2008-11-07</td>\n",
       "      <td>2122.0</td>\n",
       "      <td>16-212-2122-20</td>\n",
       "      <td>10</td>\n",
       "      <td>0.0</td>\n",
       "      <td>K2ST2-109-1092-41</td>\n",
       "      <td>22-2-21-10</td>\n",
       "      <td>2897624</td>\n",
       "      <td>BEESKOW</td>\n",
       "      <td>02-01-2009</td>\n",
       "    </tr>\n",
       "    <tr>\n",
       "      <th>4</th>\n",
       "      <td>212.0</td>\n",
       "      <td>0.0</td>\n",
       "      <td>NaN</td>\n",
       "      <td>2008-11-07</td>\n",
       "      <td>2122.0</td>\n",
       "      <td>16-212-2122-33</td>\n",
       "      <td>12</td>\n",
       "      <td>0.0</td>\n",
       "      <td>K2ST2-109-1092-67</td>\n",
       "      <td>22-2-21-12</td>\n",
       "      <td>2897626</td>\n",
       "      <td>EISENHUETTENSTADT</td>\n",
       "      <td>02-01-2009</td>\n",
       "    </tr>\n",
       "  </tbody>\n",
       "</table>\n",
       "</div>"
      ],
      "text/plain": [
       "   Herstellernummer  Fehlerhaft_Fahrleistung Fehlerhaft_Datum  \\\n",
       "0             212.0                      0.0              NaN   \n",
       "1             212.0                      0.0              NaN   \n",
       "2             212.0                      0.0              NaN   \n",
       "3             212.0                      0.0              NaN   \n",
       "4             212.0                      0.0              NaN   \n",
       "\n",
       "  Produktionsdatum  Werksnummer          ID_T16  X1  Fehlerhaft  \\\n",
       "0       2008-11-07       2121.0   16-212-2121-7   1         0.0   \n",
       "1       2008-11-08       2122.0  16-212-2122-41   2         0.0   \n",
       "2       2008-11-07       2121.0  16-212-2121-36   5         0.0   \n",
       "3       2008-11-07       2122.0  16-212-2122-20  10         0.0   \n",
       "4       2008-11-07       2122.0  16-212-2122-33  12         0.0   \n",
       "\n",
       "       ID_Komponente    IDNummer  Unnamed: 0          Gemeinden   Zulassung  \n",
       "0   K2ST2-109-1092-2   22-2-21-1     2897615              RIESA  02-01-2009  \n",
       "1  K2ST2-109-1092-59   22-2-21-2     2897616           GROEDITZ  02-01-2009  \n",
       "2   K2ST2-109-1092-7   22-2-21-5     2897619            NAUNHOF  02-01-2009  \n",
       "3  K2ST2-109-1092-41  22-2-21-10     2897624            BEESKOW  02-01-2009  \n",
       "4  K2ST2-109-1092-67  22-2-21-12     2897626  EISENHUETTENSTADT  02-01-2009  "
      ]
     },
     "execution_count": 48,
     "metadata": {},
     "output_type": "execute_result"
    }
   ],
   "source": [
    "# Step 1: Join combined_df and Komponente_df on ID_T16\n",
    "merged_df1 = pd.merge(combined_df, Komponente_df, on='ID_T16', how='inner')\n",
    "\n",
    "# Step 2: Join the result with Fahrzeuge_Merged_df on ID_Komponente\n",
    "merged_df2 = pd.merge(merged_df1, Fahrzeuge_Merged_df, on='ID_Komponente', how='inner')\n",
    "\n",
    "# Step 3: Join the result with zulassungen_df on IDNummer\n",
    "final_merged_df = pd.merge(merged_df2, zulassungen_df, on='IDNummer', how='inner')\n",
    "\n",
    "# Display the first few rows of the final merged DataFrame\n",
    "final_merged_df.head()"
   ]
  },
  {
   "cell_type": "markdown",
   "id": "b4e3f3b7-57a3-4823-827f-960748239655",
   "metadata": {},
   "source": [
    "<H4> Filter the DataFrame where Gemeinden is 'Adelshofen'"
   ]
  },
  {
   "cell_type": "code",
   "execution_count": 49,
   "id": "223735d9-25cc-4d96-9315-435b21c5fec5",
   "metadata": {},
   "outputs": [],
   "source": [
    "filtered_df = final_merged_df[final_merged_df['Gemeinden'] == 'ADELSHOFEN']"
   ]
  },
  {
   "cell_type": "markdown",
   "id": "4410658d-9429-470f-ac91-7ef029dcf4b9",
   "metadata": {},
   "source": [
    "<h4> Count the number of unique ID_T16 values"
   ]
  },
  {
   "cell_type": "code",
   "execution_count": 50,
   "id": "c8f554e8-280b-4606-baec-0d0ec661eec9",
   "metadata": {},
   "outputs": [],
   "source": [
    "unique_id_count = filtered_df['ID_T16'].nunique()"
   ]
  },
  {
   "cell_type": "code",
   "execution_count": 51,
   "id": "08485310-526e-473c-8b8d-a38deb5425f5",
   "metadata": {},
   "outputs": [
    {
     "name": "stdout",
     "output_type": "stream",
     "text": [
      "Number of unique ID_T16 where Gemeinden = 'Adelshofen': 8\n"
     ]
    }
   ],
   "source": [
    "print(f\"Number of unique ID_T16 where Gemeinden = 'Adelshofen': {unique_id_count}\")"
   ]
  },
  {
   "cell_type": "markdown",
   "id": "7a530e34-6b18-4e4a-b06e-18c81a4161c6",
   "metadata": {},
   "source": [
    "<a id=\"data-types\"></a>\n",
    "\n",
    "## Attributes of the Registration Table\n",
    "\n",
    "\n",
    "<h3> Identify the data types of the attributes in the registration table “Zulassungen_aller_Fahrzeuge.” Present your answers in a table integrated into your Markdown document and describe the characteristics of the data types."
   ]
  },
  {
   "cell_type": "code",
   "execution_count": 52,
   "id": "80b42341-32b8-4244-9197-8741d51aeb94",
   "metadata": {},
   "outputs": [],
   "source": [
    "# Checking data types of the attributes in Zulassungen_alle_Fahrzeuge\n",
    "data_types = zulassungen_df.dtypes"
   ]
  },
  {
   "cell_type": "code",
   "execution_count": 53,
   "id": "81e6ee0d-d7fa-4859-b209-ed662bddabf9",
   "metadata": {},
   "outputs": [
    {
     "name": "stdout",
     "output_type": "stream",
     "text": [
      "           Data Type\n",
      "Unnamed: 0     int64\n",
      "IDNummer      object\n",
      "Gemeinden     object\n",
      "Zulassung     object\n"
     ]
    }
   ],
   "source": [
    "# Presenting data types in a table format\n",
    "data_types_table = pd.DataFrame(data_types, columns=['Data Type'])\n",
    "print(data_types_table)"
   ]
  },
  {
   "cell_type": "code",
   "execution_count": 54,
   "id": "d471ae6c-730c-4d1f-910b-627381868c2a",
   "metadata": {},
   "outputs": [],
   "source": [
    "# Rename the Unnamed: 0 column\n",
    "zulassungen_df.rename(columns={'Unnamed: 0': 'Index'}, inplace=True)"
   ]
  },
  {
   "cell_type": "code",
   "execution_count": 55,
   "id": "5afd336a-939d-449c-bf71-fbac846a63f4",
   "metadata": {},
   "outputs": [],
   "source": [
    "# Convert Zulassung to datetime\n",
    "zulassungen_df['Zulassung'] = pd.to_datetime(zulassungen_df['Zulassung'], format='%d-%m-%Y')"
   ]
  },
  {
   "cell_type": "code",
   "execution_count": 56,
   "id": "b99423f1-04a3-441e-ad33-56d4e6787941",
   "metadata": {},
   "outputs": [
    {
     "name": "stdout",
     "output_type": "stream",
     "text": [
      "Total entries in 'Gemeinden': 1048575\n",
      "Unique values in 'Gemeinden': 5752\n"
     ]
    }
   ],
   "source": [
    "# Check the unique values and count of the \"Gemeinden\" column\n",
    "unique_gemeinden = zulassungen_df['Gemeinden'].nunique()\n",
    "total_gemeinden = zulassungen_df['Gemeinden'].count()\n",
    "\n",
    "print(f\"Total entries in 'Gemeinden': {total_gemeinden}\")\n",
    "print(f\"Unique values in 'Gemeinden': {unique_gemeinden}\")"
   ]
  },
  {
   "cell_type": "code",
   "execution_count": 57,
   "id": "660841a8-ba17-45d6-836c-89eed6b54f89",
   "metadata": {},
   "outputs": [
    {
     "name": "stdout",
     "output_type": "stream",
     "text": [
      "Converted 'Gemeinden' column to category type.\n"
     ]
    }
   ],
   "source": [
    "# If unique values are significantly less than total, converting to category is efficient\n",
    "if unique_gemeinden < total_gemeinden / 2:  # Arbitrary threshold; adjust as needed\n",
    "    zulassungen_df['Gemeinden'] = zulassungen_df['Gemeinden'].astype('category')\n",
    "    print(\"Converted 'Gemeinden' column to category type.\")\n",
    "else:\n",
    "    zulassungen_df['Gemeinden'] = zulassungen_df['Gemeinden'].astype('str')\n",
    "    print(\"Converted 'Gemeinden' column to string type.\")"
   ]
  },
  {
   "cell_type": "code",
   "execution_count": 58,
   "id": "83093d4f-9eae-4943-9e5d-e7201b48d9ea",
   "metadata": {},
   "outputs": [
    {
     "name": "stdout",
     "output_type": "stream",
     "text": [
      "Data types after converting 'Gemeinden':\n",
      "Index                 int64\n",
      "IDNummer             object\n",
      "Gemeinden          category\n",
      "Zulassung    datetime64[ns]\n",
      "dtype: object\n"
     ]
    }
   ],
   "source": [
    "# Check the updated data types\n",
    "print(\"Data types after converting 'Gemeinden':\")\n",
    "print(zulassungen_df.dtypes)"
   ]
  },
  {
   "cell_type": "code",
   "execution_count": 59,
   "id": "82b6b633-cdbd-480f-af44-fe9998ffc808",
   "metadata": {},
   "outputs": [],
   "source": [
    "# Update the data types table after conversion\n",
    "data_types_table = pd.DataFrame(zulassungen_df.dtypes, columns=['Data Type'])"
   ]
  },
  {
   "cell_type": "code",
   "execution_count": 60,
   "id": "ae077d49-2a6f-4aff-a186-9f4a76c9f840",
   "metadata": {},
   "outputs": [],
   "source": [
    "# Normalize the Data Type values to lowercase\n",
    "data_types_table['Data Type'] = data_types_table['Data Type'].astype(str).str.lower()"
   ]
  },
  {
   "cell_type": "code",
   "execution_count": 61,
   "id": "8b6c7f43-4d72-4499-9c87-bf7e5da562f8",
   "metadata": {},
   "outputs": [],
   "source": [
    "# Describe the characteristics of each data type\n",
    "characteristics = {\n",
    "    'int64': 'Integer data type, used for numeric data.',\n",
    "    'float64': 'Floating point data type, used for numeric data with decimals.',\n",
    "    'object': 'Object data type, often used for text data or mixed data types.',\n",
    "    'datetime64[ns]': 'Datetime data type, used for date and time information.',\n",
    "    'category': 'Category data type, used for categorical data to save memory.'\n",
    "}"
   ]
  },
  {
   "cell_type": "code",
   "execution_count": 62,
   "id": "fccf8422-37dd-4860-a304-1f0f44280dd3",
   "metadata": {},
   "outputs": [],
   "source": [
    "# Adding characteristics to the table using .get() with a default value\n",
    "data_types_table['Characteristics'] = data_types_table['Data Type'].apply(lambda x: characteristics.get(x, 'Unknown data type'))"
   ]
  },
  {
   "cell_type": "code",
   "execution_count": 63,
   "id": "81a1305b-90c7-478f-b5aa-59291efe2b68",
   "metadata": {},
   "outputs": [
    {
     "name": "stdout",
     "output_type": "stream",
     "text": [
      "                Data Type                                    Characteristics\n",
      "Index               int64          Integer data type, used for numeric data.\n",
      "IDNummer           object  Object data type, often used for text data or ...\n",
      "Gemeinden        category  Category data type, used for categorical data ...\n",
      "Zulassung  datetime64[ns]  Datetime data type, used for date and time inf...\n"
     ]
    }
   ],
   "source": [
    "print(data_types_table)"
   ]
  },
  {
   "cell_type": "code",
   "execution_count": 64,
   "id": "9c87bdc3-fb84-4478-a374-a96caac6db2f",
   "metadata": {},
   "outputs": [],
   "source": [
    "# Convert the table to markdown format\n",
    "from tabulate import tabulate\n",
    "markdown_table = tabulate(data_types_table, headers='keys', tablefmt='pipe')\n"
   ]
  },
  {
   "cell_type": "code",
   "execution_count": 65,
   "id": "48cc8d54-04c9-44d6-b213-c026ef78e3ec",
   "metadata": {},
   "outputs": [
    {
     "name": "stdout",
     "output_type": "stream",
     "text": [
      "\n",
      "Markdown Table:\n",
      "\n",
      "|           | Data Type      | Characteristics                                                 |\n",
      "|:----------|:---------------|:----------------------------------------------------------------|\n",
      "| Index     | int64          | Integer data type, used for numeric data.                       |\n",
      "| IDNummer  | object         | Object data type, often used for text data or mixed data types. |\n",
      "| Gemeinden | category       | Category data type, used for categorical data to save memory.   |\n",
      "| Zulassung | datetime64[ns] | Datetime data type, used for date and time information.         |\n"
     ]
    }
   ],
   "source": [
    "# Print the markdown table\n",
    "print(\"\\nMarkdown Table:\\n\")\n",
    "print(markdown_table)"
   ]
  },
  {
   "cell_type": "markdown",
   "id": "01ceb270-aa7e-464c-a2bd-3a24cc3d3224",
   "metadata": {},
   "source": [
    "<H4>  Data Types in \"Zulassungen_aller_Fahrzeuge\"\n",
    "\n",
    "#####  Data Types and Characteristics\n",
    "\n",
    "| Attribute      | Data Type       | Characteristics                                           |\n",
    "|----------------|-----------------|-----------------------------------------------------------|\n",
    "| Index          | `int64`         | Integer data type, used for numeric data.                 |\n",
    "| IDNummer       | `object`        | Object data type, often used for text data or mixed data types. |\n",
    "| Gemeinden      | `category`      | Category data type, used for categorical data to save memory. |\n",
    "| Zulassung      | `datetime64[ns]`| Datetime data type, used for date and time information.   |\n"
   ]
  },
  {
   "cell_type": "markdown",
   "id": "d58bfb33-63f1-436f-b988-8b0bdc3d47c1",
   "metadata": {},
   "source": [
    "<a id=\"linear-Visualization\"></a>\n",
    "\n",
    "\n",
    "## Linear Model for Mileage\n",
    "\n",
    "<h3> Create a linear model from the table “Fahrzeuge_OEM1_Typ11_Fehleranalyse” relating mileage to suitable variables. Derive recommendations for OEM1 based on this model."
   ]
  },
  {
   "cell_type": "code",
   "execution_count": 66,
   "id": "317c433d-0446-4422-8cb3-490f33af90c3",
   "metadata": {},
   "outputs": [],
   "source": [
    "# Dropping the first two columns as they contain the same values\n",
    "Fahrzeuge_df = Fahrzeuge_df.drop(columns=['Unnamed: 0',  'X1'])"
   ]
  },
  {
   "cell_type": "code",
   "execution_count": 67,
   "id": "2270224a-e094-41d8-bb80-e70a6a4461e8",
   "metadata": {},
   "outputs": [
    {
     "data": {
      "text/html": [
       "<div>\n",
       "<style scoped>\n",
       "    .dataframe tbody tr th:only-of-type {\n",
       "        vertical-align: middle;\n",
       "    }\n",
       "\n",
       "    .dataframe tbody tr th {\n",
       "        vertical-align: top;\n",
       "    }\n",
       "\n",
       "    .dataframe thead th {\n",
       "        text-align: right;\n",
       "    }\n",
       "</style>\n",
       "<table border=\"1\" class=\"dataframe\">\n",
       "  <thead>\n",
       "    <tr style=\"text-align: right;\">\n",
       "      <th></th>\n",
       "      <th>X</th>\n",
       "      <th>ID_Fahrzeug</th>\n",
       "      <th>Herstellernummer</th>\n",
       "      <th>Werksnummer</th>\n",
       "      <th>Fehlerhaft_Datum</th>\n",
       "      <th>Fehlerhaft_Fahrleistung</th>\n",
       "      <th>days</th>\n",
       "      <th>fuel</th>\n",
       "      <th>engine</th>\n",
       "    </tr>\n",
       "  </thead>\n",
       "  <tbody>\n",
       "    <tr>\n",
       "      <th>0</th>\n",
       "      <td>9</td>\n",
       "      <td>11-1-11-9</td>\n",
       "      <td>1</td>\n",
       "      <td>11</td>\n",
       "      <td>2010-03-16</td>\n",
       "      <td>34824.319559</td>\n",
       "      <td>1493.150761</td>\n",
       "      <td>4.003670</td>\n",
       "      <td>small</td>\n",
       "    </tr>\n",
       "    <tr>\n",
       "      <th>1</th>\n",
       "      <td>11</td>\n",
       "      <td>11-1-11-11</td>\n",
       "      <td>1</td>\n",
       "      <td>11</td>\n",
       "      <td>2010-03-16</td>\n",
       "      <td>74217.428309</td>\n",
       "      <td>1044.462231</td>\n",
       "      <td>11.042487</td>\n",
       "      <td>large</td>\n",
       "    </tr>\n",
       "    <tr>\n",
       "      <th>2</th>\n",
       "      <td>13</td>\n",
       "      <td>11-1-11-13</td>\n",
       "      <td>1</td>\n",
       "      <td>11</td>\n",
       "      <td>2010-03-16</td>\n",
       "      <td>32230.699639</td>\n",
       "      <td>749.669810</td>\n",
       "      <td>3.579117</td>\n",
       "      <td>small</td>\n",
       "    </tr>\n",
       "    <tr>\n",
       "      <th>3</th>\n",
       "      <td>15</td>\n",
       "      <td>11-1-11-15</td>\n",
       "      <td>1</td>\n",
       "      <td>11</td>\n",
       "      <td>2010-03-16</td>\n",
       "      <td>44885.783551</td>\n",
       "      <td>858.688003</td>\n",
       "      <td>4.666801</td>\n",
       "      <td>small</td>\n",
       "    </tr>\n",
       "    <tr>\n",
       "      <th>4</th>\n",
       "      <td>37</td>\n",
       "      <td>11-1-11-37</td>\n",
       "      <td>1</td>\n",
       "      <td>11</td>\n",
       "      <td>2010-03-17</td>\n",
       "      <td>86348.329866</td>\n",
       "      <td>1478.204174</td>\n",
       "      <td>4.634381</td>\n",
       "      <td>small</td>\n",
       "    </tr>\n",
       "  </tbody>\n",
       "</table>\n",
       "</div>"
      ],
      "text/plain": [
       "    X ID_Fahrzeug  Herstellernummer  Werksnummer Fehlerhaft_Datum  \\\n",
       "0   9   11-1-11-9                 1           11       2010-03-16   \n",
       "1  11  11-1-11-11                 1           11       2010-03-16   \n",
       "2  13  11-1-11-13                 1           11       2010-03-16   \n",
       "3  15  11-1-11-15                 1           11       2010-03-16   \n",
       "4  37  11-1-11-37                 1           11       2010-03-17   \n",
       "\n",
       "   Fehlerhaft_Fahrleistung         days       fuel engine  \n",
       "0             34824.319559  1493.150761   4.003670  small  \n",
       "1             74217.428309  1044.462231  11.042487  large  \n",
       "2             32230.699639   749.669810   3.579117  small  \n",
       "3             44885.783551   858.688003   4.666801  small  \n",
       "4             86348.329866  1478.204174   4.634381  small  "
      ]
     },
     "execution_count": 67,
     "metadata": {},
     "output_type": "execute_result"
    }
   ],
   "source": [
    "# Display the updated dataframe structure\n",
    "Fahrzeuge_df.head()"
   ]
  },
  {
   "cell_type": "code",
   "execution_count": 68,
   "id": "fd0ede72-32c4-4092-b9da-632f679a8fa3",
   "metadata": {},
   "outputs": [
    {
     "name": "stdout",
     "output_type": "stream",
     "text": [
      "X                            int64\n",
      "ID_Fahrzeug                 object\n",
      "Herstellernummer             int64\n",
      "Werksnummer                  int64\n",
      "Fehlerhaft_Datum            object\n",
      "Fehlerhaft_Fahrleistung    float64\n",
      "days                       float64\n",
      "fuel                       float64\n",
      "engine                      object\n",
      "dtype: object\n"
     ]
    }
   ],
   "source": [
    "print(Fahrzeuge_df.dtypes)"
   ]
  },
  {
   "cell_type": "code",
   "execution_count": 69,
   "id": "2cb60345-4757-4294-a302-e79ead5981bb",
   "metadata": {},
   "outputs": [],
   "source": [
    "# Convert categorical variables into dummy/indicator variables\n",
    "Fahrzeuge_df = pd.get_dummies(Fahrzeuge_df, columns=['Herstellernummer', 'Werksnummer', 'engine'], drop_first=True)"
   ]
  },
  {
   "cell_type": "code",
   "execution_count": 70,
   "id": "73f4b0b4-cb6a-4cda-9445-4e8f10d8c1e5",
   "metadata": {},
   "outputs": [
    {
     "data": {
      "text/html": [
       "<div>\n",
       "<style scoped>\n",
       "    .dataframe tbody tr th:only-of-type {\n",
       "        vertical-align: middle;\n",
       "    }\n",
       "\n",
       "    .dataframe tbody tr th {\n",
       "        vertical-align: top;\n",
       "    }\n",
       "\n",
       "    .dataframe thead th {\n",
       "        text-align: right;\n",
       "    }\n",
       "</style>\n",
       "<table border=\"1\" class=\"dataframe\">\n",
       "  <thead>\n",
       "    <tr style=\"text-align: right;\">\n",
       "      <th></th>\n",
       "      <th>X</th>\n",
       "      <th>ID_Fahrzeug</th>\n",
       "      <th>Fehlerhaft_Datum</th>\n",
       "      <th>Fehlerhaft_Fahrleistung</th>\n",
       "      <th>days</th>\n",
       "      <th>fuel</th>\n",
       "      <th>Werksnummer_12</th>\n",
       "      <th>engine_medium</th>\n",
       "      <th>engine_small</th>\n",
       "    </tr>\n",
       "  </thead>\n",
       "  <tbody>\n",
       "    <tr>\n",
       "      <th>0</th>\n",
       "      <td>9</td>\n",
       "      <td>11-1-11-9</td>\n",
       "      <td>2010-03-16</td>\n",
       "      <td>34824.319559</td>\n",
       "      <td>1493.150761</td>\n",
       "      <td>4.003670</td>\n",
       "      <td>False</td>\n",
       "      <td>False</td>\n",
       "      <td>True</td>\n",
       "    </tr>\n",
       "    <tr>\n",
       "      <th>1</th>\n",
       "      <td>11</td>\n",
       "      <td>11-1-11-11</td>\n",
       "      <td>2010-03-16</td>\n",
       "      <td>74217.428309</td>\n",
       "      <td>1044.462231</td>\n",
       "      <td>11.042487</td>\n",
       "      <td>False</td>\n",
       "      <td>False</td>\n",
       "      <td>False</td>\n",
       "    </tr>\n",
       "    <tr>\n",
       "      <th>2</th>\n",
       "      <td>13</td>\n",
       "      <td>11-1-11-13</td>\n",
       "      <td>2010-03-16</td>\n",
       "      <td>32230.699639</td>\n",
       "      <td>749.669810</td>\n",
       "      <td>3.579117</td>\n",
       "      <td>False</td>\n",
       "      <td>False</td>\n",
       "      <td>True</td>\n",
       "    </tr>\n",
       "    <tr>\n",
       "      <th>3</th>\n",
       "      <td>15</td>\n",
       "      <td>11-1-11-15</td>\n",
       "      <td>2010-03-16</td>\n",
       "      <td>44885.783551</td>\n",
       "      <td>858.688003</td>\n",
       "      <td>4.666801</td>\n",
       "      <td>False</td>\n",
       "      <td>False</td>\n",
       "      <td>True</td>\n",
       "    </tr>\n",
       "    <tr>\n",
       "      <th>4</th>\n",
       "      <td>37</td>\n",
       "      <td>11-1-11-37</td>\n",
       "      <td>2010-03-17</td>\n",
       "      <td>86348.329866</td>\n",
       "      <td>1478.204174</td>\n",
       "      <td>4.634381</td>\n",
       "      <td>False</td>\n",
       "      <td>False</td>\n",
       "      <td>True</td>\n",
       "    </tr>\n",
       "  </tbody>\n",
       "</table>\n",
       "</div>"
      ],
      "text/plain": [
       "    X ID_Fahrzeug Fehlerhaft_Datum  Fehlerhaft_Fahrleistung         days  \\\n",
       "0   9   11-1-11-9       2010-03-16             34824.319559  1493.150761   \n",
       "1  11  11-1-11-11       2010-03-16             74217.428309  1044.462231   \n",
       "2  13  11-1-11-13       2010-03-16             32230.699639   749.669810   \n",
       "3  15  11-1-11-15       2010-03-16             44885.783551   858.688003   \n",
       "4  37  11-1-11-37       2010-03-17             86348.329866  1478.204174   \n",
       "\n",
       "        fuel  Werksnummer_12  engine_medium  engine_small  \n",
       "0   4.003670           False          False          True  \n",
       "1  11.042487           False          False         False  \n",
       "2   3.579117           False          False          True  \n",
       "3   4.666801           False          False          True  \n",
       "4   4.634381           False          False          True  "
      ]
     },
     "execution_count": 70,
     "metadata": {},
     "output_type": "execute_result"
    }
   ],
   "source": [
    "Fahrzeuge_df.head()"
   ]
  },
  {
   "cell_type": "code",
   "execution_count": 71,
   "id": "e81b16b2-5819-47f0-aa31-7507aeaebf16",
   "metadata": {},
   "outputs": [
    {
     "name": "stdout",
     "output_type": "stream",
     "text": [
      "X                            int64\n",
      "ID_Fahrzeug                 object\n",
      "Fehlerhaft_Datum            object\n",
      "Fehlerhaft_Fahrleistung    float64\n",
      "days                       float64\n",
      "fuel                       float64\n",
      "Werksnummer_12                bool\n",
      "engine_medium                 bool\n",
      "engine_small                  bool\n",
      "dtype: object\n"
     ]
    }
   ],
   "source": [
    "print(Fahrzeuge_df.dtypes)"
   ]
  },
  {
   "cell_type": "code",
   "execution_count": 72,
   "id": "f8a60a3c-3e02-4592-bef1-e6b8c1062c24",
   "metadata": {},
   "outputs": [],
   "source": [
    "# Convert Zulassung to datetime\n",
    "Fahrzeuge_df['Fehlerhaft_Datum'] = pd.to_datetime(Fahrzeuge_df['Fehlerhaft_Datum'], format='mixed')"
   ]
  },
  {
   "cell_type": "code",
   "execution_count": 73,
   "id": "e9488e7d-335d-4f2d-9dd6-81a10e7bba66",
   "metadata": {},
   "outputs": [],
   "source": [
    "# Define the feature variables (X) and target variable (y)\n",
    "X = Fahrzeuge_df.drop(columns=['Fehlerhaft_Fahrleistung', 'Fehlerhaft_Datum', 'Werksnummer_12', 'days', 'ID_Fahrzeug'])\n",
    "y = Fahrzeuge_df['Fehlerhaft_Fahrleistung']"
   ]
  },
  {
   "cell_type": "code",
   "execution_count": 74,
   "id": "01f599f9-3bae-4122-a0a8-e077739a0dd7",
   "metadata": {},
   "outputs": [],
   "source": [
    "# Split the data into training and testing sets\n",
    "X_train, X_test, y_train, y_test = train_test_split(X, y, test_size=0.2, random_state=42)"
   ]
  },
  {
   "cell_type": "code",
   "execution_count": 75,
   "id": "9d446a0c-006e-4c02-a628-a83fc6b19dd9",
   "metadata": {},
   "outputs": [
    {
     "data": {
      "text/html": [
       "<style>#sk-container-id-1 {color: black;background-color: white;}#sk-container-id-1 pre{padding: 0;}#sk-container-id-1 div.sk-toggleable {background-color: white;}#sk-container-id-1 label.sk-toggleable__label {cursor: pointer;display: block;width: 100%;margin-bottom: 0;padding: 0.3em;box-sizing: border-box;text-align: center;}#sk-container-id-1 label.sk-toggleable__label-arrow:before {content: \"▸\";float: left;margin-right: 0.25em;color: #696969;}#sk-container-id-1 label.sk-toggleable__label-arrow:hover:before {color: black;}#sk-container-id-1 div.sk-estimator:hover label.sk-toggleable__label-arrow:before {color: black;}#sk-container-id-1 div.sk-toggleable__content {max-height: 0;max-width: 0;overflow: hidden;text-align: left;background-color: #f0f8ff;}#sk-container-id-1 div.sk-toggleable__content pre {margin: 0.2em;color: black;border-radius: 0.25em;background-color: #f0f8ff;}#sk-container-id-1 input.sk-toggleable__control:checked~div.sk-toggleable__content {max-height: 200px;max-width: 100%;overflow: auto;}#sk-container-id-1 input.sk-toggleable__control:checked~label.sk-toggleable__label-arrow:before {content: \"▾\";}#sk-container-id-1 div.sk-estimator input.sk-toggleable__control:checked~label.sk-toggleable__label {background-color: #d4ebff;}#sk-container-id-1 div.sk-label input.sk-toggleable__control:checked~label.sk-toggleable__label {background-color: #d4ebff;}#sk-container-id-1 input.sk-hidden--visually {border: 0;clip: rect(1px 1px 1px 1px);clip: rect(1px, 1px, 1px, 1px);height: 1px;margin: -1px;overflow: hidden;padding: 0;position: absolute;width: 1px;}#sk-container-id-1 div.sk-estimator {font-family: monospace;background-color: #f0f8ff;border: 1px dotted black;border-radius: 0.25em;box-sizing: border-box;margin-bottom: 0.5em;}#sk-container-id-1 div.sk-estimator:hover {background-color: #d4ebff;}#sk-container-id-1 div.sk-parallel-item::after {content: \"\";width: 100%;border-bottom: 1px solid gray;flex-grow: 1;}#sk-container-id-1 div.sk-label:hover label.sk-toggleable__label {background-color: #d4ebff;}#sk-container-id-1 div.sk-serial::before {content: \"\";position: absolute;border-left: 1px solid gray;box-sizing: border-box;top: 0;bottom: 0;left: 50%;z-index: 0;}#sk-container-id-1 div.sk-serial {display: flex;flex-direction: column;align-items: center;background-color: white;padding-right: 0.2em;padding-left: 0.2em;position: relative;}#sk-container-id-1 div.sk-item {position: relative;z-index: 1;}#sk-container-id-1 div.sk-parallel {display: flex;align-items: stretch;justify-content: center;background-color: white;position: relative;}#sk-container-id-1 div.sk-item::before, #sk-container-id-1 div.sk-parallel-item::before {content: \"\";position: absolute;border-left: 1px solid gray;box-sizing: border-box;top: 0;bottom: 0;left: 50%;z-index: -1;}#sk-container-id-1 div.sk-parallel-item {display: flex;flex-direction: column;z-index: 1;position: relative;background-color: white;}#sk-container-id-1 div.sk-parallel-item:first-child::after {align-self: flex-end;width: 50%;}#sk-container-id-1 div.sk-parallel-item:last-child::after {align-self: flex-start;width: 50%;}#sk-container-id-1 div.sk-parallel-item:only-child::after {width: 0;}#sk-container-id-1 div.sk-dashed-wrapped {border: 1px dashed gray;margin: 0 0.4em 0.5em 0.4em;box-sizing: border-box;padding-bottom: 0.4em;background-color: white;}#sk-container-id-1 div.sk-label label {font-family: monospace;font-weight: bold;display: inline-block;line-height: 1.2em;}#sk-container-id-1 div.sk-label-container {text-align: center;}#sk-container-id-1 div.sk-container {/* jupyter's `normalize.less` sets `[hidden] { display: none; }` but bootstrap.min.css set `[hidden] { display: none !important; }` so we also need the `!important` here to be able to override the default hidden behavior on the sphinx rendered scikit-learn.org. See: https://github.com/scikit-learn/scikit-learn/issues/21755 */display: inline-block !important;position: relative;}#sk-container-id-1 div.sk-text-repr-fallback {display: none;}</style><div id=\"sk-container-id-1\" class=\"sk-top-container\"><div class=\"sk-text-repr-fallback\"><pre>LinearRegression()</pre><b>In a Jupyter environment, please rerun this cell to show the HTML representation or trust the notebook. <br />On GitHub, the HTML representation is unable to render, please try loading this page with nbviewer.org.</b></div><div class=\"sk-container\" hidden><div class=\"sk-item\"><div class=\"sk-estimator sk-toggleable\"><input class=\"sk-toggleable__control sk-hidden--visually\" id=\"sk-estimator-id-1\" type=\"checkbox\" checked><label for=\"sk-estimator-id-1\" class=\"sk-toggleable__label sk-toggleable__label-arrow\">LinearRegression</label><div class=\"sk-toggleable__content\"><pre>LinearRegression()</pre></div></div></div></div></div>"
      ],
      "text/plain": [
       "LinearRegression()"
      ]
     },
     "execution_count": 75,
     "metadata": {},
     "output_type": "execute_result"
    }
   ],
   "source": [
    "# Initialize and train the linear regression model\n",
    "model = LinearRegression()\n",
    "model.fit(X_train, y_train)"
   ]
  },
  {
   "cell_type": "code",
   "execution_count": 76,
   "id": "54c14392-46f4-45c9-8546-bbaecb63fcab",
   "metadata": {},
   "outputs": [],
   "source": [
    "# Predict the mileage on the test set\n",
    "y_pred = model.predict(X_test)"
   ]
  },
  {
   "cell_type": "code",
   "execution_count": 77,
   "id": "895324ab-df33-4756-b155-ce30fb0c445a",
   "metadata": {},
   "outputs": [],
   "source": [
    "# Calculate the model's performance metrics\n",
    "mse = mean_squared_error(y_test, y_pred)\n",
    "r2 = r2_score(y_test, y_pred)"
   ]
  },
  {
   "cell_type": "code",
   "execution_count": 78,
   "id": "674821f3-f3bd-437e-9928-5caed59e9c46",
   "metadata": {},
   "outputs": [
    {
     "data": {
      "text/plain": [
       "{'Mean Squared Error': 123515188.0775618,\n",
       " 'R-squared': 0.4900147838613257,\n",
       " 'Coefficients': X                   -0.000054\n",
       " fuel              5213.628779\n",
       " engine_medium     7705.514824\n",
       " engine_small     10954.392346\n",
       " dtype: float64}"
      ]
     },
     "execution_count": 78,
     "metadata": {},
     "output_type": "execute_result"
    }
   ],
   "source": [
    "# Output the coefficients, MSE, and R-squared value\n",
    "coefficients = pd.Series(model.coef_, index=X.columns)\n",
    "model_summary = {\n",
    "    \"Mean Squared Error\": mse,\n",
    "    \"R-squared\": r2,\n",
    "    \"Coefficients\": coefficients\n",
    "}\n",
    "\n",
    "model_summary"
   ]
  },
  {
   "cell_type": "code",
   "execution_count": 79,
   "id": "c32ee659-8856-4455-82d3-48354fc145dc",
   "metadata": {},
   "outputs": [
    {
     "data": {
      "image/png": "[encoded data removed]",
      "text/plain": [
       "<Figure size 1000x600 with 1 Axes>"
      ]
     },
     "metadata": {},
     "output_type": "display_data"
    }
   ],
   "source": [
    "# Calculate predictions for the training set to plot the model's fit\n",
    "y_train_pred = model.predict(X_train)\n",
    "\n",
    "# Scatter plot of actual vs predicted mileage (Training set)\n",
    "plt.figure(figsize=(10, 6))\n",
    "plt.scatter(y_train, y_train_pred, color='blue', alpha=0.5)\n",
    "plt.plot([y_train.min(), y_train.max()], [y_train.min(), y_train.max()], 'k--', lw=3)\n",
    "plt.xlabel('Actual Mileage (Fehlerhaft_Fahrleistung)')\n",
    "plt.ylabel('Predicted Mileage (Fehlerhaft_Fahrleistung)')\n",
    "plt.title('Actual vs Predicted Mileage (Training Set)')\n",
    "plt.grid(True)\n",
    "plt.show()\n"
   ]
  },
  {
   "cell_type": "markdown",
   "id": "49251081-4437-4e03-bd82-3ad27f4412b2",
   "metadata": {},
   "source": [
    "<a id=\"hit-and-run\"></a>\n",
    "\n",
    "\n",
    "## Hit and Run Accident Investigation\n",
    "\n",
    "<h3> On 11.08.2010, there was a hit-and-run accident. The license plate of the car involved is unknown. The police have asked for your assistance, as you work for the Federal Motor Transport Authority, to find out where the vehicle with body part number “K5-112-1122-79” was registered."
   ]
  },
  {
   "cell_type": "code",
   "execution_count": 80,
   "id": "bfac16f0-7e5d-4962-a57d-75cd491defe0",
   "metadata": {},
   "outputs": [],
   "source": [
    "# Find the vehicle ID corresponding to the body part number \"K5-112-1122-79\"\n",
    "vehicle_info = Bestandteile_Fahrzeuge_OEM1_Typ12_df[Bestandteile_Fahrzeuge_OEM1_Typ12_df['ID_Karosserie'] == 'K5-112-1122-79']"
   ]
  },
  {
   "cell_type": "code",
   "execution_count": 81,
   "id": "82cc4d5a-eb0d-44a3-b3b0-ac3b9af178b2",
   "metadata": {},
   "outputs": [
    {
     "data": {
      "text/plain": [
       "'12-1-12-82'"
      ]
     },
     "execution_count": 81,
     "metadata": {},
     "output_type": "execute_result"
    }
   ],
   "source": [
    "# Extract the ID_Fahrzeug\n",
    "vehicle_id = vehicle_info['ID_Fahrzeug'].values[0] if not vehicle_info.empty else None\n",
    "vehicle_id"
   ]
  },
  {
   "cell_type": "code",
   "execution_count": 82,
   "id": "7ba88f53-295e-432b-8878-57ff9059fa4b",
   "metadata": {},
   "outputs": [],
   "source": [
    "# Find the registration details using the vehicle ID\n",
    "registration_info = zulassungen_df[zulassungen_df['IDNummer'] == vehicle_id]"
   ]
  },
  {
   "cell_type": "code",
   "execution_count": 83,
   "id": "f2ac37a0-b078-44ac-935c-24bb71ab2281",
   "metadata": {},
   "outputs": [
    {
     "data": {
      "text/plain": [
       "'ASCHERSLEBEN'"
      ]
     },
     "execution_count": 83,
     "metadata": {},
     "output_type": "execute_result"
    }
   ],
   "source": [
    "# Extract the relevant registration details\n",
    "registration_place = registration_info['Gemeinden'].values[0] if not registration_info.empty else None\n",
    "registration_place"
   ]
  },
  {
   "cell_type": "markdown",
   "id": "d7fdc323-cf82-42ea-b989-50ca51cab617",
   "metadata": {},
   "source": [
    "<H4>The vehicle with the body part number \"K5-112-1122-79\" was registered in Aschersleben"
   ]
  }
 ],
 "metadata": {
  "kernelspec": {
   "display_name": "Python 3 (ipykernel)",
   "language": "python",
   "name": "python3"
  },
  "language_info": {
   "codemirror_mode": {
    "name": "ipython",
    "version": 3
   },
   "file_extension": ".py",
   "mimetype": "text/x-python",
   "name": "python",
   "nbconvert_exporter": "python",
   "pygments_lexer": "ipython3",
   "version": "3.11.7"
  }
 },
 "nbformat": 4,
 "nbformat_minor": 5
}
