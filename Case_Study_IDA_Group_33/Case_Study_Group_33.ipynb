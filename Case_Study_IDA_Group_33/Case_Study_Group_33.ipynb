{
 "cells": [
  {
   "cell_type": "code",
   "execution_count": null,
   "metadata": {},
   "outputs": [],
   "source": [
    "import pandas as pd"
   ]
  },
  {
   "cell_type": "code",
   "execution_count": null,
   "metadata": {},
   "outputs": [],
   "source": [
    "# function to read txt data files and convert them to proper csv files\n",
    "# txtFile: input filename (including directory if applicable)\n",
    "# csvFile: output filename (including directory if applicable)\n",
    "# vtabchar: vertical tab character in the original file (to be replaced with newline command '\\n')\n",
    "# delim: delimiter character used in the original file (to be replaced with comma)\n",
    "def txt2csv(txtFile, csvFile, vtabchar, delim):\n",
    "    with open(txtFile, 'r') as file:\n",
    "        data = file.read().replace(vtabchar, '\\n').replace(delim, ',')\n",
    "    with open(csvFile, 'w') as file:\n",
    "        file.write(data)    \n",
    "    return csvFile"
   ]
  },
  {
   "cell_type": "code",
   "execution_count": null,
   "metadata": {},
   "outputs": [],
   "source": [
    "# set the filename and location for each dataset\n",
    "# original filename and directory \n",
    "K1DI2_txt = './Data/Komponente/Komponente_K1DI2.txt'\n",
    "K2LE1_txt = './Data/Komponente/Komponente_K2LE1.txt' \n",
    "K2LE2_txt = './Data/Komponente/Komponente_K2LE2.txt'\n",
    "K2ST1_txt = './Data/Komponente/Komponente_K2ST1.txt'\n",
    "K3AG2_txt = './Data/Komponente/Komponente_K3AG2.txt'\n",
    "K7_txt    = './Data/Komponente/Komponente_K7.txt'\n",
    "\n",
    "# modified filename and directory (for txt data files)\n",
    "K1DI2_csv = './Data/Komponente/Komponente_K1DI2.csv'\n",
    "K2LE1_csv = './Data/Komponente/Komponente_K2LE1.csv'\n",
    "K2LE2_csv = './Data/Komponente/Komponente_K2LE2.csv'\n",
    "K2ST1_csv = './Data/Komponente/Komponente_K2ST1.csv'\n",
    "K3AG2_csv = './Data/Komponente/Komponente_K3AG2.csv'\n",
    "K7_csv    = './Data/Komponente/Komponente_K7.csv'"
   ]
  },
  {
   "cell_type": "code",
   "execution_count": null,
   "metadata": {},
   "outputs": [],
   "source": [
    "# read and convert all the txt data files to csv\n",
    "txt2csv(K1DI2_txt, K1DI2_csv, '\t', '\\\\')\n",
    "txt2csv(K2LE1_txt, K2LE1_csv, '\u000b', 'II')\n",
    "txt2csv(K2LE2_txt, K2LE2_csv, '\u000b', '\\\\')\n",
    "txt2csv(K2ST1_txt, K2ST1_csv, '\u000b', '|')\n",
    "txt2csv(K3AG2_txt, K3AG2_csv, '\u000b', '\\\\')\n",
    "txt2csv(K7_txt   , K7_csv   , '\u000b', '\t')"
   ]
  },
  {
   "cell_type": "code",
   "execution_count": null,
   "metadata": {},
   "outputs": [],
   "source": [
    "# read the converted csv files\n",
    "K1DI2 = pd.read_csv(K1DI2_csv, parse_dates=['Fehlerhaft_Datum', 'origin'],\n",
    "                    low_memory=False)\n",
    "K2LE1 = pd.read_csv(K2LE1_csv, parse_dates=['Produktionsdatum.x', 'Fehlerhaft_Datum.x',\n",
    "                    'Produktionsdatum.y', 'Fehlerhaft_Datum.y'],\n",
    "                    low_memory=False)\n",
    "K2LE2 = pd.read_csv(K2LE2_csv, parse_dates=['Fehlerhaft_Datum', 'origin'],\n",
    "                    low_memory=False)\n",
    "K2ST1 = pd.read_csv(K2ST1_csv, parse_dates=['Produktionsdatum', 'Fehlerhaft_Datum'],\n",
    "                    low_memory=False)\n",
    "K3AG2 = pd.read_csv(K3AG2_csv, parse_dates=['Fehlerhaft_Datum', 'origin'],\n",
    "                    low_memory=False)\n",
    "K7    = pd.read_csv(K7_csv, parse_dates=['Fehlerhaft_Datum', 'origin'],\n",
    "                    low_memory=False)"
   ]
  }
 ],
 "metadata": {
  "kernelspec": {
   "display_name": "miniconda3",
   "language": "python",
   "name": "python3"
  },
  "language_info": {
   "codemirror_mode": {
    "name": "ipython",
    "version": 3
   },
   "file_extension": ".py",
   "mimetype": "text/x-python",
   "name": "python",
   "nbconvert_exporter": "python",
   "pygments_lexer": "ipython3",
   "version": "3.12.3"
  }
 },
 "nbformat": 4,
 "nbformat_minor": 2
}
