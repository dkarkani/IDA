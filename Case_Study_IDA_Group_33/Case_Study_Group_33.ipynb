{
 "cells": [
  {
   "cell_type": "code",
   "execution_count": null,
   "metadata": {},
   "outputs": [],
   "source": [
    "import pandas as pd\n",
    "import plotly.graph_objects as go\n",
    "import matplotlib.pyplot as plt\n",
    "import numpy as np"
   ]
  },
  {
   "cell_type": "code",
   "execution_count": null,
   "metadata": {},
   "outputs": [],
   "source": [
    "# function to read txt data files and convert them to proper csv files\n",
    "# txtFile: input filename (including directory if applicable)\n",
    "# csvFile: output filename (including directory if applicable)\n",
    "# vtabchar: vertical tab character in the original file (to be replaced with newline command '\\n')\n",
    "# delim: delimiter character used in the original file (to be replaced with comma)\n",
    "def txt2csv(txtFile, csvFile, vtabchar, delim):\n",
    "    with open(txtFile, 'r') as file:\n",
    "        data = file.read().replace(vtabchar, '\\n').replace(delim, ',')\n",
    "    with open(csvFile, 'w') as file:\n",
    "        file.write(data)    \n",
    "    return"
   ]
  },
  {
   "cell_type": "markdown",
   "metadata": {},
   "source": [
    "Set the filename and location for each dataset"
   ]
  },
  {
   "cell_type": "code",
   "execution_count": null,
   "metadata": {},
   "outputs": [],
   "source": [
    "# original filename and directory for txt data files\n",
    "K1DI2_txt = './Data/Komponente/Komponente_K1DI2.txt'\n",
    "K2LE1_txt = './Data/Komponente/Komponente_K2LE1.txt' \n",
    "K2LE2_txt = './Data/Komponente/Komponente_K2LE2.txt'\n",
    "K2ST1_txt = './Data/Komponente/Komponente_K2ST1.txt'\n",
    "K3AG2_txt = './Data/Komponente/Komponente_K3AG2.txt'\n",
    "K7_txt    = './Data/Komponente/Komponente_K7.txt'\n",
    "\n",
    "# converted txt filename and directory\n",
    "K1DI2_csv = './Data/Komponente/Komponente_K1DI2.csv'\n",
    "K2LE1_csv = './Data/Komponente/Komponente_K2LE1.csv'\n",
    "K2LE2_csv = './Data/Komponente/Komponente_K2LE2.csv'\n",
    "K2ST1_csv = './Data/Komponente/Komponente_K2ST1.csv'\n",
    "K3AG2_csv = './Data/Komponente/Komponente_K3AG2.csv'\n",
    "K7_csv    = './Data/Komponente/Komponente_K7.csv'\n",
    "\n",
    "# original filename and directory for csv data files\n",
    "# component data files\n",
    "K1BE1_csv = './Data/Komponente/Komponente_K1BE1.csv'\n",
    "K1BE2_csv = './Data/Komponente/Komponente_K1BE2.csv'\n",
    "K1DI1_csv = './Data/Komponente/Komponente_K1DI1.csv'\n",
    "K2ST2_csv = './Data/Komponente/Komponente_K2ST2.csv'\n",
    "K3AG1_csv = './Data/Komponente/Komponente_K3AG1.csv'\n",
    "K3SG1_csv = './Data/Komponente/Komponente_K3SG1.csv'\n",
    "K3SG2_csv = './Data/Komponente/Komponente_K3SG2.csv'\n",
    "K4_csv    = './Data/Komponente/Komponente_K4.csv'\n",
    "K5_csv    = './Data/Komponente/Komponente_K5.csv'\n",
    "K6_csv    = './Data/Komponente/Komponente_K6.csv'    "
   ]
  },
  {
   "cell_type": "code",
   "execution_count": null,
   "metadata": {},
   "outputs": [],
   "source": [
    "# read and convert all the txt data files to csv\n",
    "txt2csv(K1DI2_txt, K1DI2_csv, '\t', '\\\\')\n",
    "txt2csv(K2LE1_txt, K2LE1_csv, '\u000b', 'II')\n",
    "txt2csv(K2LE2_txt, K2LE2_csv, '\u000b', '\\\\')\n",
    "txt2csv(K2ST1_txt, K2ST1_csv, '\u000b', '|')\n",
    "txt2csv(K3AG2_txt, K3AG2_csv, '\u000b', '\\\\')\n",
    "txt2csv(K7_txt   , K7_csv   , '\u000b', '\t')"
   ]
  },
  {
   "cell_type": "code",
   "execution_count": null,
   "metadata": {},
   "outputs": [],
   "source": [
    "# separate the data arrangements into 4 types, namely A, B, C, and D. \n",
    "# this separation is based on the column names of the datetime data type\n",
    "A = ['Fehlerhaft_Datum', 'origin']\n",
    "B = ['Produktionsdatum.x', 'Fehlerhaft_Datum.x', \n",
    "     'Produktionsdatum.y', 'Fehlerhaft_Datum.y']\n",
    "C = ['Produktionsdatum.x', 'Fehlerhaft_Datum.x', \n",
    "     'Produktionsdatum.y', 'Fehlerhaft_Datum.y', \n",
    "     'Produktionsdatum', 'Fehlerhaft_Datum']\n",
    "D = ['Produktionsdatum', 'Fehlerhaft_Datum']\n",
    "\n",
    "# set up a function to read the csv files\n",
    "def csvReader(csvFile, arr_type, delim=None):\n",
    "    if delim is not None:\n",
    "        dataset = pd.read_csv(csvFile, parse_dates=arr_type, \n",
    "                          low_memory=False, sep=delim)\n",
    "    else:\n",
    "        dataset = pd.read_csv(csvFile, parse_dates=arr_type, \n",
    "                          low_memory=False)\n",
    "    return dataset\n",
    "\n",
    "# read the converted csv files using the csvReader function\n",
    "K1DI2 = csvReader(K1DI2_csv, A)\n",
    "K2LE1 = csvReader(K2LE1_csv, B)\n",
    "K2LE2 = csvReader(K2LE2_csv, A)\n",
    "K2ST1 = csvReader(K2ST1_csv, D)\n",
    "K3AG2 = csvReader(K3AG2_csv, A)\n",
    "K7    = csvReader(K7_csv, A)\n",
    "\n",
    "# read the rest of the csv files using the csvReader function\n",
    "K1BE1 = csvReader(K1BE1_csv, A)\n",
    "K1BE2 = csvReader(K1BE2_csv, A, ';')\n",
    "K1DI1 = csvReader(K1DI1_csv, C)\n",
    "K2ST2 = csvReader(K2ST2_csv, A, ';')\n",
    "K3AG1 = csvReader(K3AG1_csv, C)\n",
    "K3SG1 = csvReader(K3SG1_csv, B)\n",
    "K3SG2 = csvReader(K3SG2_csv, A)\n",
    "K4    = csvReader(K4_csv,    B, ';')\n",
    "K5    = csvReader(K5_csv,    B)\n",
    "K6    = csvReader(K6_csv,    A, ';')"
   ]
  },
  {
   "cell_type": "markdown",
   "metadata": {},
   "source": [
    "For datasets with data arrangements of type B and C, we need to consolidate the columns and eliminate the .x and .y suffixes. For type B, the tables are separated into 2, whereas for type C, the tables are separated into 3."
   ]
  },
  {
   "cell_type": "code",
   "execution_count": null,
   "metadata": {},
   "outputs": [],
   "source": [
    "# column names to be renamed for type B\n",
    "col_names_x = {'Produktionsdatum.x':'Produktionsdatum', \n",
    "               'Herstellernummer.x':'Herstellernummer',\t\n",
    "               'Werksnummer.x':'Werksnummer',\n",
    "               'Fehlerhaft.x':'Fehlerhaft', \n",
    "               'Fehlerhaft_Datum.x':'Fehlerhaft_Datum',\n",
    "               'Fehlerhaft_Fahrleistung.x':'Fehlerhaft_Fahrleistung'}\n",
    "col_names_y = {'Produktionsdatum.y':'Produktionsdatum', \n",
    "               'Herstellernummer.y':'Herstellernummer',\t\n",
    "               'Werksnummer.y':'Werksnummer',\n",
    "               'Fehlerhaft.y':'Fehlerhaft', \n",
    "               'Fehlerhaft_Datum.y':'Fehlerhaft_Datum',\n",
    "               'Fehlerhaft_Fahrleistung.y':'Fehlerhaft_Fahrleistung'}\n",
    "\n",
    "# set up variables for the components. The components are engine (Motor), electrical components (Schaltung),\n",
    "# body components (Karosserie), and seats (Sitze)\n",
    "idMotor  = 'ID_Motor'        ; idSchalt  = 'ID_Schaltung'\n",
    "idMotorx = 'ID_Motor.x'      ; idSchaltx = 'ID_Schaltung.x'\n",
    "idMotory = 'ID_Motor.y'      ; idSchalty = 'ID_Schaltung.y'\n",
    "\n",
    "idKaros  = 'ID_Karosserie'   ; idSitze  = 'ID_Sitze'\n",
    "idKarosx = 'ID_Karosserie.x' ; idSitzex = 'ID_Sitze.x' \n",
    "idKarosy = 'ID_Karosserie.y' ; idSitzey = 'ID_Sitze.y'\n",
    "\n",
    "# separate type B tables based on the suffixes, rename the columns, and \n",
    "# concatenate vertically, and finally extract the columns that contain the data.\n",
    "# the cleaned up dataset is added with suffix '_c'\n",
    "def streamlineTypeB(dataset, colx, coly, ID, IDx, IDy):\n",
    "    dataset_x = dataset[dataset[IDx].notna()].rename(columns=colx)\n",
    "    dataset_y = dataset[dataset[IDy].notna()].rename(columns=coly)\n",
    "    dataset_x = dataset_x.rename(columns={IDx : ID})\n",
    "    dataset_y = dataset_y.rename(columns={IDy : ID})\n",
    "    dataset_x = dataset_x.loc[:, ID:'Fehlerhaft_Fahrleistung']\n",
    "    dataset_y = dataset_y.loc[:, ID:'Fehlerhaft_Fahrleistung']\n",
    "    dataset_c = pd.concat([dataset_x, dataset_y], axis=0).reset_index(drop=True)\n",
    "    return dataset_c\n",
    "\n",
    "K2LE1_c = streamlineTypeB(K2LE1, col_names_x, col_names_y, \n",
    "                            idSitze, idSitzex, idSitzey)\n",
    "K3SG1_c = streamlineTypeB(K3SG1, col_names_x, col_names_y, \n",
    "                            idSchalt, idSchaltx, idSchalty)\n",
    "K4_c    = streamlineTypeB(K4, col_names_x, col_names_y, \n",
    "                            idKaros, idKarosx, idKarosy)\n",
    "K5_c    = streamlineTypeB(K5, col_names_x, col_names_y, \n",
    "                            idKaros, idKarosx, idKarosy)\n",
    "\n",
    "# separate type C tables based on the suffixes, rename the columns, and \n",
    "# concatenate vertically, and finally extract the columns that contain the data.\n",
    "# the cleaned up dataset is added with suffix '_c'\n",
    "def streamlineTypeC(dataset, colx, coly, ID, IDx, IDy):\n",
    "    dataset_x = dataset[dataset[IDx].notna()].loc[:, IDx:'Fehlerhaft_Fahrleistung.x'].rename(columns=colx)\n",
    "    dataset_y = dataset[dataset[IDy].notna()].loc[:, IDy:'Fehlerhaft_Fahrleistung.y'].rename(columns=coly)\n",
    "    dataset_  = dataset[dataset[ID].notna()]\n",
    "    dataset_x = dataset_x.rename(columns={IDx : ID})\n",
    "    dataset_y = dataset_y.rename(columns={IDy : ID})\n",
    "    dataset_  = dataset_.loc[:, ID:'Fehlerhaft_Fahrleistung']    \n",
    "    dataset_c = pd.concat([dataset_x, dataset_y, dataset_], axis=0).reset_index(drop=True)\n",
    "    return dataset_c\n",
    "\n",
    "K1DI1_c = streamlineTypeC(K1DI1, col_names_x, col_names_y,\n",
    "                          idMotor, idMotorx, idMotory)\n",
    "K3AG1_c = streamlineTypeC(K3AG1, col_names_x, col_names_y,\n",
    "                          idSchalt, idSchaltx, idSchalty)\n",
    "K2ST1_c = K2ST1.loc[:, idSitze:'Fehlerhaft_Fahrleistung']"
   ]
  },
  {
   "cell_type": "code",
   "execution_count": null,
   "metadata": {},
   "outputs": [],
   "source": [
    "def addProduktionsDatum(dataset):\n",
    "    dataset['Produktionsdatum'] = dataset['origin'] + pd.to_timedelta(dataset['Produktionsdatum_Origin_01011970'].astype('int'), unit='days')\n",
    "    return dataset\n",
    "\n",
    "def reformatDataset(dataset, ID):\n",
    "    dataset_c = pd.concat([dataset.loc[:,ID], \n",
    "                           dataset.loc[:,'Produktionsdatum'], \n",
    "                           dataset.loc[:,'Herstellernummer':'Fehlerhaft_Fahrleistung']], axis=1)\n",
    "    return dataset_c\n",
    "\n",
    "K1BE1_c = reformatDataset(addProduktionsDatum(K1BE1), idMotor)\n",
    "K1BE2_c = reformatDataset(addProduktionsDatum(K1BE2), idMotor)\n",
    "K1DI2_c = reformatDataset(addProduktionsDatum(K1DI2), idMotor)\n",
    "K2LE2_c = reformatDataset(addProduktionsDatum(K2LE2), idSitze)\n",
    "K2ST2_c = reformatDataset(addProduktionsDatum(K2ST2), idSitze)\n",
    "K3AG2_c = reformatDataset(addProduktionsDatum(K3AG2), idSchalt)\n",
    "K3SG2_c = reformatDataset(addProduktionsDatum(K3SG2), idSchalt)\n",
    "K6_c    = reformatDataset(addProduktionsDatum(K6), idKaros)\n",
    "K7_c    = reformatDataset(addProduktionsDatum(K7), idKaros)\n",
    "\n",
    "# classify the components into list based on the types of components (Motor, Sitze, Schaltung, and Karosserie)\n",
    "motorList      = [K1BE1_c, K1BE2_c, K1DI1_c, K1DI2_c]\n",
    "sitzeList      = [K2LE1_c, K2LE2_c, K2ST1_c, K2ST2_c]\n",
    "schaltungList  = [K3AG1_c, K3AG2_c, K3SG1_c, K3SG2_c]\n",
    "karosserieList = [K4_c, K5_c, K6_c, K7_c]\n",
    "\n",
    "motorName      = ['K1BE1', 'K1BE2', 'K1DI1', 'K1DI2']\n",
    "sitzeName      = ['K2LE1', 'K2LE2', 'K2ST1', 'K2ST2']\n",
    "schaltungName  = ['K3AG1', 'K3AG2', 'K3SG1', 'K3SG2']\n",
    "karosserieName = ['K4', 'K5', 'K6', 'K7']\n",
    "\n",
    "# checks for duplicates in the components datalists and drop them if preset\n",
    "def dropDuplicates(datasetList):\n",
    "    for i in range(len(datasetList)):\n",
    "        datasetList[i] = datasetList[i].drop_duplicates()\n",
    "        datasetList[i] = datasetList[i].reset_index(drop=True)\n",
    "    return datasetList\n",
    "\n",
    "motorList      = dropDuplicates(motorList)\n",
    "sitzeList      = dropDuplicates(sitzeList)\n",
    "schaltungList  = dropDuplicates(schaltungList)\n",
    "karosserieList = dropDuplicates(karosserieList)\n"
   ]
  },
  {
   "cell_type": "markdown",
   "metadata": {},
   "source": [
    "Now, we create the cleaned dataset that contains all the components information for components produced during the analysis period. The columns consist component type, part number, date of production, supplier number, plant number, failure status, date of failure, and failure mileage. First, we concatenate all the components of the same type and then concatenate all the components together."
   ]
  },
  {
   "cell_type": "code",
   "execution_count": null,
   "metadata": {},
   "outputs": [],
   "source": [
    "# create a function to concatenate the datasets of each component type, merge the component dataset with the vehicle dataset,\n",
    "# and rename the ID columns of all the dataset.\n",
    "def concatenateDataset(datasetList, id):\n",
    "    for i in (1, len(datasetList) - 1):\n",
    "        datasetList_all = pd.concat([datasetList[0], datasetList[i]], axis=0)\n",
    "        datasetList[0]  = datasetList_all\n",
    "    datasetList_all = datasetList_all.rename(columns={id:'ID'})\n",
    "    return datasetList_all\n",
    "\n",
    "# concatenate the components based on type\n",
    "motorList_all      = concatenateDataset(motorList, idMotor)\n",
    "sitzeList_all      = concatenateDataset(sitzeList, idSitze)\n",
    "schaltungList_all  = concatenateDataset(schaltungList, idSchalt)\n",
    "karosserieList_all = concatenateDataset(karosserieList, idKaros)\n",
    "\n",
    "# concatenate all the components into a single dataset\n",
    "komponente_all = pd.concat([motorList_all,\n",
    "                                          sitzeList_all,\n",
    "                                          schaltungList_all,\n",
    "                                          karosserieList_all], axis=0, join='inner')\n",
    "\n",
    "# set the Herstellernummer, Werksnummer, and Fehlerhaft columns as int\n",
    "int_col = ['Herstellernummer','Werksnummer','Fehlerhaft']\n",
    "komponente_all[int_col] = komponente_all[int_col].astype('int')\n",
    "\n",
    "# save the cleaned file to the final dataset\n",
    "komponente_all.to_csv('Final_dataset_group_33.csv')"
   ]
  },
  {
   "cell_type": "markdown",
   "metadata": {},
   "source": [
    "The case study requirements are as the following:\n",
    "1. Relative defects for components supplied by each plants\n",
    "2. Find out the product groups where defects are dominant\n",
    "3. Decide if product group inspection or comprehensive inspection is necessary"
   ]
  },
  {
   "cell_type": "markdown",
   "metadata": {},
   "source": [
    "We start with the first requirement: Relative defects for components supplied by each plants. \n",
    "\n",
    "First, we list the plants, calculate the annual volumes, calculate the defective components' annual volumes produced by the plants, and calculate its relative frequency."
   ]
  },
  {
   "cell_type": "code",
   "execution_count": null,
   "metadata": {},
   "outputs": [],
   "source": [
    "# find the number of plants that produce the components and \n",
    "# make a list of plants\n",
    "plantList = komponente_all['Werksnummer'].unique()\n",
    "\n",
    "# set the production year\n",
    "productionYear = [2008, 2009, 2010, 2011, 2012, 2013, 2014, 2015, 2016]"
   ]
  },
  {
   "cell_type": "code",
   "execution_count": null,
   "metadata": {},
   "outputs": [],
   "source": [
    "plantProd  = []\n",
    "for year in productionYear:\n",
    "    for plant in plantList:\n",
    "        totalVolume  = komponente_all.loc[\n",
    "                                (komponente_all['Werksnummer'] == plant)\n",
    "                              & (komponente_all['Produktionsdatum'].dt.year == year)].shape[0]\n",
    "        defectVolume = komponente_all[\n",
    "                                (komponente_all['Werksnummer'] == plant)\n",
    "                              & (komponente_all['Produktionsdatum'].dt.year == year)\n",
    "                              & (komponente_all['Fehlerhaft'] == 1)].shape[0]\n",
    "        if (totalVolume != 0) & (defectVolume != 0):\n",
    "            relativeFreq = defectVolume / totalVolume\n",
    "            relativeFreqPercentage = relativeFreq * 100\n",
    "        else: \n",
    "            relativeFreq = 0\n",
    "            relativeFreqPercentage = 0\n",
    "        plantProd.append([year, plant, totalVolume, defectVolume, relativeFreq, relativeFreqPercentage])\n",
    "\n",
    "plantList_relFrq = pd.DataFrame(plantProd,\n",
    "                                columns=['year', 'werksnummer', 'totalVolume', 'defectVolume', 'relativeFreq', 'relativeFreqPercentage'])"
   ]
  },
  {
   "cell_type": "code",
   "execution_count": null,
   "metadata": {},
   "outputs": [],
   "source": [
    "# distribute the annual volumentric relative frequency dataset to its respective \n",
    "# plant name\n",
    "def distributePlantStat(plant, plantList_relFrq, plantList):\n",
    "        for i in range(len(plantList)):\n",
    "                plant.append(plantList_relFrq[plantList_relFrq['werksnummer'] \n",
    "                                              == plantList[i]])\n",
    "        # plant = plant.reset_index(drop=True)\n",
    "        return plant\n",
    "plant = []\n",
    "plant = distributePlantStat(plant, plantList_relFrq, plantList)\n",
    "\n",
    "# filter the plant tables to remove the rows where the total volumes and \n",
    "# defective volumes are zero\n",
    "for i in range(len(plant)):\n",
    "        plant[i] = plant[i][(plant[i]['totalVolume'] != 0) \n",
    "                            & (plant[i]['totalVolume'] != 0)]\n",
    "\n",
    "# assign the plant name based on the order of plantList\n",
    "plant1011 = plant[0];  plant1041 = plant[1];  plant1021 = plant[2]; \n",
    "plant1031 = plant[3];  plant1091 = plant[4];  plant1111 = plant[5]; \n",
    "plant1092 = plant[6];  plant1101 = plant[7];  plant1051 = plant[8]; \n",
    "plant1061 = plant[9];  plant1082 = plant[10]; plant1081 = plant[11]; \n",
    "plant1072 = plant[12]; plant1121 = plant[13]; plant1141 = plant[14]; \n",
    "plant1122 = plant[15]; plant1131 = plant[16]; plant1142 = plant[17]; \n",
    "plant1132 = plant[18]"
   ]
  },
  {
   "cell_type": "markdown",
   "metadata": {},
   "source": [
    "Create an overall line chart that shows relative frequency plot for all the plants"
   ]
  },
  {
   "cell_type": "code",
   "execution_count": 240,
   "metadata": {},
   "outputs": [
    {
     "data": {
      "application/vnd.plotly.v1+json": {
       "config": {
        "plotlyServerURL": "https://plot.ly"
       },
       "data": [
        {
         "mode": "lines+markers",
         "name": "1011",
         "type": "scatter",
         "x": [
          2008,
          2009,
          2010,
          2011,
          2012,
          2013,
          2014,
          2015,
          2016
         ],
         "y": [
          17.55164286704561,
          17.41176470588235,
          17.512841308461745,
          17.715718641193558,
          17.72367135776564,
          17.824931769298896,
          17.556975544412868,
          17.524394651246837,
          17.781916544720854
         ]
        },
        {
         "mode": "lines+markers",
         "name": "1041",
         "type": "scatter",
         "x": [
          2008,
          2009,
          2010,
          2011,
          2012,
          2013,
          2014,
          2015,
          2016
         ],
         "y": [
          17.220686003412368,
          17.43387403185737,
          17.399721887172237,
          17.578460877042133,
          17.45449804032858,
          17.573740688528883,
          17.571295734167393,
          17.423486998542607,
          17.572221159364837
         ]
        },
        {
         "mode": "lines+markers",
         "name": "1021",
         "type": "scatter",
         "x": [
          2008,
          2009,
          2010,
          2011,
          2012,
          2013,
          2014,
          2015,
          2016
         ],
         "y": [
          12.031952071892162,
          12.227486072728867,
          12.110977080820264,
          12.481374353580508,
          12.578698845750264,
          12.606701630422856,
          12.821914214507455,
          12.367296594863662,
          12.447315952855664
         ]
        },
        {
         "mode": "lines+markers",
         "name": "1031",
         "type": "scatter",
         "x": [
          2008,
          2009,
          2010,
          2011,
          2012,
          2013,
          2014,
          2015,
          2016
         ],
         "y": [
          9.200438116100766,
          10.119658119658121,
          10.259797446059004,
          10.2958349552355,
          10.147315371195969,
          10.0179498374812,
          9.933999805881783,
          9.636496706513784,
          10.079005460671546
         ]
        },
        {
         "mode": "lines+markers",
         "name": "1091",
         "type": "scatter",
         "x": [
          2008,
          2009,
          2010,
          2011,
          2012,
          2013,
          2014,
          2015,
          2016
         ],
         "y": [
          8.30467456374984,
          9.141316001072099,
          8.993981659988934,
          8.92895973771808,
          9.325345141964053,
          8.916105327617881,
          9.138292172049296,
          8.87854950115119,
          9.107422486689634
         ]
        },
        {
         "mode": "lines+markers",
         "name": "1111",
         "type": "scatter",
         "x": [
          2008,
          2009,
          2010,
          2011,
          2012,
          2013,
          2014,
          2015,
          2016
         ],
         "y": [
          20.205089251804026,
          19.76259064269395,
          19.862374047677562,
          19.767158653611965,
          19.935426524796735,
          19.84514739980126,
          19.79349955180771,
          20.164848888518858,
          19.948447614248614
         ]
        },
        {
         "mode": "lines+markers",
         "name": "1092",
         "type": "scatter",
         "x": [
          2008,
          2009,
          2010,
          2011,
          2012,
          2013
         ],
         "y": [
          10.145464653015845,
          9.980261234038405,
          10.015350129136007,
          10.025203024362924,
          9.893311000254888,
          10.083249337365139
         ]
        },
        {
         "mode": "lines+markers",
         "name": "1101",
         "type": "scatter",
         "x": [
          2013,
          2014,
          2015,
          2016
         ],
         "y": [
          9.961122202374698,
          10.297357498448093,
          10.105547642525838,
          9.946660113618295
         ]
        },
        {
         "mode": "lines+markers",
         "name": "1051",
         "type": "scatter",
         "x": [
          2008,
          2009,
          2010,
          2011,
          2012,
          2013,
          2014,
          2015,
          2016
         ],
         "y": [
          12.90400385914134,
          12.69341569896944,
          12.615983016374946,
          12.701321533395909,
          12.716126536321163,
          12.741375973320231,
          12.647662689320677,
          12.632848084308296,
          12.667818921419718
         ]
        },
        {
         "mode": "lines+markers",
         "name": "1061",
         "type": "scatter",
         "x": [
          2008,
          2009,
          2010,
          2011,
          2012,
          2013,
          2014,
          2015,
          2016
         ],
         "y": [
          9.402146142054164,
          10.126963920806672,
          9.75846705303005,
          9.945768612747724,
          10.060315238761705,
          9.927247125088009,
          10.08915054667788,
          9.999667010755553,
          10.119468678770732
         ]
        },
        {
         "mode": "lines+markers",
         "name": "1082",
         "type": "scatter",
         "x": [
          2008,
          2009,
          2010,
          2011,
          2012,
          2013,
          2014,
          2015,
          2016
         ],
         "y": [
          11.009463722397477,
          10.089510374128615,
          9.749154220645268,
          10.108273411025705,
          9.566002133070802,
          9.985593743568636,
          9.818211934241583,
          10.052106839535552,
          9.656777196044212
         ]
        },
        {
         "mode": "lines+markers",
         "name": "1081",
         "type": "scatter",
         "x": [
          2008,
          2009,
          2010,
          2011,
          2012,
          2013,
          2014,
          2015,
          2016
         ],
         "y": [
          9.754433833560709,
          10.220271413039102,
          9.756490888566361,
          9.886534629305787,
          9.891538367794613,
          9.928191060190414,
          9.957833279273435,
          9.737736765420108,
          9.79696910821838
         ]
        },
        {
         "mode": "lines+markers",
         "name": "1072",
         "type": "scatter",
         "x": [
          2008,
          2009,
          2010,
          2011,
          2012,
          2013,
          2014,
          2015,
          2016
         ],
         "y": [
          11.214470284237727,
          9.960450258594463,
          10.262340982409155,
          10.1458192333723,
          9.675249220231178,
          10.52599425743784,
          9.648640391078521,
          9.956497763617426,
          9.789104897987224
         ]
        },
        {
         "mode": "lines+markers",
         "name": "1121",
         "type": "scatter",
         "x": [
          2008,
          2009,
          2010,
          2011,
          2012
         ],
         "y": [
          9.963645326267793,
          10.000202171319977,
          9.989107944721807,
          9.949846303187186,
          10.039684890126162
         ]
        },
        {
         "mode": "lines+markers",
         "name": "1141",
         "type": "scatter",
         "x": [
          2012,
          2013,
          2014,
          2015,
          2016
         ],
         "y": [
          10.036061074386247,
          9.985620835611723,
          9.982008207491862,
          9.922093607041418,
          10.02819217211573
         ]
        },
        {
         "mode": "lines+markers",
         "name": "1122",
         "type": "scatter",
         "x": [
          2008,
          2009,
          2010,
          2011,
          2012,
          2013
         ],
         "y": [
          9.695500681714892,
          10.10862946156717,
          9.921099914069213,
          10.065202875211124,
          9.942866056977946,
          10.096040537355645
         ]
        },
        {
         "mode": "lines+markers",
         "name": "1131",
         "type": "scatter",
         "x": [
          2013,
          2014,
          2015
         ],
         "y": [
          9.927557229788468,
          10.284390885360445,
          9.77409975397003
         ]
        },
        {
         "mode": "lines+markers",
         "name": "1142",
         "type": "scatter",
         "x": [
          2008,
          2009,
          2010,
          2011,
          2012
         ],
         "y": [
          10.225234203707394,
          9.952173117633222,
          10.091049020375154,
          9.883523985720615,
          10.154253239919415
         ]
        },
        {
         "mode": "lines+markers",
         "name": "1132",
         "type": "scatter",
         "x": [
          2012,
          2013,
          2014,
          2015,
          2016
         ],
         "y": [
          9.986452486936328,
          10.088371001798702,
          9.89977553896748,
          10.111244581396564,
          10.000302032679937
         ]
        }
       ],
       "layout": {
        "template": {
         "data": {
          "bar": [
           {
            "error_x": {
             "color": "#2a3f5f"
            },
            "error_y": {
             "color": "#2a3f5f"
            },
            "marker": {
             "line": {
              "color": "#E5ECF6",
              "width": 0.5
             },
             "pattern": {
              "fillmode": "overlay",
              "size": 10,
              "solidity": 0.2
             }
            },
            "type": "bar"
           }
          ],
          "barpolar": [
           {
            "marker": {
             "line": {
              "color": "#E5ECF6",
              "width": 0.5
             },
             "pattern": {
              "fillmode": "overlay",
              "size": 10,
              "solidity": 0.2
             }
            },
            "type": "barpolar"
           }
          ],
          "carpet": [
           {
            "aaxis": {
             "endlinecolor": "#2a3f5f",
             "gridcolor": "white",
             "linecolor": "white",
             "minorgridcolor": "white",
             "startlinecolor": "#2a3f5f"
            },
            "baxis": {
             "endlinecolor": "#2a3f5f",
             "gridcolor": "white",
             "linecolor": "white",
             "minorgridcolor": "white",
             "startlinecolor": "#2a3f5f"
            },
            "type": "carpet"
           }
          ],
          "choropleth": [
           {
            "colorbar": {
             "outlinewidth": 0,
             "ticks": ""
            },
            "type": "choropleth"
           }
          ],
          "contour": [
           {
            "colorbar": {
             "outlinewidth": 0,
             "ticks": ""
            },
            "colorscale": [
             [
              0,
              "#0d0887"
             ],
             [
              0.1111111111111111,
              "#46039f"
             ],
             [
              0.2222222222222222,
              "#7201a8"
             ],
             [
              0.3333333333333333,
              "#9c179e"
             ],
             [
              0.4444444444444444,
              "#bd3786"
             ],
             [
              0.5555555555555556,
              "#d8576b"
             ],
             [
              0.6666666666666666,
              "#ed7953"
             ],
             [
              0.7777777777777778,
              "#fb9f3a"
             ],
             [
              0.8888888888888888,
              "#fdca26"
             ],
             [
              1,
              "#f0f921"
             ]
            ],
            "type": "contour"
           }
          ],
          "contourcarpet": [
           {
            "colorbar": {
             "outlinewidth": 0,
             "ticks": ""
            },
            "type": "contourcarpet"
           }
          ],
          "heatmap": [
           {
            "colorbar": {
             "outlinewidth": 0,
             "ticks": ""
            },
            "colorscale": [
             [
              0,
              "#0d0887"
             ],
             [
              0.1111111111111111,
              "#46039f"
             ],
             [
              0.2222222222222222,
              "#7201a8"
             ],
             [
              0.3333333333333333,
              "#9c179e"
             ],
             [
              0.4444444444444444,
              "#bd3786"
             ],
             [
              0.5555555555555556,
              "#d8576b"
             ],
             [
              0.6666666666666666,
              "#ed7953"
             ],
             [
              0.7777777777777778,
              "#fb9f3a"
             ],
             [
              0.8888888888888888,
              "#fdca26"
             ],
             [
              1,
              "#f0f921"
             ]
            ],
            "type": "heatmap"
           }
          ],
          "heatmapgl": [
           {
            "colorbar": {
             "outlinewidth": 0,
             "ticks": ""
            },
            "colorscale": [
             [
              0,
              "#0d0887"
             ],
             [
              0.1111111111111111,
              "#46039f"
             ],
             [
              0.2222222222222222,
              "#7201a8"
             ],
             [
              0.3333333333333333,
              "#9c179e"
             ],
             [
              0.4444444444444444,
              "#bd3786"
             ],
             [
              0.5555555555555556,
              "#d8576b"
             ],
             [
              0.6666666666666666,
              "#ed7953"
             ],
             [
              0.7777777777777778,
              "#fb9f3a"
             ],
             [
              0.8888888888888888,
              "#fdca26"
             ],
             [
              1,
              "#f0f921"
             ]
            ],
            "type": "heatmapgl"
           }
          ],
          "histogram": [
           {
            "marker": {
             "pattern": {
              "fillmode": "overlay",
              "size": 10,
              "solidity": 0.2
             }
            },
            "type": "histogram"
           }
          ],
          "histogram2d": [
           {
            "colorbar": {
             "outlinewidth": 0,
             "ticks": ""
            },
            "colorscale": [
             [
              0,
              "#0d0887"
             ],
             [
              0.1111111111111111,
              "#46039f"
             ],
             [
              0.2222222222222222,
              "#7201a8"
             ],
             [
              0.3333333333333333,
              "#9c179e"
             ],
             [
              0.4444444444444444,
              "#bd3786"
             ],
             [
              0.5555555555555556,
              "#d8576b"
             ],
             [
              0.6666666666666666,
              "#ed7953"
             ],
             [
              0.7777777777777778,
              "#fb9f3a"
             ],
             [
              0.8888888888888888,
              "#fdca26"
             ],
             [
              1,
              "#f0f921"
             ]
            ],
            "type": "histogram2d"
           }
          ],
          "histogram2dcontour": [
           {
            "colorbar": {
             "outlinewidth": 0,
             "ticks": ""
            },
            "colorscale": [
             [
              0,
              "#0d0887"
             ],
             [
              0.1111111111111111,
              "#46039f"
             ],
             [
              0.2222222222222222,
              "#7201a8"
             ],
             [
              0.3333333333333333,
              "#9c179e"
             ],
             [
              0.4444444444444444,
              "#bd3786"
             ],
             [
              0.5555555555555556,
              "#d8576b"
             ],
             [
              0.6666666666666666,
              "#ed7953"
             ],
             [
              0.7777777777777778,
              "#fb9f3a"
             ],
             [
              0.8888888888888888,
              "#fdca26"
             ],
             [
              1,
              "#f0f921"
             ]
            ],
            "type": "histogram2dcontour"
           }
          ],
          "mesh3d": [
           {
            "colorbar": {
             "outlinewidth": 0,
             "ticks": ""
            },
            "type": "mesh3d"
           }
          ],
          "parcoords": [
           {
            "line": {
             "colorbar": {
              "outlinewidth": 0,
              "ticks": ""
             }
            },
            "type": "parcoords"
           }
          ],
          "pie": [
           {
            "automargin": true,
            "type": "pie"
           }
          ],
          "scatter": [
           {
            "fillpattern": {
             "fillmode": "overlay",
             "size": 10,
             "solidity": 0.2
            },
            "type": "scatter"
           }
          ],
          "scatter3d": [
           {
            "line": {
             "colorbar": {
              "outlinewidth": 0,
              "ticks": ""
             }
            },
            "marker": {
             "colorbar": {
              "outlinewidth": 0,
              "ticks": ""
             }
            },
            "type": "scatter3d"
           }
          ],
          "scattercarpet": [
           {
            "marker": {
             "colorbar": {
              "outlinewidth": 0,
              "ticks": ""
             }
            },
            "type": "scattercarpet"
           }
          ],
          "scattergeo": [
           {
            "marker": {
             "colorbar": {
              "outlinewidth": 0,
              "ticks": ""
             }
            },
            "type": "scattergeo"
           }
          ],
          "scattergl": [
           {
            "marker": {
             "colorbar": {
              "outlinewidth": 0,
              "ticks": ""
             }
            },
            "type": "scattergl"
           }
          ],
          "scattermapbox": [
           {
            "marker": {
             "colorbar": {
              "outlinewidth": 0,
              "ticks": ""
             }
            },
            "type": "scattermapbox"
           }
          ],
          "scatterpolar": [
           {
            "marker": {
             "colorbar": {
              "outlinewidth": 0,
              "ticks": ""
             }
            },
            "type": "scatterpolar"
           }
          ],
          "scatterpolargl": [
           {
            "marker": {
             "colorbar": {
              "outlinewidth": 0,
              "ticks": ""
             }
            },
            "type": "scatterpolargl"
           }
          ],
          "scatterternary": [
           {
            "marker": {
             "colorbar": {
              "outlinewidth": 0,
              "ticks": ""
             }
            },
            "type": "scatterternary"
           }
          ],
          "surface": [
           {
            "colorbar": {
             "outlinewidth": 0,
             "ticks": ""
            },
            "colorscale": [
             [
              0,
              "#0d0887"
             ],
             [
              0.1111111111111111,
              "#46039f"
             ],
             [
              0.2222222222222222,
              "#7201a8"
             ],
             [
              0.3333333333333333,
              "#9c179e"
             ],
             [
              0.4444444444444444,
              "#bd3786"
             ],
             [
              0.5555555555555556,
              "#d8576b"
             ],
             [
              0.6666666666666666,
              "#ed7953"
             ],
             [
              0.7777777777777778,
              "#fb9f3a"
             ],
             [
              0.8888888888888888,
              "#fdca26"
             ],
             [
              1,
              "#f0f921"
             ]
            ],
            "type": "surface"
           }
          ],
          "table": [
           {
            "cells": {
             "fill": {
              "color": "#EBF0F8"
             },
             "line": {
              "color": "white"
             }
            },
            "header": {
             "fill": {
              "color": "#C8D4E3"
             },
             "line": {
              "color": "white"
             }
            },
            "type": "table"
           }
          ]
         },
         "layout": {
          "annotationdefaults": {
           "arrowcolor": "#2a3f5f",
           "arrowhead": 0,
           "arrowwidth": 1
          },
          "autotypenumbers": "strict",
          "coloraxis": {
           "colorbar": {
            "outlinewidth": 0,
            "ticks": ""
           }
          },
          "colorscale": {
           "diverging": [
            [
             0,
             "#8e0152"
            ],
            [
             0.1,
             "#c51b7d"
            ],
            [
             0.2,
             "#de77ae"
            ],
            [
             0.3,
             "#f1b6da"
            ],
            [
             0.4,
             "#fde0ef"
            ],
            [
             0.5,
             "#f7f7f7"
            ],
            [
             0.6,
             "#e6f5d0"
            ],
            [
             0.7,
             "#b8e186"
            ],
            [
             0.8,
             "#7fbc41"
            ],
            [
             0.9,
             "#4d9221"
            ],
            [
             1,
             "#276419"
            ]
           ],
           "sequential": [
            [
             0,
             "#0d0887"
            ],
            [
             0.1111111111111111,
             "#46039f"
            ],
            [
             0.2222222222222222,
             "#7201a8"
            ],
            [
             0.3333333333333333,
             "#9c179e"
            ],
            [
             0.4444444444444444,
             "#bd3786"
            ],
            [
             0.5555555555555556,
             "#d8576b"
            ],
            [
             0.6666666666666666,
             "#ed7953"
            ],
            [
             0.7777777777777778,
             "#fb9f3a"
            ],
            [
             0.8888888888888888,
             "#fdca26"
            ],
            [
             1,
             "#f0f921"
            ]
           ],
           "sequentialminus": [
            [
             0,
             "#0d0887"
            ],
            [
             0.1111111111111111,
             "#46039f"
            ],
            [
             0.2222222222222222,
             "#7201a8"
            ],
            [
             0.3333333333333333,
             "#9c179e"
            ],
            [
             0.4444444444444444,
             "#bd3786"
            ],
            [
             0.5555555555555556,
             "#d8576b"
            ],
            [
             0.6666666666666666,
             "#ed7953"
            ],
            [
             0.7777777777777778,
             "#fb9f3a"
            ],
            [
             0.8888888888888888,
             "#fdca26"
            ],
            [
             1,
             "#f0f921"
            ]
           ]
          },
          "colorway": [
           "#636efa",
           "#EF553B",
           "#00cc96",
           "#ab63fa",
           "#FFA15A",
           "#19d3f3",
           "#FF6692",
           "#B6E880",
           "#FF97FF",
           "#FECB52"
          ],
          "font": {
           "color": "#2a3f5f"
          },
          "geo": {
           "bgcolor": "white",
           "lakecolor": "white",
           "landcolor": "#E5ECF6",
           "showlakes": true,
           "showland": true,
           "subunitcolor": "white"
          },
          "hoverlabel": {
           "align": "left"
          },
          "hovermode": "closest",
          "mapbox": {
           "style": "light"
          },
          "paper_bgcolor": "white",
          "plot_bgcolor": "#E5ECF6",
          "polar": {
           "angularaxis": {
            "gridcolor": "white",
            "linecolor": "white",
            "ticks": ""
           },
           "bgcolor": "#E5ECF6",
           "radialaxis": {
            "gridcolor": "white",
            "linecolor": "white",
            "ticks": ""
           }
          },
          "scene": {
           "xaxis": {
            "backgroundcolor": "#E5ECF6",
            "gridcolor": "white",
            "gridwidth": 2,
            "linecolor": "white",
            "showbackground": true,
            "ticks": "",
            "zerolinecolor": "white"
           },
           "yaxis": {
            "backgroundcolor": "#E5ECF6",
            "gridcolor": "white",
            "gridwidth": 2,
            "linecolor": "white",
            "showbackground": true,
            "ticks": "",
            "zerolinecolor": "white"
           },
           "zaxis": {
            "backgroundcolor": "#E5ECF6",
            "gridcolor": "white",
            "gridwidth": 2,
            "linecolor": "white",
            "showbackground": true,
            "ticks": "",
            "zerolinecolor": "white"
           }
          },
          "shapedefaults": {
           "line": {
            "color": "#2a3f5f"
           }
          },
          "ternary": {
           "aaxis": {
            "gridcolor": "white",
            "linecolor": "white",
            "ticks": ""
           },
           "baxis": {
            "gridcolor": "white",
            "linecolor": "white",
            "ticks": ""
           },
           "bgcolor": "#E5ECF6",
           "caxis": {
            "gridcolor": "white",
            "linecolor": "white",
            "ticks": ""
           }
          },
          "title": {
           "x": 0.05
          },
          "xaxis": {
           "automargin": true,
           "gridcolor": "white",
           "linecolor": "white",
           "ticks": "",
           "title": {
            "standoff": 15
           },
           "zerolinecolor": "white",
           "zerolinewidth": 2
          },
          "yaxis": {
           "automargin": true,
           "gridcolor": "white",
           "linecolor": "white",
           "ticks": "",
           "title": {
            "standoff": 15
           },
           "zerolinecolor": "white",
           "zerolinewidth": 2
          }
         }
        }
       }
      }
     },
     "metadata": {},
     "output_type": "display_data"
    }
   ],
   "source": [
    "def addTrace(plantNo, fig):\n",
    "    fig.add_trace(go.Scatter(x = plantNo['year'], y = plantNo['relativeFreqPercentage'],\n",
    "                             mode='lines+markers', \n",
    "                             name=str(plantNo['werksnummer'].iloc[0])))\n",
    "fig = go.Figure()\n",
    "for i in range(len(plant)):\n",
    "    addTrace(plant[i], fig)\n",
    "fig.show()"
   ]
  },
  {
   "cell_type": "markdown",
   "metadata": {},
   "source": [
    "Now, we create an individual relative frequency of failure for each plant. First we calculate the parameters required to create P-Chart: \n",
    "- Proportion Defective (relative frequency) or p\n",
    "- Upper Control Limit (UCL)\n",
    "- Lower Control Limit (LCL)"
   ]
  },
  {
   "cell_type": "code",
   "execution_count": 239,
   "metadata": {},
   "outputs": [],
   "source": [
    "def pChartCalculation(plantNo):\n",
    "    plantControlLimit        = pd.DataFrame(columns=['p','ucl','lcl'])\n",
    "    plantControlLimit['p']   = plantNo['relativeFreq']\n",
    "    pBar                     = plantControlLimit['p'].mean()\n",
    "    for i in plantControlLimit.index:\n",
    "        plantControlLimit['ucl'] = pBar + 3 * np.sqrt((pBar * (1 - pBar)) \n",
    "                                        / plantNo['totalVolume'])\n",
    "        plantControlLimit['lcl'] = pBar - 3 * np.sqrt((pBar * (1 - pBar)) \n",
    "                                        / plantNo['totalVolume'])\n",
    "        if plantControlLimit['lcl'][i] < 0:\n",
    "            plantControlLimit['lcl'][i] = 0\n",
    "    return plantControlLimit\n",
    "\n",
    "plantControlLimit = []\n",
    "for i in range(len(plant)):\n",
    "    plantControlLimit.append(pChartCalculation(plant[i]))"
   ]
  },
  {
   "cell_type": "markdown",
   "metadata": {},
   "source": [
    "Create a P-Chart for the relative frequency"
   ]
  },
  {
   "cell_type": "code",
   "execution_count": null,
   "metadata": {},
   "outputs": [],
   "source": [
    "def plotPChart(plantNo, plantControlLimit, plantList):\n",
    "    plt.figure(figsize=(10, 6))\n",
    "    plt.plot(plantNo['year'], plantControlLimit['p'], marker='o', \n",
    "             linestyle='-', color='blue', label='Proportion Defective')\n",
    "    plt.axhline(y=plantControlLimit['p'].mean(), \n",
    "                color='green', linestyle='--', label='p-bar')\n",
    "    plt.plot(plantNo['year'], plantControlLimit['ucl'], color='red', \n",
    "             linestyle='--', label='UCL')\n",
    "    plt.plot(plantNo['year'], plantControlLimit['lcl'], color='red', \n",
    "             linestyle='--', label='LCL')\n",
    "\n",
    "    plt.title('P-Chart Relative Frequency: Plant ' + str(plantList))\n",
    "    plt.xlabel('Year')\n",
    "    plt.ylabel('Proportion Defective')\n",
    "    plt.legend()\n",
    "    plt.show()\n",
    "    return\n",
    "\n",
    "for i in range(len(plant)):\n",
    "    plotPChart(plant[i], plantControlLimit[i], plantList[i])"
   ]
  },
  {
   "cell_type": "markdown",
   "metadata": {},
   "source": [
    "Now, for the requirements, we sort the relative frequency of all the plants in descending order and pick the top 5. Then we check which components are produced in the particular plants. We will check for the annual top 5 and the overall top 5."
   ]
  },
  {
   "cell_type": "code",
   "execution_count": 227,
   "metadata": {},
   "outputs": [],
   "source": [
    "plantList_relFrq_sortedAnnually = []\n",
    "for i in range(len(productionYear)):\n",
    "    plantList_relFrq_sortedAnnually.append(plantList_relFrq[plantList_relFrq['year'] \n",
    "                                                            == productionYear[i]].sort_values('relativeFreqPercentage', \n",
    "                                                                                              ascending=False).reset_index(drop=True).head())\n",
    "plantList_relFrq_sortedOverall  = plantList_relFrq.sort_values('relativeFreqPercentage', ascending=False).reset_index(drop=True).head()\n"
   ]
  },
  {
   "cell_type": "markdown",
   "metadata": {},
   "source": [
    "Annual Relative Frequency Rank (2008 - 2016)"
   ]
  },
  {
   "cell_type": "code",
   "execution_count": 228,
   "metadata": {},
   "outputs": [
    {
     "data": {
      "text/html": [
       "<div>\n",
       "<style scoped>\n",
       "    .dataframe tbody tr th:only-of-type {\n",
       "        vertical-align: middle;\n",
       "    }\n",
       "\n",
       "    .dataframe tbody tr th {\n",
       "        vertical-align: top;\n",
       "    }\n",
       "\n",
       "    .dataframe thead th {\n",
       "        text-align: right;\n",
       "    }\n",
       "</style>\n",
       "<table border=\"1\" class=\"dataframe\">\n",
       "  <thead>\n",
       "    <tr style=\"text-align: right;\">\n",
       "      <th></th>\n",
       "      <th>year</th>\n",
       "      <th>werksnummer</th>\n",
       "      <th>totalVolume</th>\n",
       "      <th>defectVolume</th>\n",
       "      <th>relativeFreq</th>\n",
       "      <th>relativeFreqPercentage</th>\n",
       "    </tr>\n",
       "  </thead>\n",
       "  <tbody>\n",
       "    <tr>\n",
       "      <th>0</th>\n",
       "      <td>2008</td>\n",
       "      <td>1111</td>\n",
       "      <td>2633</td>\n",
       "      <td>532</td>\n",
       "      <td>0.202051</td>\n",
       "      <td>20.205089</td>\n",
       "    </tr>\n",
       "    <tr>\n",
       "      <th>1</th>\n",
       "      <td>2008</td>\n",
       "      <td>1011</td>\n",
       "      <td>7213</td>\n",
       "      <td>1266</td>\n",
       "      <td>0.175516</td>\n",
       "      <td>17.551643</td>\n",
       "    </tr>\n",
       "    <tr>\n",
       "      <th>2</th>\n",
       "      <td>2008</td>\n",
       "      <td>1041</td>\n",
       "      <td>16997</td>\n",
       "      <td>2927</td>\n",
       "      <td>0.172207</td>\n",
       "      <td>17.220686</td>\n",
       "    </tr>\n",
       "    <tr>\n",
       "      <th>3</th>\n",
       "      <td>2008</td>\n",
       "      <td>1051</td>\n",
       "      <td>8292</td>\n",
       "      <td>1070</td>\n",
       "      <td>0.129040</td>\n",
       "      <td>12.904004</td>\n",
       "    </tr>\n",
       "    <tr>\n",
       "      <th>4</th>\n",
       "      <td>2008</td>\n",
       "      <td>1021</td>\n",
       "      <td>6009</td>\n",
       "      <td>723</td>\n",
       "      <td>0.120320</td>\n",
       "      <td>12.031952</td>\n",
       "    </tr>\n",
       "  </tbody>\n",
       "</table>\n",
       "</div>"
      ],
      "text/plain": [
       "   year  werksnummer  totalVolume  defectVolume  relativeFreq  \\\n",
       "0  2008         1111         2633           532      0.202051   \n",
       "1  2008         1011         7213          1266      0.175516   \n",
       "2  2008         1041        16997          2927      0.172207   \n",
       "3  2008         1051         8292          1070      0.129040   \n",
       "4  2008         1021         6009           723      0.120320   \n",
       "\n",
       "   relativeFreqPercentage  \n",
       "0               20.205089  \n",
       "1               17.551643  \n",
       "2               17.220686  \n",
       "3               12.904004  \n",
       "4               12.031952  "
      ]
     },
     "execution_count": 228,
     "metadata": {},
     "output_type": "execute_result"
    }
   ],
   "source": [
    "# Relative Frequency rank 2008\n",
    "plantList_relFrq_sortedAnnually[0]"
   ]
  },
  {
   "cell_type": "code",
   "execution_count": 229,
   "metadata": {},
   "outputs": [
    {
     "data": {
      "text/html": [
       "<div>\n",
       "<style scoped>\n",
       "    .dataframe tbody tr th:only-of-type {\n",
       "        vertical-align: middle;\n",
       "    }\n",
       "\n",
       "    .dataframe tbody tr th {\n",
       "        vertical-align: top;\n",
       "    }\n",
       "\n",
       "    .dataframe thead th {\n",
       "        text-align: right;\n",
       "    }\n",
       "</style>\n",
       "<table border=\"1\" class=\"dataframe\">\n",
       "  <thead>\n",
       "    <tr style=\"text-align: right;\">\n",
       "      <th></th>\n",
       "      <th>year</th>\n",
       "      <th>werksnummer</th>\n",
       "      <th>totalVolume</th>\n",
       "      <th>defectVolume</th>\n",
       "      <th>relativeFreq</th>\n",
       "      <th>relativeFreqPercentage</th>\n",
       "    </tr>\n",
       "  </thead>\n",
       "  <tbody>\n",
       "    <tr>\n",
       "      <th>0</th>\n",
       "      <td>2009</td>\n",
       "      <td>1111</td>\n",
       "      <td>20134</td>\n",
       "      <td>3979</td>\n",
       "      <td>0.197626</td>\n",
       "      <td>19.762591</td>\n",
       "    </tr>\n",
       "    <tr>\n",
       "      <th>1</th>\n",
       "      <td>2009</td>\n",
       "      <td>1041</td>\n",
       "      <td>130017</td>\n",
       "      <td>22667</td>\n",
       "      <td>0.174339</td>\n",
       "      <td>17.433874</td>\n",
       "    </tr>\n",
       "    <tr>\n",
       "      <th>2</th>\n",
       "      <td>2009</td>\n",
       "      <td>1011</td>\n",
       "      <td>55250</td>\n",
       "      <td>9620</td>\n",
       "      <td>0.174118</td>\n",
       "      <td>17.411765</td>\n",
       "    </tr>\n",
       "    <tr>\n",
       "      <th>3</th>\n",
       "      <td>2009</td>\n",
       "      <td>1051</td>\n",
       "      <td>67342</td>\n",
       "      <td>8548</td>\n",
       "      <td>0.126934</td>\n",
       "      <td>12.693416</td>\n",
       "    </tr>\n",
       "    <tr>\n",
       "      <th>4</th>\n",
       "      <td>2009</td>\n",
       "      <td>1021</td>\n",
       "      <td>45594</td>\n",
       "      <td>5575</td>\n",
       "      <td>0.122275</td>\n",
       "      <td>12.227486</td>\n",
       "    </tr>\n",
       "  </tbody>\n",
       "</table>\n",
       "</div>"
      ],
      "text/plain": [
       "   year  werksnummer  totalVolume  defectVolume  relativeFreq  \\\n",
       "0  2009         1111        20134          3979      0.197626   \n",
       "1  2009         1041       130017         22667      0.174339   \n",
       "2  2009         1011        55250          9620      0.174118   \n",
       "3  2009         1051        67342          8548      0.126934   \n",
       "4  2009         1021        45594          5575      0.122275   \n",
       "\n",
       "   relativeFreqPercentage  \n",
       "0               19.762591  \n",
       "1               17.433874  \n",
       "2               17.411765  \n",
       "3               12.693416  \n",
       "4               12.227486  "
      ]
     },
     "execution_count": 229,
     "metadata": {},
     "output_type": "execute_result"
    }
   ],
   "source": [
    "# Relative Frequency rank 2009\n",
    "plantList_relFrq_sortedAnnually[1]"
   ]
  },
  {
   "cell_type": "code",
   "execution_count": 230,
   "metadata": {},
   "outputs": [
    {
     "data": {
      "text/html": [
       "<div>\n",
       "<style scoped>\n",
       "    .dataframe tbody tr th:only-of-type {\n",
       "        vertical-align: middle;\n",
       "    }\n",
       "\n",
       "    .dataframe tbody tr th {\n",
       "        vertical-align: top;\n",
       "    }\n",
       "\n",
       "    .dataframe thead th {\n",
       "        text-align: right;\n",
       "    }\n",
       "</style>\n",
       "<table border=\"1\" class=\"dataframe\">\n",
       "  <thead>\n",
       "    <tr style=\"text-align: right;\">\n",
       "      <th></th>\n",
       "      <th>year</th>\n",
       "      <th>werksnummer</th>\n",
       "      <th>totalVolume</th>\n",
       "      <th>defectVolume</th>\n",
       "      <th>relativeFreq</th>\n",
       "      <th>relativeFreqPercentage</th>\n",
       "    </tr>\n",
       "  </thead>\n",
       "  <tbody>\n",
       "    <tr>\n",
       "      <th>0</th>\n",
       "      <td>2010</td>\n",
       "      <td>1111</td>\n",
       "      <td>20345</td>\n",
       "      <td>4041</td>\n",
       "      <td>0.198624</td>\n",
       "      <td>19.862374</td>\n",
       "    </tr>\n",
       "    <tr>\n",
       "      <th>1</th>\n",
       "      <td>2010</td>\n",
       "      <td>1011</td>\n",
       "      <td>55485</td>\n",
       "      <td>9717</td>\n",
       "      <td>0.175128</td>\n",
       "      <td>17.512841</td>\n",
       "    </tr>\n",
       "    <tr>\n",
       "      <th>2</th>\n",
       "      <td>2010</td>\n",
       "      <td>1041</td>\n",
       "      <td>130163</td>\n",
       "      <td>22648</td>\n",
       "      <td>0.173997</td>\n",
       "      <td>17.399722</td>\n",
       "    </tr>\n",
       "    <tr>\n",
       "      <th>3</th>\n",
       "      <td>2010</td>\n",
       "      <td>1051</td>\n",
       "      <td>67359</td>\n",
       "      <td>8498</td>\n",
       "      <td>0.126160</td>\n",
       "      <td>12.615983</td>\n",
       "    </tr>\n",
       "    <tr>\n",
       "      <th>4</th>\n",
       "      <td>2010</td>\n",
       "      <td>1021</td>\n",
       "      <td>45595</td>\n",
       "      <td>5522</td>\n",
       "      <td>0.121110</td>\n",
       "      <td>12.110977</td>\n",
       "    </tr>\n",
       "  </tbody>\n",
       "</table>\n",
       "</div>"
      ],
      "text/plain": [
       "   year  werksnummer  totalVolume  defectVolume  relativeFreq  \\\n",
       "0  2010         1111        20345          4041      0.198624   \n",
       "1  2010         1011        55485          9717      0.175128   \n",
       "2  2010         1041       130163         22648      0.173997   \n",
       "3  2010         1051        67359          8498      0.126160   \n",
       "4  2010         1021        45595          5522      0.121110   \n",
       "\n",
       "   relativeFreqPercentage  \n",
       "0               19.862374  \n",
       "1               17.512841  \n",
       "2               17.399722  \n",
       "3               12.615983  \n",
       "4               12.110977  "
      ]
     },
     "execution_count": 230,
     "metadata": {},
     "output_type": "execute_result"
    }
   ],
   "source": [
    "# Relative Frequency rank 2010\n",
    "plantList_relFrq_sortedAnnually[2]"
   ]
  },
  {
   "cell_type": "code",
   "execution_count": 231,
   "metadata": {},
   "outputs": [
    {
     "data": {
      "text/html": [
       "<div>\n",
       "<style scoped>\n",
       "    .dataframe tbody tr th:only-of-type {\n",
       "        vertical-align: middle;\n",
       "    }\n",
       "\n",
       "    .dataframe tbody tr th {\n",
       "        vertical-align: top;\n",
       "    }\n",
       "\n",
       "    .dataframe thead th {\n",
       "        text-align: right;\n",
       "    }\n",
       "</style>\n",
       "<table border=\"1\" class=\"dataframe\">\n",
       "  <thead>\n",
       "    <tr style=\"text-align: right;\">\n",
       "      <th></th>\n",
       "      <th>year</th>\n",
       "      <th>werksnummer</th>\n",
       "      <th>totalVolume</th>\n",
       "      <th>defectVolume</th>\n",
       "      <th>relativeFreq</th>\n",
       "      <th>relativeFreqPercentage</th>\n",
       "    </tr>\n",
       "  </thead>\n",
       "  <tbody>\n",
       "    <tr>\n",
       "      <th>0</th>\n",
       "      <td>2011</td>\n",
       "      <td>1111</td>\n",
       "      <td>20529</td>\n",
       "      <td>4058</td>\n",
       "      <td>0.197672</td>\n",
       "      <td>19.767159</td>\n",
       "    </tr>\n",
       "    <tr>\n",
       "      <th>1</th>\n",
       "      <td>2011</td>\n",
       "      <td>1011</td>\n",
       "      <td>55431</td>\n",
       "      <td>9820</td>\n",
       "      <td>0.177157</td>\n",
       "      <td>17.715719</td>\n",
       "    </tr>\n",
       "    <tr>\n",
       "      <th>2</th>\n",
       "      <td>2011</td>\n",
       "      <td>1041</td>\n",
       "      <td>130256</td>\n",
       "      <td>22897</td>\n",
       "      <td>0.175785</td>\n",
       "      <td>17.578461</td>\n",
       "    </tr>\n",
       "    <tr>\n",
       "      <th>3</th>\n",
       "      <td>2011</td>\n",
       "      <td>1051</td>\n",
       "      <td>67119</td>\n",
       "      <td>8525</td>\n",
       "      <td>0.127013</td>\n",
       "      <td>12.701322</td>\n",
       "    </tr>\n",
       "    <tr>\n",
       "      <th>4</th>\n",
       "      <td>2011</td>\n",
       "      <td>1021</td>\n",
       "      <td>45636</td>\n",
       "      <td>5696</td>\n",
       "      <td>0.124814</td>\n",
       "      <td>12.481374</td>\n",
       "    </tr>\n",
       "  </tbody>\n",
       "</table>\n",
       "</div>"
      ],
      "text/plain": [
       "   year  werksnummer  totalVolume  defectVolume  relativeFreq  \\\n",
       "0  2011         1111        20529          4058      0.197672   \n",
       "1  2011         1011        55431          9820      0.177157   \n",
       "2  2011         1041       130256         22897      0.175785   \n",
       "3  2011         1051        67119          8525      0.127013   \n",
       "4  2011         1021        45636          5696      0.124814   \n",
       "\n",
       "   relativeFreqPercentage  \n",
       "0               19.767159  \n",
       "1               17.715719  \n",
       "2               17.578461  \n",
       "3               12.701322  \n",
       "4               12.481374  "
      ]
     },
     "execution_count": 231,
     "metadata": {},
     "output_type": "execute_result"
    }
   ],
   "source": [
    "# Relative Frequency rank 2011\n",
    "plantList_relFrq_sortedAnnually[3]"
   ]
  },
  {
   "cell_type": "code",
   "execution_count": 232,
   "metadata": {},
   "outputs": [
    {
     "data": {
      "text/html": [
       "<div>\n",
       "<style scoped>\n",
       "    .dataframe tbody tr th:only-of-type {\n",
       "        vertical-align: middle;\n",
       "    }\n",
       "\n",
       "    .dataframe tbody tr th {\n",
       "        vertical-align: top;\n",
       "    }\n",
       "\n",
       "    .dataframe thead th {\n",
       "        text-align: right;\n",
       "    }\n",
       "</style>\n",
       "<table border=\"1\" class=\"dataframe\">\n",
       "  <thead>\n",
       "    <tr style=\"text-align: right;\">\n",
       "      <th></th>\n",
       "      <th>year</th>\n",
       "      <th>werksnummer</th>\n",
       "      <th>totalVolume</th>\n",
       "      <th>defectVolume</th>\n",
       "      <th>relativeFreq</th>\n",
       "      <th>relativeFreqPercentage</th>\n",
       "    </tr>\n",
       "  </thead>\n",
       "  <tbody>\n",
       "    <tr>\n",
       "      <th>0</th>\n",
       "      <td>2012</td>\n",
       "      <td>1111</td>\n",
       "      <td>76502</td>\n",
       "      <td>15251</td>\n",
       "      <td>0.199354</td>\n",
       "      <td>19.935427</td>\n",
       "    </tr>\n",
       "    <tr>\n",
       "      <th>1</th>\n",
       "      <td>2012</td>\n",
       "      <td>1011</td>\n",
       "      <td>55282</td>\n",
       "      <td>9798</td>\n",
       "      <td>0.177237</td>\n",
       "      <td>17.723671</td>\n",
       "    </tr>\n",
       "    <tr>\n",
       "      <th>2</th>\n",
       "      <td>2012</td>\n",
       "      <td>1041</td>\n",
       "      <td>130379</td>\n",
       "      <td>22757</td>\n",
       "      <td>0.174545</td>\n",
       "      <td>17.454498</td>\n",
       "    </tr>\n",
       "    <tr>\n",
       "      <th>3</th>\n",
       "      <td>2012</td>\n",
       "      <td>1051</td>\n",
       "      <td>67206</td>\n",
       "      <td>8546</td>\n",
       "      <td>0.127161</td>\n",
       "      <td>12.716127</td>\n",
       "    </tr>\n",
       "    <tr>\n",
       "      <th>4</th>\n",
       "      <td>2012</td>\n",
       "      <td>1021</td>\n",
       "      <td>45744</td>\n",
       "      <td>5754</td>\n",
       "      <td>0.125787</td>\n",
       "      <td>12.578699</td>\n",
       "    </tr>\n",
       "  </tbody>\n",
       "</table>\n",
       "</div>"
      ],
      "text/plain": [
       "   year  werksnummer  totalVolume  defectVolume  relativeFreq  \\\n",
       "0  2012         1111        76502         15251      0.199354   \n",
       "1  2012         1011        55282          9798      0.177237   \n",
       "2  2012         1041       130379         22757      0.174545   \n",
       "3  2012         1051        67206          8546      0.127161   \n",
       "4  2012         1021        45744          5754      0.125787   \n",
       "\n",
       "   relativeFreqPercentage  \n",
       "0               19.935427  \n",
       "1               17.723671  \n",
       "2               17.454498  \n",
       "3               12.716127  \n",
       "4               12.578699  "
      ]
     },
     "execution_count": 232,
     "metadata": {},
     "output_type": "execute_result"
    }
   ],
   "source": [
    "# Relative Frequency rank 2012\n",
    "plantList_relFrq_sortedAnnually[4]"
   ]
  },
  {
   "cell_type": "code",
   "execution_count": 233,
   "metadata": {},
   "outputs": [
    {
     "data": {
      "text/html": [
       "<div>\n",
       "<style scoped>\n",
       "    .dataframe tbody tr th:only-of-type {\n",
       "        vertical-align: middle;\n",
       "    }\n",
       "\n",
       "    .dataframe tbody tr th {\n",
       "        vertical-align: top;\n",
       "    }\n",
       "\n",
       "    .dataframe thead th {\n",
       "        text-align: right;\n",
       "    }\n",
       "</style>\n",
       "<table border=\"1\" class=\"dataframe\">\n",
       "  <thead>\n",
       "    <tr style=\"text-align: right;\">\n",
       "      <th></th>\n",
       "      <th>year</th>\n",
       "      <th>werksnummer</th>\n",
       "      <th>totalVolume</th>\n",
       "      <th>defectVolume</th>\n",
       "      <th>relativeFreq</th>\n",
       "      <th>relativeFreqPercentage</th>\n",
       "    </tr>\n",
       "  </thead>\n",
       "  <tbody>\n",
       "    <tr>\n",
       "      <th>0</th>\n",
       "      <td>2013</td>\n",
       "      <td>1111</td>\n",
       "      <td>72456</td>\n",
       "      <td>14379</td>\n",
       "      <td>0.198451</td>\n",
       "      <td>19.845147</td>\n",
       "    </tr>\n",
       "    <tr>\n",
       "      <th>1</th>\n",
       "      <td>2013</td>\n",
       "      <td>1011</td>\n",
       "      <td>55327</td>\n",
       "      <td>9862</td>\n",
       "      <td>0.178249</td>\n",
       "      <td>17.824932</td>\n",
       "    </tr>\n",
       "    <tr>\n",
       "      <th>2</th>\n",
       "      <td>2013</td>\n",
       "      <td>1041</td>\n",
       "      <td>129813</td>\n",
       "      <td>22813</td>\n",
       "      <td>0.175737</td>\n",
       "      <td>17.573741</td>\n",
       "    </tr>\n",
       "    <tr>\n",
       "      <th>3</th>\n",
       "      <td>2013</td>\n",
       "      <td>1051</td>\n",
       "      <td>67167</td>\n",
       "      <td>8558</td>\n",
       "      <td>0.127414</td>\n",
       "      <td>12.741376</td>\n",
       "    </tr>\n",
       "    <tr>\n",
       "      <th>4</th>\n",
       "      <td>2013</td>\n",
       "      <td>1021</td>\n",
       "      <td>45571</td>\n",
       "      <td>5745</td>\n",
       "      <td>0.126067</td>\n",
       "      <td>12.606702</td>\n",
       "    </tr>\n",
       "  </tbody>\n",
       "</table>\n",
       "</div>"
      ],
      "text/plain": [
       "   year  werksnummer  totalVolume  defectVolume  relativeFreq  \\\n",
       "0  2013         1111        72456         14379      0.198451   \n",
       "1  2013         1011        55327          9862      0.178249   \n",
       "2  2013         1041       129813         22813      0.175737   \n",
       "3  2013         1051        67167          8558      0.127414   \n",
       "4  2013         1021        45571          5745      0.126067   \n",
       "\n",
       "   relativeFreqPercentage  \n",
       "0               19.845147  \n",
       "1               17.824932  \n",
       "2               17.573741  \n",
       "3               12.741376  \n",
       "4               12.606702  "
      ]
     },
     "execution_count": 233,
     "metadata": {},
     "output_type": "execute_result"
    }
   ],
   "source": [
    "# Relative Frequency rank 2013\n",
    "plantList_relFrq_sortedAnnually[5]"
   ]
  },
  {
   "cell_type": "code",
   "execution_count": 234,
   "metadata": {},
   "outputs": [
    {
     "data": {
      "text/html": [
       "<div>\n",
       "<style scoped>\n",
       "    .dataframe tbody tr th:only-of-type {\n",
       "        vertical-align: middle;\n",
       "    }\n",
       "\n",
       "    .dataframe tbody tr th {\n",
       "        vertical-align: top;\n",
       "    }\n",
       "\n",
       "    .dataframe thead th {\n",
       "        text-align: right;\n",
       "    }\n",
       "</style>\n",
       "<table border=\"1\" class=\"dataframe\">\n",
       "  <thead>\n",
       "    <tr style=\"text-align: right;\">\n",
       "      <th></th>\n",
       "      <th>year</th>\n",
       "      <th>werksnummer</th>\n",
       "      <th>totalVolume</th>\n",
       "      <th>defectVolume</th>\n",
       "      <th>relativeFreq</th>\n",
       "      <th>relativeFreqPercentage</th>\n",
       "    </tr>\n",
       "  </thead>\n",
       "  <tbody>\n",
       "    <tr>\n",
       "      <th>0</th>\n",
       "      <td>2014</td>\n",
       "      <td>1111</td>\n",
       "      <td>60242</td>\n",
       "      <td>11924</td>\n",
       "      <td>0.197935</td>\n",
       "      <td>19.793500</td>\n",
       "    </tr>\n",
       "    <tr>\n",
       "      <th>1</th>\n",
       "      <td>2014</td>\n",
       "      <td>1041</td>\n",
       "      <td>130127</td>\n",
       "      <td>22865</td>\n",
       "      <td>0.175713</td>\n",
       "      <td>17.571296</td>\n",
       "    </tr>\n",
       "    <tr>\n",
       "      <th>2</th>\n",
       "      <td>2014</td>\n",
       "      <td>1011</td>\n",
       "      <td>55243</td>\n",
       "      <td>9699</td>\n",
       "      <td>0.175570</td>\n",
       "      <td>17.556976</td>\n",
       "    </tr>\n",
       "    <tr>\n",
       "      <th>3</th>\n",
       "      <td>2014</td>\n",
       "      <td>1021</td>\n",
       "      <td>45742</td>\n",
       "      <td>5865</td>\n",
       "      <td>0.128219</td>\n",
       "      <td>12.821914</td>\n",
       "    </tr>\n",
       "    <tr>\n",
       "      <th>4</th>\n",
       "      <td>2014</td>\n",
       "      <td>1051</td>\n",
       "      <td>67214</td>\n",
       "      <td>8501</td>\n",
       "      <td>0.126477</td>\n",
       "      <td>12.647663</td>\n",
       "    </tr>\n",
       "  </tbody>\n",
       "</table>\n",
       "</div>"
      ],
      "text/plain": [
       "   year  werksnummer  totalVolume  defectVolume  relativeFreq  \\\n",
       "0  2014         1111        60242         11924      0.197935   \n",
       "1  2014         1041       130127         22865      0.175713   \n",
       "2  2014         1011        55243          9699      0.175570   \n",
       "3  2014         1021        45742          5865      0.128219   \n",
       "4  2014         1051        67214          8501      0.126477   \n",
       "\n",
       "   relativeFreqPercentage  \n",
       "0               19.793500  \n",
       "1               17.571296  \n",
       "2               17.556976  \n",
       "3               12.821914  \n",
       "4               12.647663  "
      ]
     },
     "execution_count": 234,
     "metadata": {},
     "output_type": "execute_result"
    }
   ],
   "source": [
    "# Relative Frequency rank 2014\n",
    "plantList_relFrq_sortedAnnually[6]"
   ]
  },
  {
   "cell_type": "code",
   "execution_count": 235,
   "metadata": {},
   "outputs": [
    {
     "data": {
      "text/html": [
       "<div>\n",
       "<style scoped>\n",
       "    .dataframe tbody tr th:only-of-type {\n",
       "        vertical-align: middle;\n",
       "    }\n",
       "\n",
       "    .dataframe tbody tr th {\n",
       "        vertical-align: top;\n",
       "    }\n",
       "\n",
       "    .dataframe thead th {\n",
       "        text-align: right;\n",
       "    }\n",
       "</style>\n",
       "<table border=\"1\" class=\"dataframe\">\n",
       "  <thead>\n",
       "    <tr style=\"text-align: right;\">\n",
       "      <th></th>\n",
       "      <th>year</th>\n",
       "      <th>werksnummer</th>\n",
       "      <th>totalVolume</th>\n",
       "      <th>defectVolume</th>\n",
       "      <th>relativeFreq</th>\n",
       "      <th>relativeFreqPercentage</th>\n",
       "    </tr>\n",
       "  </thead>\n",
       "  <tbody>\n",
       "    <tr>\n",
       "      <th>0</th>\n",
       "      <td>2015</td>\n",
       "      <td>1111</td>\n",
       "      <td>60055</td>\n",
       "      <td>12110</td>\n",
       "      <td>0.201648</td>\n",
       "      <td>20.164849</td>\n",
       "    </tr>\n",
       "    <tr>\n",
       "      <th>1</th>\n",
       "      <td>2015</td>\n",
       "      <td>1011</td>\n",
       "      <td>55340</td>\n",
       "      <td>9698</td>\n",
       "      <td>0.175244</td>\n",
       "      <td>17.524395</td>\n",
       "    </tr>\n",
       "    <tr>\n",
       "      <th>2</th>\n",
       "      <td>2015</td>\n",
       "      <td>1041</td>\n",
       "      <td>130370</td>\n",
       "      <td>22715</td>\n",
       "      <td>0.174235</td>\n",
       "      <td>17.423487</td>\n",
       "    </tr>\n",
       "    <tr>\n",
       "      <th>3</th>\n",
       "      <td>2015</td>\n",
       "      <td>1051</td>\n",
       "      <td>67182</td>\n",
       "      <td>8487</td>\n",
       "      <td>0.126328</td>\n",
       "      <td>12.632848</td>\n",
       "    </tr>\n",
       "    <tr>\n",
       "      <th>4</th>\n",
       "      <td>2015</td>\n",
       "      <td>1021</td>\n",
       "      <td>45402</td>\n",
       "      <td>5615</td>\n",
       "      <td>0.123673</td>\n",
       "      <td>12.367297</td>\n",
       "    </tr>\n",
       "  </tbody>\n",
       "</table>\n",
       "</div>"
      ],
      "text/plain": [
       "   year  werksnummer  totalVolume  defectVolume  relativeFreq  \\\n",
       "0  2015         1111        60055         12110      0.201648   \n",
       "1  2015         1011        55340          9698      0.175244   \n",
       "2  2015         1041       130370         22715      0.174235   \n",
       "3  2015         1051        67182          8487      0.126328   \n",
       "4  2015         1021        45402          5615      0.123673   \n",
       "\n",
       "   relativeFreqPercentage  \n",
       "0               20.164849  \n",
       "1               17.524395  \n",
       "2               17.423487  \n",
       "3               12.632848  \n",
       "4               12.367297  "
      ]
     },
     "execution_count": 235,
     "metadata": {},
     "output_type": "execute_result"
    }
   ],
   "source": [
    "# Relative Frequency rank 2015\n",
    "plantList_relFrq_sortedAnnually[7]"
   ]
  },
  {
   "cell_type": "code",
   "execution_count": 236,
   "metadata": {},
   "outputs": [
    {
     "data": {
      "text/html": [
       "<div>\n",
       "<style scoped>\n",
       "    .dataframe tbody tr th:only-of-type {\n",
       "        vertical-align: middle;\n",
       "    }\n",
       "\n",
       "    .dataframe tbody tr th {\n",
       "        vertical-align: top;\n",
       "    }\n",
       "\n",
       "    .dataframe thead th {\n",
       "        text-align: right;\n",
       "    }\n",
       "</style>\n",
       "<table border=\"1\" class=\"dataframe\">\n",
       "  <thead>\n",
       "    <tr style=\"text-align: right;\">\n",
       "      <th></th>\n",
       "      <th>year</th>\n",
       "      <th>werksnummer</th>\n",
       "      <th>totalVolume</th>\n",
       "      <th>defectVolume</th>\n",
       "      <th>relativeFreq</th>\n",
       "      <th>relativeFreqPercentage</th>\n",
       "    </tr>\n",
       "  </thead>\n",
       "  <tbody>\n",
       "    <tr>\n",
       "      <th>0</th>\n",
       "      <td>2016</td>\n",
       "      <td>1111</td>\n",
       "      <td>51598</td>\n",
       "      <td>10293</td>\n",
       "      <td>0.199484</td>\n",
       "      <td>19.948448</td>\n",
       "    </tr>\n",
       "    <tr>\n",
       "      <th>1</th>\n",
       "      <td>2016</td>\n",
       "      <td>1011</td>\n",
       "      <td>45102</td>\n",
       "      <td>8020</td>\n",
       "      <td>0.177819</td>\n",
       "      <td>17.781917</td>\n",
       "    </tr>\n",
       "    <tr>\n",
       "      <th>2</th>\n",
       "      <td>2016</td>\n",
       "      <td>1041</td>\n",
       "      <td>114994</td>\n",
       "      <td>20207</td>\n",
       "      <td>0.175722</td>\n",
       "      <td>17.572221</td>\n",
       "    </tr>\n",
       "    <tr>\n",
       "      <th>3</th>\n",
       "      <td>2016</td>\n",
       "      <td>1051</td>\n",
       "      <td>57279</td>\n",
       "      <td>7256</td>\n",
       "      <td>0.126678</td>\n",
       "      <td>12.667819</td>\n",
       "    </tr>\n",
       "    <tr>\n",
       "      <th>4</th>\n",
       "      <td>2016</td>\n",
       "      <td>1021</td>\n",
       "      <td>39623</td>\n",
       "      <td>4932</td>\n",
       "      <td>0.124473</td>\n",
       "      <td>12.447316</td>\n",
       "    </tr>\n",
       "  </tbody>\n",
       "</table>\n",
       "</div>"
      ],
      "text/plain": [
       "   year  werksnummer  totalVolume  defectVolume  relativeFreq  \\\n",
       "0  2016         1111        51598         10293      0.199484   \n",
       "1  2016         1011        45102          8020      0.177819   \n",
       "2  2016         1041       114994         20207      0.175722   \n",
       "3  2016         1051        57279          7256      0.126678   \n",
       "4  2016         1021        39623          4932      0.124473   \n",
       "\n",
       "   relativeFreqPercentage  \n",
       "0               19.948448  \n",
       "1               17.781917  \n",
       "2               17.572221  \n",
       "3               12.667819  \n",
       "4               12.447316  "
      ]
     },
     "execution_count": 236,
     "metadata": {},
     "output_type": "execute_result"
    }
   ],
   "source": [
    "# Relative Frequency rank 2016\n",
    "plantList_relFrq_sortedAnnually[8]"
   ]
  },
  {
   "cell_type": "code",
   "execution_count": null,
   "metadata": {},
   "outputs": [],
   "source": []
  },
  {
   "cell_type": "code",
   "execution_count": null,
   "metadata": {},
   "outputs": [],
   "source": []
  }
 ],
 "metadata": {
  "kernelspec": {
   "display_name": "miniconda3",
   "language": "python",
   "name": "python3"
  },
  "language_info": {
   "codemirror_mode": {
    "name": "ipython",
    "version": 3
   },
   "file_extension": ".py",
   "mimetype": "text/x-python",
   "name": "python",
   "nbconvert_exporter": "python",
   "pygments_lexer": "ipython3",
   "version": "3.12.3"
  }
 },
 "nbformat": 4,
 "nbformat_minor": 2
}
