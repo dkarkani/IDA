{
 "cells": [
  {
   "cell_type": "code",
   "execution_count": 1,
   "metadata": {},
   "outputs": [],
   "source": [
    "import pandas as pd"
   ]
  },
  {
   "cell_type": "code",
   "execution_count": 2,
   "metadata": {},
   "outputs": [],
   "source": [
    "# function to read txt data files and convert them to proper csv files\n",
    "# txtFile: input filename (including directory if applicable)\n",
    "# csvFile: output filename (including directory if applicable)\n",
    "# vtabchar: vertical tab character in the original file (to be replaced with newline command '\\n')\n",
    "# delim: delimiter character used in the original file (to be replaced with comma)\n",
    "def txt2csv(txtFile, csvFile, vtabchar, delim):\n",
    "    with open(txtFile, 'r') as file:\n",
    "        data = file.read().replace(vtabchar, '\\n').replace(delim, ',')\n",
    "    with open(csvFile, 'w') as file:\n",
    "        file.write(data)    \n",
    "    return"
   ]
  },
  {
   "cell_type": "markdown",
   "metadata": {},
   "source": [
    "Set the filename and location for each dataset"
   ]
  },
  {
   "cell_type": "code",
   "execution_count": 3,
   "metadata": {},
   "outputs": [],
   "source": [
    "# original filename and directory for txt data files\n",
    "K1DI2_txt = './Data/Komponente/Komponente_K1DI2.txt'\n",
    "K2LE1_txt = './Data/Komponente/Komponente_K2LE1.txt' \n",
    "K2LE2_txt = './Data/Komponente/Komponente_K2LE2.txt'\n",
    "K2ST1_txt = './Data/Komponente/Komponente_K2ST1.txt'\n",
    "K3AG2_txt = './Data/Komponente/Komponente_K3AG2.txt'\n",
    "K7_txt    = './Data/Komponente/Komponente_K7.txt'\n",
    "\n",
    "# converted txt filename and directory\n",
    "K1DI2_csv = './Data/Komponente/Komponente_K1DI2.csv'\n",
    "K2LE1_csv = './Data/Komponente/Komponente_K2LE1.csv'\n",
    "K2LE2_csv = './Data/Komponente/Komponente_K2LE2.csv'\n",
    "K2ST1_csv = './Data/Komponente/Komponente_K2ST1.csv'\n",
    "K3AG2_csv = './Data/Komponente/Komponente_K3AG2.csv'\n",
    "K7_csv    = './Data/Komponente/Komponente_K7.csv'\n",
    "\n",
    "# original filename and directory for csv data files\n",
    "# component data files\n",
    "K1BE1_csv = './Data/Komponente/Komponente_K1BE1.csv'\n",
    "K1BE2_csv = './Data/Komponente/Komponente_K1BE2.csv'\n",
    "K1DI1_csv = './Data/Komponente/Komponente_K1DI1.csv'\n",
    "K2ST2_csv = './Data/Komponente/Komponente_K2ST2.csv'\n",
    "K3AG1_csv = './Data/Komponente/Komponente_K3AG1.csv'\n",
    "K3SG1_csv = './Data/Komponente/Komponente_K3SG1.csv'\n",
    "K3SG2_csv = './Data/Komponente/Komponente_K3SG2.csv'\n",
    "K4_csv    = './Data/Komponente/Komponente_K4.csv'\n",
    "K5_csv    = './Data/Komponente/Komponente_K5.csv'\n",
    "K6_csv    = './Data/Komponente/Komponente_K6.csv'\n",
    "\n",
    "# vehicle data files\n",
    "bestFahr1_11_csv = './Data/Fahrzeug/Bestandteile_Fahrzeuge_OEM1_Typ11.csv'\n",
    "bestFahr1_12_csv = './Data/Fahrzeug/Bestandteile_Fahrzeuge_OEM1_Typ12.csv'\n",
    "bestFahr2_21_csv = './Data/Fahrzeug/Bestandteile_Fahrzeuge_OEM2_Typ21.csv'\n",
    "bestFahr2_22_csv = './Data/Fahrzeug/Bestandteile_Fahrzeuge_OEM2_Typ22.csv'\n",
    "\n",
    "fahr1_11_csv = './Data/Fahrzeug/Fahrzeuge_OEM1_Typ11.csv'\n",
    "fahr1_12_csv = './Data/Fahrzeug/Fahrzeuge_OEM1_Typ12.csv'\n",
    "fahr2_21_csv = './Data/Fahrzeug/Fahrzeuge_OEM2_Typ21.csv'\n",
    "fahr2_22_csv = './Data/Fahrzeug/Fahrzeuge_OEM2_Typ22.csv'"
   ]
  },
  {
   "cell_type": "code",
   "execution_count": 4,
   "metadata": {},
   "outputs": [
    {
     "data": {
      "text/plain": [
       "'./Data/Komponente/Komponente_K7.csv'"
      ]
     },
     "execution_count": 4,
     "metadata": {},
     "output_type": "execute_result"
    }
   ],
   "source": [
    "# read and convert all the txt data files to csv\n",
    "txt2csv(K1DI2_txt, K1DI2_csv, '\t', '\\\\')\n",
    "txt2csv(K2LE1_txt, K2LE1_csv, '\u000b', 'II')\n",
    "txt2csv(K2LE2_txt, K2LE2_csv, '\u000b', '\\\\')\n",
    "txt2csv(K2ST1_txt, K2ST1_csv, '\u000b', '|')\n",
    "txt2csv(K3AG2_txt, K3AG2_csv, '\u000b', '\\\\')\n",
    "txt2csv(K7_txt   , K7_csv   , '\u000b', '\t')"
   ]
  },
  {
   "cell_type": "code",
   "execution_count": 5,
   "metadata": {},
   "outputs": [],
   "source": [
    "# read the converted csv files\n",
    "# separate the parse date arrangements into 4 types, namely A, B, C, and D\n",
    "A = ['Fehlerhaft_Datum', 'origin']\n",
    "B = ['Produktionsdatum.x', 'Fehlerhaft_Datum.x', \n",
    "     'Produktionsdatum.y', 'Fehlerhaft_Datum.y']\n",
    "C = ['Produktionsdatum.x', 'Fehlerhaft_Datum.x', \n",
    "     'Produktionsdatum.y', 'Fehlerhaft_Datum.y', \n",
    "     'Produktionsdatum', 'Fehlerhaft_Datum']\n",
    "D = ['Produktionsdatum', 'Fehlerhaft_Datum']\n",
    "K1DI2 = pd.read_csv(K1DI2_csv, parse_dates=A, low_memory=False)\n",
    "K2LE1 = pd.read_csv(K2LE1_csv, parse_dates=B, low_memory=False)\n",
    "K2LE2 = pd.read_csv(K2LE2_csv, parse_dates=A, low_memory=False)\n",
    "K2ST1 = pd.read_csv(K2ST1_csv, parse_dates=D, low_memory=False)\n",
    "K3AG2 = pd.read_csv(K3AG2_csv, parse_dates=A, low_memory=False)\n",
    "K7    = pd.read_csv(K7_csv, parse_dates=A, low_memory=False)\n",
    "\n",
    "# read the rest of the csv files\n",
    "# component data\n",
    "K1BE1 = pd.read_csv(K1BE1_csv, parse_dates=A, low_memory=False)\n",
    "K1BE2 = pd.read_csv(K1BE2_csv, parse_dates=A, low_memory=False, sep=';')\n",
    "K1DI1 = pd.read_csv(K1DI1_csv, parse_dates=C, low_memory=False)\n",
    "K2ST2 = pd.read_csv(K2ST2_csv, parse_dates=A, low_memory=False, sep=';')\n",
    "K3AG1 = pd.read_csv(K3AG1_csv, parse_dates=C, low_memory=False)\n",
    "K3SG1 = pd.read_csv(K3SG1_csv, parse_dates=B, low_memory=False)\n",
    "K3SG2 = pd.read_csv(K3SG2_csv, parse_dates=A, low_memory=False)\n",
    "K4    = pd.read_csv(K4_csv, parse_dates=B, low_memory=False, sep=';')\n",
    "K5    = pd.read_csv(K5_csv, parse_dates=B, low_memory=False)\n",
    "K6    = pd.read_csv(K6_csv, parse_dates=A, low_memory=False, sep=';')"
   ]
  },
  {
   "cell_type": "code",
   "execution_count": 8,
   "metadata": {},
   "outputs": [
    {
     "data": {
      "text/html": [
       "<div>\n",
       "<style scoped>\n",
       "    .dataframe tbody tr th:only-of-type {\n",
       "        vertical-align: middle;\n",
       "    }\n",
       "\n",
       "    .dataframe tbody tr th {\n",
       "        vertical-align: top;\n",
       "    }\n",
       "\n",
       "    .dataframe thead th {\n",
       "        text-align: right;\n",
       "    }\n",
       "</style>\n",
       "<table border=\"1\" class=\"dataframe\">\n",
       "  <thead>\n",
       "    <tr style=\"text-align: right;\">\n",
       "      <th></th>\n",
       "      <th>X1</th>\n",
       "      <th>ID_Motor</th>\n",
       "      <th>Herstellernummer</th>\n",
       "      <th>Werksnummer</th>\n",
       "      <th>Fehlerhaft</th>\n",
       "      <th>Fehlerhaft_Datum</th>\n",
       "      <th>Fehlerhaft_Fahrleistung</th>\n",
       "      <th>Produktionsdatum_Origin_01011970</th>\n",
       "      <th>origin</th>\n",
       "    </tr>\n",
       "  </thead>\n",
       "  <tbody>\n",
       "  </tbody>\n",
       "</table>\n",
       "</div>"
      ],
      "text/plain": [
       "Empty DataFrame\n",
       "Columns: [X1, ID_Motor, Herstellernummer, Werksnummer, Fehlerhaft, Fehlerhaft_Datum, Fehlerhaft_Fahrleistung, Produktionsdatum_Origin_01011970, origin]\n",
       "Index: []"
      ]
     },
     "execution_count": 8,
     "metadata": {},
     "output_type": "execute_result"
    }
   ],
   "source": []
  },
  {
   "cell_type": "code",
   "execution_count": null,
   "metadata": {},
   "outputs": [],
   "source": []
  }
 ],
 "metadata": {
  "kernelspec": {
   "display_name": "miniconda3",
   "language": "python",
   "name": "python3"
  },
  "language_info": {
   "codemirror_mode": {
    "name": "ipython",
    "version": 3
   },
   "file_extension": ".py",
   "mimetype": "text/x-python",
   "name": "python",
   "nbconvert_exporter": "python",
   "pygments_lexer": "ipython3",
   "version": "3.12.3"
  }
 },
 "nbformat": 4,
 "nbformat_minor": 2
}
