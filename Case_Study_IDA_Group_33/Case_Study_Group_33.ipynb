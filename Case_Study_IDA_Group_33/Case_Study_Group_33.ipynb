{
 "cells": [
  {
   "cell_type": "code",
   "execution_count": 61,
   "metadata": {},
   "outputs": [],
   "source": [
    "import pandas as pd\n",
    "import plotly.graph_objects as go\n",
    "import seaborn as sns"
   ]
  },
  {
   "cell_type": "code",
   "execution_count": 40,
   "metadata": {},
   "outputs": [],
   "source": [
    "# function to read txt data files and convert them to proper csv files\n",
    "# txtFile: input filename (including directory if applicable)\n",
    "# csvFile: output filename (including directory if applicable)\n",
    "# vtabchar: vertical tab character in the original file (to be replaced with newline command '\\n')\n",
    "# delim: delimiter character used in the original file (to be replaced with comma)\n",
    "def txt2csv(txtFile, csvFile, vtabchar, delim):\n",
    "    with open(txtFile, 'r') as file:\n",
    "        data = file.read().replace(vtabchar, '\\n').replace(delim, ',')\n",
    "    with open(csvFile, 'w') as file:\n",
    "        file.write(data)    \n",
    "    return"
   ]
  },
  {
   "cell_type": "markdown",
   "metadata": {},
   "source": [
    "Set the filename and location for each dataset"
   ]
  },
  {
   "cell_type": "code",
   "execution_count": 41,
   "metadata": {},
   "outputs": [],
   "source": [
    "# original filename and directory for txt data files\n",
    "K1DI2_txt = './Data/Komponente/Komponente_K1DI2.txt'\n",
    "K2LE1_txt = './Data/Komponente/Komponente_K2LE1.txt' \n",
    "K2LE2_txt = './Data/Komponente/Komponente_K2LE2.txt'\n",
    "K2ST1_txt = './Data/Komponente/Komponente_K2ST1.txt'\n",
    "K3AG2_txt = './Data/Komponente/Komponente_K3AG2.txt'\n",
    "K7_txt    = './Data/Komponente/Komponente_K7.txt'\n",
    "\n",
    "# converted txt filename and directory\n",
    "K1DI2_csv = './Data/Komponente/Komponente_K1DI2.csv'\n",
    "K2LE1_csv = './Data/Komponente/Komponente_K2LE1.csv'\n",
    "K2LE2_csv = './Data/Komponente/Komponente_K2LE2.csv'\n",
    "K2ST1_csv = './Data/Komponente/Komponente_K2ST1.csv'\n",
    "K3AG2_csv = './Data/Komponente/Komponente_K3AG2.csv'\n",
    "K7_csv    = './Data/Komponente/Komponente_K7.csv'\n",
    "\n",
    "# original filename and directory for csv data files\n",
    "# component data files\n",
    "K1BE1_csv = './Data/Komponente/Komponente_K1BE1.csv'\n",
    "K1BE2_csv = './Data/Komponente/Komponente_K1BE2.csv'\n",
    "K1DI1_csv = './Data/Komponente/Komponente_K1DI1.csv'\n",
    "K2ST2_csv = './Data/Komponente/Komponente_K2ST2.csv'\n",
    "K3AG1_csv = './Data/Komponente/Komponente_K3AG1.csv'\n",
    "K3SG1_csv = './Data/Komponente/Komponente_K3SG1.csv'\n",
    "K3SG2_csv = './Data/Komponente/Komponente_K3SG2.csv'\n",
    "K4_csv    = './Data/Komponente/Komponente_K4.csv'\n",
    "K5_csv    = './Data/Komponente/Komponente_K5.csv'\n",
    "K6_csv    = './Data/Komponente/Komponente_K6.csv'    "
   ]
  },
  {
   "cell_type": "code",
   "execution_count": 42,
   "metadata": {},
   "outputs": [],
   "source": [
    "# read and convert all the txt data files to csv\n",
    "txt2csv(K1DI2_txt, K1DI2_csv, '\t', '\\\\')\n",
    "txt2csv(K2LE1_txt, K2LE1_csv, '\u000b', 'II')\n",
    "txt2csv(K2LE2_txt, K2LE2_csv, '\u000b', '\\\\')\n",
    "txt2csv(K2ST1_txt, K2ST1_csv, '\u000b', '|')\n",
    "txt2csv(K3AG2_txt, K3AG2_csv, '\u000b', '\\\\')\n",
    "txt2csv(K7_txt   , K7_csv   , '\u000b', '\t')"
   ]
  },
  {
   "cell_type": "code",
   "execution_count": 43,
   "metadata": {},
   "outputs": [],
   "source": [
    "# separate the data arrangements into 4 types, namely A, B, C, and D. \n",
    "# this separation is based on the column names of the datetime data type\n",
    "A = ['Fehlerhaft_Datum', 'origin']\n",
    "B = ['Produktionsdatum.x', 'Fehlerhaft_Datum.x', \n",
    "     'Produktionsdatum.y', 'Fehlerhaft_Datum.y']\n",
    "C = ['Produktionsdatum.x', 'Fehlerhaft_Datum.x', \n",
    "     'Produktionsdatum.y', 'Fehlerhaft_Datum.y', \n",
    "     'Produktionsdatum', 'Fehlerhaft_Datum']\n",
    "D = ['Produktionsdatum', 'Fehlerhaft_Datum']\n",
    "\n",
    "# set up a function to read the csv files\n",
    "def csvReader(csvFile, arr_type, delim=None):\n",
    "    if delim is not None:\n",
    "        dataset = pd.read_csv(csvFile, parse_dates=arr_type, \n",
    "                          low_memory=False, sep=delim)\n",
    "    else:\n",
    "        dataset = pd.read_csv(csvFile, parse_dates=arr_type, \n",
    "                          low_memory=False)\n",
    "    return dataset\n",
    "\n",
    "# read the converted csv files using the csvReader function\n",
    "K1DI2 = csvReader(K1DI2_csv, A)\n",
    "K2LE1 = csvReader(K2LE1_csv, B)\n",
    "K2LE2 = csvReader(K2LE2_csv, A)\n",
    "K2ST1 = csvReader(K2ST1_csv, D)\n",
    "K3AG2 = csvReader(K3AG2_csv, A)\n",
    "K7    = csvReader(K7_csv, A)\n",
    "\n",
    "# read the rest of the csv files using the csvReader function\n",
    "K1BE1 = csvReader(K1BE1_csv, A)\n",
    "K1BE2 = csvReader(K1BE2_csv, A, ';')\n",
    "K1DI1 = csvReader(K1DI1_csv, C)\n",
    "K2ST2 = csvReader(K2ST2_csv, A, ';')\n",
    "K3AG1 = csvReader(K3AG1_csv, C)\n",
    "K3SG1 = csvReader(K3SG1_csv, B)\n",
    "K3SG2 = csvReader(K3SG2_csv, A)\n",
    "K4    = csvReader(K4_csv,    B, ';')\n",
    "K5    = csvReader(K5_csv,    B)\n",
    "K6    = csvReader(K6_csv,    A, ';')"
   ]
  },
  {
   "cell_type": "markdown",
   "metadata": {},
   "source": [
    "For datasets with data arrangements of type B and C, we need to consolidate the columns and eliminate the .x and .y suffixes. For type B, the tables are separated into 2, whereas for type C, the tables are separated into 3."
   ]
  },
  {
   "cell_type": "code",
   "execution_count": 44,
   "metadata": {},
   "outputs": [],
   "source": [
    "# column names to be renamed for type B\n",
    "col_names_x = {'Produktionsdatum.x':'Produktionsdatum', \n",
    "               'Herstellernummer.x':'Herstellernummer',\t\n",
    "               'Werksnummer.x':'Werksnummer',\n",
    "               'Fehlerhaft.x':'Fehlerhaft', \n",
    "               'Fehlerhaft_Datum.x':'Fehlerhaft_Datum',\n",
    "               'Fehlerhaft_Fahrleistung.x':'Fehlerhaft_Fahrleistung'}\n",
    "col_names_y = {'Produktionsdatum.y':'Produktionsdatum', \n",
    "               'Herstellernummer.y':'Herstellernummer',\t\n",
    "               'Werksnummer.y':'Werksnummer',\n",
    "               'Fehlerhaft.y':'Fehlerhaft', \n",
    "               'Fehlerhaft_Datum.y':'Fehlerhaft_Datum',\n",
    "               'Fehlerhaft_Fahrleistung.y':'Fehlerhaft_Fahrleistung'}\n",
    "\n",
    "# set up variables for the components. The components are engine (Motor), electrical components (Schaltung),\n",
    "# body components (Karosserie), and seats (Sitze)\n",
    "idMotor  = 'ID_Motor'        ; idSchalt  = 'ID_Schaltung'\n",
    "idMotorx = 'ID_Motor.x'      ; idSchaltx = 'ID_Schaltung.x'\n",
    "idMotory = 'ID_Motor.y'      ; idSchalty = 'ID_Schaltung.y'\n",
    "\n",
    "idKaros  = 'ID_Karosserie'   ; idSitze  = 'ID_Sitze'\n",
    "idKarosx = 'ID_Karosserie.x' ; idSitzex = 'ID_Sitze.x' \n",
    "idKarosy = 'ID_Karosserie.y' ; idSitzey = 'ID_Sitze.y'\n",
    "\n",
    "# separate type B tables based on the suffixes, rename the columns, and \n",
    "# concatenate vertically, and finally extract the columns that contain the data.\n",
    "# the cleaned up dataset is added with suffix '_c'\n",
    "def streamlineTypeB(dataset, colx, coly, ID, IDx, IDy):\n",
    "    dataset_x = dataset[dataset[IDx].notna()].rename(columns=colx)\n",
    "    dataset_y = dataset[dataset[IDy].notna()].rename(columns=coly)\n",
    "    dataset_x = dataset_x.rename(columns={IDx : ID})\n",
    "    dataset_y = dataset_y.rename(columns={IDy : ID})\n",
    "    dataset_x = dataset_x.loc[:, ID:'Fehlerhaft_Fahrleistung']\n",
    "    dataset_y = dataset_y.loc[:, ID:'Fehlerhaft_Fahrleistung']\n",
    "    dataset_c = pd.concat([dataset_x, dataset_y], axis=0).reset_index(drop=True)\n",
    "    return dataset_c\n",
    "\n",
    "K2LE1_c = streamlineTypeB(K2LE1, col_names_x, col_names_y, \n",
    "                            idSitze, idSitzex, idSitzey)\n",
    "K3SG1_c = streamlineTypeB(K3SG1, col_names_x, col_names_y, \n",
    "                            idSchalt, idSchaltx, idSchalty)\n",
    "K4_c    = streamlineTypeB(K4, col_names_x, col_names_y, \n",
    "                            idKaros, idKarosx, idKarosy)\n",
    "K5_c    = streamlineTypeB(K5, col_names_x, col_names_y, \n",
    "                            idKaros, idKarosx, idKarosy)\n",
    "\n",
    "# separate type C tables based on the suffixes, rename the columns, and \n",
    "# concatenate vertically, and finally extract the columns that contain the data.\n",
    "# the cleaned up dataset is added with suffix '_c'\n",
    "def streamlineTypeC(dataset, colx, coly, ID, IDx, IDy):\n",
    "    dataset_x = dataset[dataset[IDx].notna()].loc[:, IDx:'Fehlerhaft_Fahrleistung.x'].rename(columns=colx)\n",
    "    dataset_y = dataset[dataset[IDy].notna()].loc[:, IDy:'Fehlerhaft_Fahrleistung.y'].rename(columns=coly)\n",
    "    dataset_  = dataset[dataset[ID].notna()]\n",
    "    dataset_x = dataset_x.rename(columns={IDx : ID})\n",
    "    dataset_y = dataset_y.rename(columns={IDy : ID})\n",
    "    dataset_  = dataset_.loc[:, ID:'Fehlerhaft_Fahrleistung']    \n",
    "    dataset_c = pd.concat([dataset_x, dataset_y, dataset_], axis=0).reset_index(drop=True)\n",
    "    return dataset_c\n",
    "\n",
    "K1DI1_c = streamlineTypeC(K1DI1, col_names_x, col_names_y,\n",
    "                          idMotor, idMotorx, idMotory)\n",
    "K3AG1_c = streamlineTypeC(K3AG1, col_names_x, col_names_y,\n",
    "                          idSchalt, idSchaltx, idSchalty)\n",
    "K2ST1_c = K2ST1.loc[:, idSitze:'Fehlerhaft_Fahrleistung']"
   ]
  },
  {
   "cell_type": "code",
   "execution_count": 45,
   "metadata": {},
   "outputs": [],
   "source": [
    "def addProduktionsDatum(dataset):\n",
    "    dataset['Produktionsdatum'] = dataset['origin'] + pd.to_timedelta(dataset['Produktionsdatum_Origin_01011970'].astype('int'), unit='days')\n",
    "    return dataset\n",
    "\n",
    "def reformatDataset(dataset, ID):\n",
    "    dataset_c = pd.concat([dataset.loc[:,ID], \n",
    "                           dataset.loc[:,'Produktionsdatum'], \n",
    "                           dataset.loc[:,'Herstellernummer':'Fehlerhaft_Fahrleistung']], axis=1)\n",
    "    return dataset_c\n",
    "\n",
    "K1BE1_c = reformatDataset(addProduktionsDatum(K1BE1), idMotor)\n",
    "K1BE2_c = reformatDataset(addProduktionsDatum(K1BE2), idMotor)\n",
    "K1DI2_c = reformatDataset(addProduktionsDatum(K1DI2), idMotor)\n",
    "K2LE2_c = reformatDataset(addProduktionsDatum(K2LE2), idSitze)\n",
    "K2ST2_c = reformatDataset(addProduktionsDatum(K2ST2), idSitze)\n",
    "K3AG2_c = reformatDataset(addProduktionsDatum(K3AG2), idSchalt)\n",
    "K3SG2_c = reformatDataset(addProduktionsDatum(K3SG2), idSchalt)\n",
    "K6_c    = reformatDataset(addProduktionsDatum(K6), idKaros)\n",
    "K7_c    = reformatDataset(addProduktionsDatum(K7), idKaros)\n",
    "\n",
    "# classify the components into list based on the types of components (Motor, Sitze, Schaltung, and Karosserie)\n",
    "motorList      = [K1BE1_c, K1BE2_c, K1DI1_c, K1DI2_c]\n",
    "sitzeList      = [K2LE1_c, K2LE2_c, K2ST1_c, K2ST2_c]\n",
    "schaltungList  = [K3AG1_c, K3AG2_c, K3SG1_c, K3SG2_c]\n",
    "karosserieList = [K4_c, K5_c, K6_c, K7_c]\n",
    "\n",
    "motorName      = ['K1BE1', 'K1BE2', 'K1DI1', 'K1DI2']\n",
    "sitzeName      = ['K2LE1', 'K2LE2', 'K2ST1', 'K2ST2']\n",
    "schaltungName  = ['K3AG1', 'K3AG2', 'K3SG1', 'K3SG2']\n",
    "karosserieName = ['K4', 'K5', 'K6', 'K7']\n",
    "\n",
    "# checks for duplicates in the components datalists and drop them if preset\n",
    "def dropDuplicates(datasetList):\n",
    "    for i in range(len(datasetList)):\n",
    "        datasetList[i] = datasetList[i].drop_duplicates()\n",
    "        datasetList[i] = datasetList[i].reset_index(drop=True)\n",
    "    return datasetList\n",
    "\n",
    "motorList      = dropDuplicates(motorList)\n",
    "sitzeList      = dropDuplicates(sitzeList)\n",
    "schaltungList  = dropDuplicates(schaltungList)\n",
    "karosserieList = dropDuplicates(karosserieList)\n"
   ]
  },
  {
   "cell_type": "markdown",
   "metadata": {},
   "source": [
    "Now with all the datasets clean and proper, we can start doing the case analysis. In this case study, the components produced between January 1st, 2009 and December 31st, 2015 are considered. \n",
    "\n",
    "First, we filter out the components that is not produced within the considered time period."
   ]
  },
  {
   "cell_type": "code",
   "execution_count": 46,
   "metadata": {},
   "outputs": [],
   "source": [
    "# create a function that will extract the dataset within the specified time period\n",
    "def timePeriodFilter(dataset, ID):\n",
    "    startDate = '2008-01-01'\n",
    "    endDate   = '2016-12-31'\n",
    "    dataset_ = pd.concat([dataset[(dataset['Produktionsdatum'] >= startDate) & \n",
    "                                       (dataset['Produktionsdatum'] <= endDate)].loc[:,[ID,'Produktionsdatum']],\n",
    "                                       dataset[(dataset['Produktionsdatum'] >= startDate) & \n",
    "                                       (dataset['Produktionsdatum'] <= endDate)].loc[:,'Herstellernummer':'Fehlerhaft_Fahrleistung']],\n",
    "                                       axis=1).reset_index(drop=True)\n",
    "    return dataset_\n",
    "\n",
    "# the function below will slice all the components dataset to the specified time range\n",
    "def component_(datasetList, ID):\n",
    "    datasetlist_ = []\n",
    "    for dataset in datasetList:\n",
    "        datasetlist_.append(timePeriodFilter(dataset, ID))\n",
    "    return datasetlist_\n",
    "\n",
    "motorList_      = component_(motorList, idMotor)\n",
    "sitzeList_      = component_(sitzeList, idSitze)\n",
    "schaltungList_  = component_(schaltungList, idSchalt)\n",
    "karosserieList_ = component_(karosserieList, idKaros)"
   ]
  },
  {
   "cell_type": "markdown",
   "metadata": {},
   "source": [
    "Now, we create the cleaned dataset that contains all the components information for components produced during the analysis period. The columns consist component type, part number, date of production, supplier number, plant number, failure status, date of failure, and failure mileage. First, we concatenate all the components of the same type and then concatenate all the components together."
   ]
  },
  {
   "cell_type": "code",
   "execution_count": 47,
   "metadata": {},
   "outputs": [],
   "source": [
    "# create a function to concatenate the datasets of each component type, merge the component dataset with the vehicle dataset,\n",
    "# and rename the ID columns of all the dataset.\n",
    "def concatenateDataset(datasetList_, id):\n",
    "    for i in (1, len(motorList_) - 1):\n",
    "        datasetList_all = pd.concat([datasetList_[0], datasetList_[i]], axis=0)\n",
    "        datasetList_[0]  = datasetList_all\n",
    "    datasetList_all = datasetList_all.rename(columns={id:'ID'})\n",
    "    return datasetList_all\n",
    "\n",
    "# concatenate the components based on type\n",
    "motorList_all      = concatenateDataset(motorList_, idMotor)\n",
    "sitzeList_all      = concatenateDataset(sitzeList_, idSitze)\n",
    "schaltungList_all  = concatenateDataset(schaltungList_, idSchalt)\n",
    "karosserieList_all = concatenateDataset(karosserieList_, idKaros)\n",
    "\n",
    "# concatenate all the components into a single dataset\n",
    "komponente_all = pd.concat([motorList_all,\n",
    "                                          sitzeList_all,\n",
    "                                          schaltungList_all,\n",
    "                                          karosserieList_all], axis=0, join='inner')\n",
    "\n",
    "# set the Herstellernummer, Werksnummer, and Fehlerhaft columns as int\n",
    "int_col = ['Herstellernummer','Werksnummer','Fehlerhaft']\n",
    "komponente_all[int_col] = komponente_all[int_col].astype('int')\n",
    "\n",
    "# save the cleaned file to the final dataset\n",
    "komponente_all.to_csv('Final_dataset_group_33.csv')"
   ]
  },
  {
   "cell_type": "markdown",
   "metadata": {},
   "source": [
    "The case study requirements are as the following:\n",
    "1. Relative defects for components supplied by each plants\n",
    "2. Find out the product groups where defects are dominant\n",
    "3. Decide if product group inspection or comprehensive inspection is necessary"
   ]
  },
  {
   "cell_type": "markdown",
   "metadata": {},
   "source": [
    "We start with the first requirement: Relative defects for components supplied by each plants. \n",
    "\n",
    "First, we list the plants, calculate the annual volumes, calculate the defective components' annual volumes produced by the plants, and calculate its relative frequency."
   ]
  },
  {
   "cell_type": "code",
   "execution_count": 48,
   "metadata": {},
   "outputs": [],
   "source": [
    "# find the number of plants that produce the components and \n",
    "# make a list of plants\n",
    "plantList = komponente_all['Werksnummer'].unique()\n",
    "plantList\n",
    "\n",
    "# set the production year\n",
    "productionYear = [2008, 2009, 2010, 2011, 2012, 2013, 2014, 2015, 2016]"
   ]
  },
  {
   "cell_type": "code",
   "execution_count": 49,
   "metadata": {},
   "outputs": [],
   "source": [
    "plantProd  = []\n",
    "for year in productionYear:\n",
    "    for plant in plantList:\n",
    "        totalVolume  = komponente_all.loc[\n",
    "                                (komponente_all['Werksnummer'] == plant)\n",
    "                              & (komponente_all['Produktionsdatum'].dt.year == year)].shape[0]\n",
    "        defectVolume = komponente_all[\n",
    "                                (komponente_all['Werksnummer'] == plant)\n",
    "                              & (komponente_all['Produktionsdatum'].dt.year == year)\n",
    "                              & (komponente_all['Fehlerhaft'] == 1)].shape[0]\n",
    "        if (totalVolume != 0) & (defectVolume != 0):\n",
    "            relativeFreq = defectVolume / totalVolume\n",
    "            relativeFreqPercentage = relativeFreq * 100\n",
    "        else: \n",
    "            relativeFreq == 0\n",
    "        plantProd.append([year, plant, totalVolume, defectVolume, relativeFreq, relativeFreqPercentage])\n",
    "\n",
    "plantList_relFrq = pd.DataFrame(plantProd,\n",
    "                                columns=['year', 'werksnummer', 'totalVolume', 'defectVolume', 'relativeFreq', 'relativeFreqPercentage'])"
   ]
  },
  {
   "cell_type": "code",
   "execution_count": 50,
   "metadata": {},
   "outputs": [],
   "source": [
    "# assign the plant name to its respective annual volumentric relative frequency dataset\n",
    "plant1011 = plantList_relFrq[plantList_relFrq['werksnummer'] == 1011]\n",
    "plant1041 = plantList_relFrq[plantList_relFrq['werksnummer'] == 1041]\n",
    "plant1021 = plantList_relFrq[plantList_relFrq['werksnummer'] == 1021]\n",
    "plant1031 = plantList_relFrq[plantList_relFrq['werksnummer'] == 1031]\n",
    "plant1091 = plantList_relFrq[plantList_relFrq['werksnummer'] == 1091]\n",
    "plant1111 = plantList_relFrq[plantList_relFrq['werksnummer'] == 1111]\n",
    "plant1092 = plantList_relFrq[plantList_relFrq['werksnummer'] == 1092]\n",
    "plant1101 = plantList_relFrq[plantList_relFrq['werksnummer'] == 1101]\n",
    "plant1051 = plantList_relFrq[plantList_relFrq['werksnummer'] == 1051]\n",
    "plant1061 = plantList_relFrq[plantList_relFrq['werksnummer'] == 1061]\n",
    "plant1082 = plantList_relFrq[plantList_relFrq['werksnummer'] == 1082]\n",
    "plant1081 = plantList_relFrq[plantList_relFrq['werksnummer'] == 1081]\n",
    "plant1072 = plantList_relFrq[plantList_relFrq['werksnummer'] == 1072]\n",
    "plant1121 = plantList_relFrq[plantList_relFrq['werksnummer'] == 1121]\n",
    "plant1141 = plantList_relFrq[plantList_relFrq['werksnummer'] == 1141]\n",
    "plant1122 = plantList_relFrq[plantList_relFrq['werksnummer'] == 1122]\n",
    "plant1131 = plantList_relFrq[plantList_relFrq['werksnummer'] == 1131]\n",
    "plant1142 = plantList_relFrq[plantList_relFrq['werksnummer'] == 1142]\n",
    "plant1132 = plantList_relFrq[plantList_relFrq['werksnummer'] == 1132]"
   ]
  },
  {
   "cell_type": "code",
   "execution_count": 64,
   "metadata": {},
   "outputs": [
    {
     "data": {
      "application/vnd.plotly.v1+json": {
       "config": {
        "plotlyServerURL": "https://plot.ly"
       },
       "data": [
        {
         "mode": "lines+markers",
         "name": "1011 Failure Relative Frequency",
         "type": "scatter",
         "x": [
          2008,
          2009,
          2010,
          2011,
          2012,
          2013,
          2014,
          2015,
          2016
         ],
         "y": [
          17.55164286704561,
          17.41176470588235,
          17.512841308461745,
          17.715718641193558,
          17.72367135776564,
          17.824931769298896,
          17.556975544412868,
          17.524394651246837,
          17.781916544720854
         ]
        },
        {
         "mode": "lines+markers",
         "name": "1041 Failure Relative Frequency",
         "type": "scatter",
         "x": [
          2008,
          2009,
          2010,
          2011,
          2012,
          2013,
          2014,
          2015,
          2016
         ],
         "y": [
          17.220686003412368,
          17.43387403185737,
          17.399721887172237,
          17.578460877042133,
          17.45449804032858,
          17.573740688528883,
          17.571295734167393,
          17.423486998542607,
          17.572221159364837
         ]
        },
        {
         "mode": "lines+markers",
         "name": "1021 Failure Relative Frequency",
         "type": "scatter",
         "x": [
          2008,
          2009,
          2010,
          2011,
          2012,
          2013,
          2014,
          2015,
          2016
         ],
         "y": [
          12.031952071892162,
          12.227486072728867,
          12.110977080820264,
          12.481374353580508,
          12.578698845750264,
          12.606701630422856,
          12.821914214507455,
          12.367296594863662,
          12.447315952855664
         ]
        },
        {
         "mode": "lines+markers",
         "name": "1031 Failure Relative Frequency",
         "type": "scatter",
         "x": [
          2008,
          2009,
          2010,
          2011,
          2012,
          2013,
          2014,
          2015,
          2016
         ],
         "y": [
          9.200438116100766,
          10.119658119658121,
          10.259797446059004,
          10.2958349552355,
          10.147315371195969,
          10.0179498374812,
          9.933999805881783,
          9.636496706513784,
          10.079005460671546
         ]
        },
        {
         "mode": "lines+markers",
         "name": "1091 Failure Relative Frequency",
         "type": "scatter",
         "x": [
          2008,
          2009,
          2010,
          2011,
          2012,
          2013,
          2014,
          2015,
          2016
         ],
         "y": [
          8.30467456374984,
          9.141316001072099,
          8.993981659988934,
          8.92895973771808,
          9.325345141964053,
          8.916105327617881,
          9.138292172049296,
          8.87854950115119,
          9.107422486689634
         ]
        }
       ],
       "layout": {
        "template": {
         "data": {
          "bar": [
           {
            "error_x": {
             "color": "#2a3f5f"
            },
            "error_y": {
             "color": "#2a3f5f"
            },
            "marker": {
             "line": {
              "color": "#E5ECF6",
              "width": 0.5
             },
             "pattern": {
              "fillmode": "overlay",
              "size": 10,
              "solidity": 0.2
             }
            },
            "type": "bar"
           }
          ],
          "barpolar": [
           {
            "marker": {
             "line": {
              "color": "#E5ECF6",
              "width": 0.5
             },
             "pattern": {
              "fillmode": "overlay",
              "size": 10,
              "solidity": 0.2
             }
            },
            "type": "barpolar"
           }
          ],
          "carpet": [
           {
            "aaxis": {
             "endlinecolor": "#2a3f5f",
             "gridcolor": "white",
             "linecolor": "white",
             "minorgridcolor": "white",
             "startlinecolor": "#2a3f5f"
            },
            "baxis": {
             "endlinecolor": "#2a3f5f",
             "gridcolor": "white",
             "linecolor": "white",
             "minorgridcolor": "white",
             "startlinecolor": "#2a3f5f"
            },
            "type": "carpet"
           }
          ],
          "choropleth": [
           {
            "colorbar": {
             "outlinewidth": 0,
             "ticks": ""
            },
            "type": "choropleth"
           }
          ],
          "contour": [
           {
            "colorbar": {
             "outlinewidth": 0,
             "ticks": ""
            },
            "colorscale": [
             [
              0,
              "#0d0887"
             ],
             [
              0.1111111111111111,
              "#46039f"
             ],
             [
              0.2222222222222222,
              "#7201a8"
             ],
             [
              0.3333333333333333,
              "#9c179e"
             ],
             [
              0.4444444444444444,
              "#bd3786"
             ],
             [
              0.5555555555555556,
              "#d8576b"
             ],
             [
              0.6666666666666666,
              "#ed7953"
             ],
             [
              0.7777777777777778,
              "#fb9f3a"
             ],
             [
              0.8888888888888888,
              "#fdca26"
             ],
             [
              1,
              "#f0f921"
             ]
            ],
            "type": "contour"
           }
          ],
          "contourcarpet": [
           {
            "colorbar": {
             "outlinewidth": 0,
             "ticks": ""
            },
            "type": "contourcarpet"
           }
          ],
          "heatmap": [
           {
            "colorbar": {
             "outlinewidth": 0,
             "ticks": ""
            },
            "colorscale": [
             [
              0,
              "#0d0887"
             ],
             [
              0.1111111111111111,
              "#46039f"
             ],
             [
              0.2222222222222222,
              "#7201a8"
             ],
             [
              0.3333333333333333,
              "#9c179e"
             ],
             [
              0.4444444444444444,
              "#bd3786"
             ],
             [
              0.5555555555555556,
              "#d8576b"
             ],
             [
              0.6666666666666666,
              "#ed7953"
             ],
             [
              0.7777777777777778,
              "#fb9f3a"
             ],
             [
              0.8888888888888888,
              "#fdca26"
             ],
             [
              1,
              "#f0f921"
             ]
            ],
            "type": "heatmap"
           }
          ],
          "heatmapgl": [
           {
            "colorbar": {
             "outlinewidth": 0,
             "ticks": ""
            },
            "colorscale": [
             [
              0,
              "#0d0887"
             ],
             [
              0.1111111111111111,
              "#46039f"
             ],
             [
              0.2222222222222222,
              "#7201a8"
             ],
             [
              0.3333333333333333,
              "#9c179e"
             ],
             [
              0.4444444444444444,
              "#bd3786"
             ],
             [
              0.5555555555555556,
              "#d8576b"
             ],
             [
              0.6666666666666666,
              "#ed7953"
             ],
             [
              0.7777777777777778,
              "#fb9f3a"
             ],
             [
              0.8888888888888888,
              "#fdca26"
             ],
             [
              1,
              "#f0f921"
             ]
            ],
            "type": "heatmapgl"
           }
          ],
          "histogram": [
           {
            "marker": {
             "pattern": {
              "fillmode": "overlay",
              "size": 10,
              "solidity": 0.2
             }
            },
            "type": "histogram"
           }
          ],
          "histogram2d": [
           {
            "colorbar": {
             "outlinewidth": 0,
             "ticks": ""
            },
            "colorscale": [
             [
              0,
              "#0d0887"
             ],
             [
              0.1111111111111111,
              "#46039f"
             ],
             [
              0.2222222222222222,
              "#7201a8"
             ],
             [
              0.3333333333333333,
              "#9c179e"
             ],
             [
              0.4444444444444444,
              "#bd3786"
             ],
             [
              0.5555555555555556,
              "#d8576b"
             ],
             [
              0.6666666666666666,
              "#ed7953"
             ],
             [
              0.7777777777777778,
              "#fb9f3a"
             ],
             [
              0.8888888888888888,
              "#fdca26"
             ],
             [
              1,
              "#f0f921"
             ]
            ],
            "type": "histogram2d"
           }
          ],
          "histogram2dcontour": [
           {
            "colorbar": {
             "outlinewidth": 0,
             "ticks": ""
            },
            "colorscale": [
             [
              0,
              "#0d0887"
             ],
             [
              0.1111111111111111,
              "#46039f"
             ],
             [
              0.2222222222222222,
              "#7201a8"
             ],
             [
              0.3333333333333333,
              "#9c179e"
             ],
             [
              0.4444444444444444,
              "#bd3786"
             ],
             [
              0.5555555555555556,
              "#d8576b"
             ],
             [
              0.6666666666666666,
              "#ed7953"
             ],
             [
              0.7777777777777778,
              "#fb9f3a"
             ],
             [
              0.8888888888888888,
              "#fdca26"
             ],
             [
              1,
              "#f0f921"
             ]
            ],
            "type": "histogram2dcontour"
           }
          ],
          "mesh3d": [
           {
            "colorbar": {
             "outlinewidth": 0,
             "ticks": ""
            },
            "type": "mesh3d"
           }
          ],
          "parcoords": [
           {
            "line": {
             "colorbar": {
              "outlinewidth": 0,
              "ticks": ""
             }
            },
            "type": "parcoords"
           }
          ],
          "pie": [
           {
            "automargin": true,
            "type": "pie"
           }
          ],
          "scatter": [
           {
            "fillpattern": {
             "fillmode": "overlay",
             "size": 10,
             "solidity": 0.2
            },
            "type": "scatter"
           }
          ],
          "scatter3d": [
           {
            "line": {
             "colorbar": {
              "outlinewidth": 0,
              "ticks": ""
             }
            },
            "marker": {
             "colorbar": {
              "outlinewidth": 0,
              "ticks": ""
             }
            },
            "type": "scatter3d"
           }
          ],
          "scattercarpet": [
           {
            "marker": {
             "colorbar": {
              "outlinewidth": 0,
              "ticks": ""
             }
            },
            "type": "scattercarpet"
           }
          ],
          "scattergeo": [
           {
            "marker": {
             "colorbar": {
              "outlinewidth": 0,
              "ticks": ""
             }
            },
            "type": "scattergeo"
           }
          ],
          "scattergl": [
           {
            "marker": {
             "colorbar": {
              "outlinewidth": 0,
              "ticks": ""
             }
            },
            "type": "scattergl"
           }
          ],
          "scattermapbox": [
           {
            "marker": {
             "colorbar": {
              "outlinewidth": 0,
              "ticks": ""
             }
            },
            "type": "scattermapbox"
           }
          ],
          "scatterpolar": [
           {
            "marker": {
             "colorbar": {
              "outlinewidth": 0,
              "ticks": ""
             }
            },
            "type": "scatterpolar"
           }
          ],
          "scatterpolargl": [
           {
            "marker": {
             "colorbar": {
              "outlinewidth": 0,
              "ticks": ""
             }
            },
            "type": "scatterpolargl"
           }
          ],
          "scatterternary": [
           {
            "marker": {
             "colorbar": {
              "outlinewidth": 0,
              "ticks": ""
             }
            },
            "type": "scatterternary"
           }
          ],
          "surface": [
           {
            "colorbar": {
             "outlinewidth": 0,
             "ticks": ""
            },
            "colorscale": [
             [
              0,
              "#0d0887"
             ],
             [
              0.1111111111111111,
              "#46039f"
             ],
             [
              0.2222222222222222,
              "#7201a8"
             ],
             [
              0.3333333333333333,
              "#9c179e"
             ],
             [
              0.4444444444444444,
              "#bd3786"
             ],
             [
              0.5555555555555556,
              "#d8576b"
             ],
             [
              0.6666666666666666,
              "#ed7953"
             ],
             [
              0.7777777777777778,
              "#fb9f3a"
             ],
             [
              0.8888888888888888,
              "#fdca26"
             ],
             [
              1,
              "#f0f921"
             ]
            ],
            "type": "surface"
           }
          ],
          "table": [
           {
            "cells": {
             "fill": {
              "color": "#EBF0F8"
             },
             "line": {
              "color": "white"
             }
            },
            "header": {
             "fill": {
              "color": "#C8D4E3"
             },
             "line": {
              "color": "white"
             }
            },
            "type": "table"
           }
          ]
         },
         "layout": {
          "annotationdefaults": {
           "arrowcolor": "#2a3f5f",
           "arrowhead": 0,
           "arrowwidth": 1
          },
          "autotypenumbers": "strict",
          "coloraxis": {
           "colorbar": {
            "outlinewidth": 0,
            "ticks": ""
           }
          },
          "colorscale": {
           "diverging": [
            [
             0,
             "#8e0152"
            ],
            [
             0.1,
             "#c51b7d"
            ],
            [
             0.2,
             "#de77ae"
            ],
            [
             0.3,
             "#f1b6da"
            ],
            [
             0.4,
             "#fde0ef"
            ],
            [
             0.5,
             "#f7f7f7"
            ],
            [
             0.6,
             "#e6f5d0"
            ],
            [
             0.7,
             "#b8e186"
            ],
            [
             0.8,
             "#7fbc41"
            ],
            [
             0.9,
             "#4d9221"
            ],
            [
             1,
             "#276419"
            ]
           ],
           "sequential": [
            [
             0,
             "#0d0887"
            ],
            [
             0.1111111111111111,
             "#46039f"
            ],
            [
             0.2222222222222222,
             "#7201a8"
            ],
            [
             0.3333333333333333,
             "#9c179e"
            ],
            [
             0.4444444444444444,
             "#bd3786"
            ],
            [
             0.5555555555555556,
             "#d8576b"
            ],
            [
             0.6666666666666666,
             "#ed7953"
            ],
            [
             0.7777777777777778,
             "#fb9f3a"
            ],
            [
             0.8888888888888888,
             "#fdca26"
            ],
            [
             1,
             "#f0f921"
            ]
           ],
           "sequentialminus": [
            [
             0,
             "#0d0887"
            ],
            [
             0.1111111111111111,
             "#46039f"
            ],
            [
             0.2222222222222222,
             "#7201a8"
            ],
            [
             0.3333333333333333,
             "#9c179e"
            ],
            [
             0.4444444444444444,
             "#bd3786"
            ],
            [
             0.5555555555555556,
             "#d8576b"
            ],
            [
             0.6666666666666666,
             "#ed7953"
            ],
            [
             0.7777777777777778,
             "#fb9f3a"
            ],
            [
             0.8888888888888888,
             "#fdca26"
            ],
            [
             1,
             "#f0f921"
            ]
           ]
          },
          "colorway": [
           "#636efa",
           "#EF553B",
           "#00cc96",
           "#ab63fa",
           "#FFA15A",
           "#19d3f3",
           "#FF6692",
           "#B6E880",
           "#FF97FF",
           "#FECB52"
          ],
          "font": {
           "color": "#2a3f5f"
          },
          "geo": {
           "bgcolor": "white",
           "lakecolor": "white",
           "landcolor": "#E5ECF6",
           "showlakes": true,
           "showland": true,
           "subunitcolor": "white"
          },
          "hoverlabel": {
           "align": "left"
          },
          "hovermode": "closest",
          "mapbox": {
           "style": "light"
          },
          "paper_bgcolor": "white",
          "plot_bgcolor": "#E5ECF6",
          "polar": {
           "angularaxis": {
            "gridcolor": "white",
            "linecolor": "white",
            "ticks": ""
           },
           "bgcolor": "#E5ECF6",
           "radialaxis": {
            "gridcolor": "white",
            "linecolor": "white",
            "ticks": ""
           }
          },
          "scene": {
           "xaxis": {
            "backgroundcolor": "#E5ECF6",
            "gridcolor": "white",
            "gridwidth": 2,
            "linecolor": "white",
            "showbackground": true,
            "ticks": "",
            "zerolinecolor": "white"
           },
           "yaxis": {
            "backgroundcolor": "#E5ECF6",
            "gridcolor": "white",
            "gridwidth": 2,
            "linecolor": "white",
            "showbackground": true,
            "ticks": "",
            "zerolinecolor": "white"
           },
           "zaxis": {
            "backgroundcolor": "#E5ECF6",
            "gridcolor": "white",
            "gridwidth": 2,
            "linecolor": "white",
            "showbackground": true,
            "ticks": "",
            "zerolinecolor": "white"
           }
          },
          "shapedefaults": {
           "line": {
            "color": "#2a3f5f"
           }
          },
          "ternary": {
           "aaxis": {
            "gridcolor": "white",
            "linecolor": "white",
            "ticks": ""
           },
           "baxis": {
            "gridcolor": "white",
            "linecolor": "white",
            "ticks": ""
           },
           "bgcolor": "#E5ECF6",
           "caxis": {
            "gridcolor": "white",
            "linecolor": "white",
            "ticks": ""
           }
          },
          "title": {
           "x": 0.05
          },
          "xaxis": {
           "automargin": true,
           "gridcolor": "white",
           "linecolor": "white",
           "ticks": "",
           "title": {
            "standoff": 15
           },
           "zerolinecolor": "white",
           "zerolinewidth": 2
          },
          "yaxis": {
           "automargin": true,
           "gridcolor": "white",
           "linecolor": "white",
           "ticks": "",
           "title": {
            "standoff": 15
           },
           "zerolinecolor": "white",
           "zerolinewidth": 2
          }
         }
        }
       }
      }
     },
     "metadata": {},
     "output_type": "display_data"
    }
   ],
   "source": [
    "fig = go.Figure()\n",
    "fig.add_trace(go.Scatter(x = plant1011['year'], y = plant1011['relativeFreqPercentage'], \n",
    "                         mode='lines+markers', name='1011 Failure Relative Frequency'))\n",
    "fig.add_trace(go.Scatter(x = plant1041['year'], y = plant1041['relativeFreqPercentage'], \n",
    "                         mode='lines+markers', name='1041 Failure Relative Frequency'))\n",
    "fig.add_trace(go.Scatter(x = plant1021['year'], y = plant1021['relativeFreqPercentage'], \n",
    "                         mode='lines+markers', name='1021 Failure Relative Frequency'))\n",
    "fig.add_trace(go.Scatter(x = plant1031['year'], y = plant1031['relativeFreqPercentage'], \n",
    "                         mode='lines+markers', name='1031 Failure Relative Frequency'))\n",
    "fig.add_trace(go.Scatter(x = plant1091['year'], y = plant1091['relativeFreqPercentage'], \n",
    "                         mode='lines+markers', name='1091 Failure Relative Frequency'))\n",
    "fig.show()"
   ]
  },
  {
   "cell_type": "code",
   "execution_count": 69,
   "metadata": {},
   "outputs": [
    {
     "data": {
      "text/plain": [
       "100    19.845147\n",
       "95     17.824932\n",
       "96     17.573741\n",
       "103    12.741376\n",
       "97     12.606702\n",
       "Name: relativeFreqPercentage, dtype: float64"
      ]
     },
     "execution_count": 69,
     "metadata": {},
     "output_type": "execute_result"
    }
   ],
   "source": [
    "plantList_relFrq[plantList_relFrq['year'] == 2013].loc[:,'relativeFreqPercentage'].sort_values(ascending=False).head()"
   ]
  }
 ],
 "metadata": {
  "kernelspec": {
   "display_name": "miniconda3",
   "language": "python",
   "name": "python3"
  },
  "language_info": {
   "codemirror_mode": {
    "name": "ipython",
    "version": 3
   },
   "file_extension": ".py",
   "mimetype": "text/x-python",
   "name": "python",
   "nbconvert_exporter": "python",
   "pygments_lexer": "ipython3",
   "version": "3.12.3"
  }
 },
 "nbformat": 4,
 "nbformat_minor": 2
}
